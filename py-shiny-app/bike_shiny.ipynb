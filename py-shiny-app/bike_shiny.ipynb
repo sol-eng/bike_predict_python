{
 "cells": [
  {
   "cell_type": "code",
   "execution_count": 20,
   "id": "668b619a-0ba7-47e8-9c82-f440743a8b8a",
   "metadata": {},
   "outputs": [],
   "source": [
    "from shiny import *\n",
    "import pins\n",
    "import requests as req\n",
    "import pandas as pd\n",
    "import matplotlib.pyplot as plt\n",
    "from matplotlib.dates import DateFormatter"
   ]
  },
  {
   "cell_type": "code",
   "execution_count": 2,
   "id": "dcc0df36-590a-4f3d-a185-d704e49935d2",
   "metadata": {},
   "outputs": [],
   "source": [
    "%load_ext dotenv\n",
    "%dotenv"
   ]
  },
  {
   "cell_type": "code",
   "execution_count": 3,
   "id": "a23b13a9-47f3-4747-b18e-a090b66075e9",
   "metadata": {
    "tags": []
   },
   "outputs": [
    {
     "data": {
      "text/html": [
       "<div>\n",
       "<style scoped>\n",
       "    .dataframe tbody tr th:only-of-type {\n",
       "        vertical-align: middle;\n",
       "    }\n",
       "\n",
       "    .dataframe tbody tr th {\n",
       "        vertical-align: top;\n",
       "    }\n",
       "\n",
       "    .dataframe thead th {\n",
       "        text-align: right;\n",
       "    }\n",
       "</style>\n",
       "<table border=\"1\" class=\"dataframe\">\n",
       "  <thead>\n",
       "    <tr style=\"text-align: right;\">\n",
       "      <th></th>\n",
       "      <th>station_id</th>\n",
       "      <th>name</th>\n",
       "      <th>lat</th>\n",
       "      <th>lon</th>\n",
       "    </tr>\n",
       "  </thead>\n",
       "  <tbody>\n",
       "    <tr>\n",
       "      <th>0</th>\n",
       "      <td>1</td>\n",
       "      <td>Eads St &amp; 15th St S</td>\n",
       "      <td>38.858971</td>\n",
       "      <td>-77.053230</td>\n",
       "    </tr>\n",
       "    <tr>\n",
       "      <th>1</th>\n",
       "      <td>2</td>\n",
       "      <td>18th St &amp; S Eads St</td>\n",
       "      <td>38.857250</td>\n",
       "      <td>-77.053320</td>\n",
       "    </tr>\n",
       "    <tr>\n",
       "      <th>2</th>\n",
       "      <td>3</td>\n",
       "      <td>Crystal Dr &amp; 20th St S</td>\n",
       "      <td>38.856425</td>\n",
       "      <td>-77.049232</td>\n",
       "    </tr>\n",
       "    <tr>\n",
       "      <th>3</th>\n",
       "      <td>4</td>\n",
       "      <td>Crystal Dr &amp; 15th St S</td>\n",
       "      <td>38.860170</td>\n",
       "      <td>-77.049593</td>\n",
       "    </tr>\n",
       "    <tr>\n",
       "      <th>4</th>\n",
       "      <td>5</td>\n",
       "      <td>Aurora Hills Cmty Ctr / 18th St &amp; S Hayes St</td>\n",
       "      <td>38.857866</td>\n",
       "      <td>-77.059490</td>\n",
       "    </tr>\n",
       "  </tbody>\n",
       "</table>\n",
       "</div>"
      ],
      "text/plain": [
       "   station_id                                          name        lat  \\\n",
       "0           1                           Eads St & 15th St S  38.858971   \n",
       "1           2                           18th St & S Eads St  38.857250   \n",
       "2           3                        Crystal Dr & 20th St S  38.856425   \n",
       "3           4                        Crystal Dr & 15th St S  38.860170   \n",
       "4           5  Aurora Hills Cmty Ctr / 18th St & S Hayes St  38.857866   \n",
       "\n",
       "         lon  \n",
       "0 -77.053230  \n",
       "1 -77.053320  \n",
       "2 -77.049232  \n",
       "3 -77.049593  \n",
       "4 -77.059490  "
      ]
     },
     "execution_count": 3,
     "metadata": {},
     "output_type": "execute_result"
    }
   ],
   "source": [
    "board = pins.board_rsconnect(server_url=\"https://colorado.rstudio.com/rsc\")\n",
    "df_stations = board.pin_read(\"alex.gold/bike_station_info\")\n",
    "df_stations.head()"
   ]
  },
  {
   "cell_type": "code",
   "execution_count": 4,
   "id": "6cf5756d-e2b1-4086-9a45-2c4d83f15954",
   "metadata": {},
   "outputs": [],
   "source": [
    "location_options = {\n",
    "    str(df_stations[\"station_id\"][l]): df_stations[\"name\"][l] for l in df_stations.index\n",
    "    }"
   ]
  },
  {
   "cell_type": "code",
   "execution_count": 5,
   "id": "c25abf11-d448-4dd6-823c-353d1d0067f0",
   "metadata": {},
   "outputs": [
    {
     "data": {
      "text/plain": [
       "'Eads St & 15th St S'"
      ]
     },
     "execution_count": 5,
     "metadata": {},
     "output_type": "execute_result"
    }
   ],
   "source": [
    "location_options['1']"
   ]
  },
  {
   "cell_type": "code",
   "execution_count": 6,
   "id": "2b265b28-b647-42cb-830c-c33d4410bc68",
   "metadata": {},
   "outputs": [
    {
     "data": {
      "text/plain": [
       "[('1', 'Eads St & 15th St S'),\n",
       " ('2', '18th St & S Eads St'),\n",
       " ('3', 'Crystal Dr & 20th St S'),\n",
       " ('4', 'Crystal Dr & 15th St S'),\n",
       " ('5', 'Aurora Hills Cmty Ctr / 18th St & S Hayes St')]"
      ]
     },
     "execution_count": 6,
     "metadata": {},
     "output_type": "execute_result"
    }
   ],
   "source": [
    "[(key, location_options[key]) for key in location_options][:5]"
   ]
  },
  {
   "cell_type": "code",
   "execution_count": 25,
   "id": "834b8a4a-6ed9-407c-a2be-158212cb29b2",
   "metadata": {},
   "outputs": [],
   "source": [
    "app_ui = ui.page_fluid(\n",
    "    ui.input_select(\"station_name\", \"Select input\", location_options),\n",
    "    ui.output_text_verbatim(\"txt\"),\n",
    ")"
   ]
  },
  {
   "cell_type": "code",
   "execution_count": 28,
   "id": "f6c14c15-2257-483e-bccf-534d358ce7e6",
   "metadata": {},
   "outputs": [
    {
     "name": "stdout",
     "output_type": "stream",
     "text": [
      "Object `shiny.Inputs` not found.\n"
     ]
    }
   ],
   "source": [
    "shiny.Inputs?"
   ]
  },
  {
   "cell_type": "code",
   "execution_count": 7,
   "id": "d9c05c62-2ede-4169-b47a-c6863abb3531",
   "metadata": {},
   "outputs": [],
   "source": [
    "def server(input1: Inputs, output: Outputs, session: Session):\n",
    "    @output()\n",
    "    @render_text()\n",
    "    def txt():\n",
    "        return f'x: \"{location_options[input1.x()]}\"'"
   ]
  },
  {
   "cell_type": "code",
   "execution_count": 8,
   "id": "ed22264f-b1c3-4072-b1b4-ca82170c1324",
   "metadata": {},
   "outputs": [],
   "source": [
    "r = req.get(\n",
    "        \"https://colorado.rstudio.com/rsc/bike_predict_api/pred\",\n",
    "        params={\"station_id\": '1'},\n",
    "        )"
   ]
  },
  {
   "cell_type": "code",
   "execution_count": 9,
   "id": "1fcb9891-1228-4929-bcd8-d96abec75c91",
   "metadata": {},
   "outputs": [],
   "source": [
    "prediction = pd.DataFrame.from_dict(r.json())"
   ]
  },
  {
   "cell_type": "code",
   "execution_count": null,
   "id": "766f6ba9-361d-4c40-8fca-3e8aecc5c080",
   "metadata": {},
   "outputs": [],
   "source": []
  },
  {
   "cell_type": "code",
   "execution_count": 16,
   "id": "3119221a-4b7c-49db-83a7-6b14684f2b16",
   "metadata": {},
   "outputs": [],
   "source": [
    "import matplotlib.dates as md"
   ]
  },
  {
   "cell_type": "code",
   "execution_count": 10,
   "id": "4e706e24-c907-44c8-a927-8f0a27cac891",
   "metadata": {},
   "outputs": [
    {
     "data": {
      "text/plain": [
       "0    2022-04-28 13:28:03\n",
       "1    2022-04-28 13:38:03\n",
       "2    2022-04-28 13:48:03\n",
       "3    2022-04-28 13:58:03\n",
       "4    2022-04-28 14:08:03\n",
       "Name: times, dtype: object"
      ]
     },
     "execution_count": 10,
     "metadata": {},
     "output_type": "execute_result"
    }
   ],
   "source": [
    "prediction[\"times\"][:5]"
   ]
  },
  {
   "cell_type": "code",
   "execution_count": 28,
   "id": "26bcb43f-84b2-44be-9262-5024f3959c99",
   "metadata": {},
   "outputs": [
    {
     "data": {
      "text/plain": [
       "0    13:28\n",
       "1    13:38\n",
       "2    13:48\n",
       "3    13:58\n",
       "4    14:08\n",
       "Name: times, dtype: object"
      ]
     },
     "execution_count": 28,
     "metadata": {},
     "output_type": "execute_result"
    }
   ],
   "source": [
    "pd.to_datetime(prediction['times'][:5]).dt.strftime(\"%H:%M\")"
   ]
  },
  {
   "cell_type": "code",
   "execution_count": 29,
   "id": "f2b4d030-cbe2-4cfb-ba77-24257c10db2b",
   "metadata": {},
   "outputs": [
    {
     "data": {
      "image/png": "[encoded data removed]",
      "text/plain": [
       "<Figure size 432x288 with 1 Axes>"
      ]
     },
     "metadata": {
      "needs_background": "light"
     },
     "output_type": "display_data"
    }
   ],
   "source": [
    "fig, ax = plt.subplots()"
   ]
  },
  {
   "cell_type": "code",
   "execution_count": 31,
   "id": "7c43fee7-5bfe-4c2c-9f90-c18272dbb2b1",
   "metadata": {},
   "outputs": [
    {
     "data": {
      "image/png": "[encoded data removed]",
      "text/plain": [
       "<Figure size 432x288 with 1 Axes>"
      ]
     },
     "metadata": {
      "needs_background": "light"
     },
     "output_type": "display_data"
    }
   ],
   "source": [
    "plt.plot(pd.to_datetime(prediction['times']).dt.strftime(\"%H:%M\"), prediction[\"pred\"])\n",
    "ax.set(xlabel=\"Time\",\n",
    "       ylabel=\"# of bikes\",\n",
    "       title=\"Bike Availability\")\n",
    "time_form = DateFormatter(\"%H:%M:%S\")\n",
    "ax.xaxis.set_major_formatter(time_form)"
   ]
  },
  {
   "cell_type": "code",
   "execution_count": null,
   "id": "1834ff85-bca2-4004-a82a-a0a4c3b37a8c",
   "metadata": {},
   "outputs": [],
   "source": [
    "app = App(app_ui, server, debug=True)"
   ]
  }
 ],
 "metadata": {
  "kernelspec": {
   "display_name": "py-shiny-app",
   "language": "python",
   "name": "py-shiny-app"
  },
  "language_info": {
   "codemirror_mode": {
    "name": "ipython",
    "version": 3
   },
   "file_extension": ".py",
   "mimetype": "text/x-python",
   "name": "python",
   "nbconvert_exporter": "python",
   "pygments_lexer": "ipython3",
   "version": "3.9.6"
  }
 },
 "nbformat": 4,
 "nbformat_minor": 5
}
