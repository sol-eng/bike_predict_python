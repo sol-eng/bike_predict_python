{
 "cells": [
  {
   "cell_type": "code",
   "execution_count": 13,
   "metadata": {},
   "outputs": [],
   "source": [
    "import pandas as pd\n",
    "import urllib3 as ub\n",
    "import json \n",
    "import datetime\n",
    "import pyodbc\n",
    "import sqlalchemy as sa"
   ]
  },
  {
   "cell_type": "code",
   "execution_count": 10,
   "metadata": {},
   "outputs": [
    {
     "data": {
      "text/html": "<div>\n<style scoped>\n    .dataframe tbody tr th:only-of-type {\n        vertical-align: middle;\n    }\n\n    .dataframe tbody tr th {\n        vertical-align: top;\n    }\n\n    .dataframe thead th {\n        text-align: right;\n    }\n</style>\n<table border=\"1\" class=\"dataframe\">\n  <thead>\n    <tr style=\"text-align: right;\">\n      <th></th>\n      <th>name</th>\n      <th>url</th>\n      <th>last_updated</th>\n    </tr>\n  </thead>\n  <tbody>\n    <tr>\n      <th>0</th>\n      <td>system_information</td>\n      <td>https://gbfs.capitalbikeshare.com/gbfs/en/system_information.json</td>\n      <td>2022-02-16 22:02:35</td>\n    </tr>\n    <tr>\n      <th>1</th>\n      <td>station_information</td>\n      <td>https://gbfs.capitalbikeshare.com/gbfs/en/station_information.json</td>\n      <td>2022-02-16 22:02:35</td>\n    </tr>\n    <tr>\n      <th>2</th>\n      <td>station_status</td>\n      <td>https://gbfs.capitalbikeshare.com/gbfs/en/station_status.json</td>\n      <td>2022-02-16 22:02:35</td>\n    </tr>\n    <tr>\n      <th>3</th>\n      <td>free_bike_status</td>\n      <td>https://gbfs.capitalbikeshare.com/gbfs/en/free_bike_status.json</td>\n      <td>2022-02-16 22:02:35</td>\n    </tr>\n    <tr>\n      <th>4</th>\n      <td>system_hours</td>\n      <td>https://gbfs.capitalbikeshare.com/gbfs/en/system_hours.json</td>\n      <td>2022-02-16 22:02:35</td>\n    </tr>\n    <tr>\n      <th>5</th>\n      <td>system_calendar</td>\n      <td>https://gbfs.capitalbikeshare.com/gbfs/en/system_calendar.json</td>\n      <td>2022-02-16 22:02:35</td>\n    </tr>\n    <tr>\n      <th>6</th>\n      <td>system_regions</td>\n      <td>https://gbfs.capitalbikeshare.com/gbfs/en/system_regions.json</td>\n      <td>2022-02-16 22:02:35</td>\n    </tr>\n    <tr>\n      <th>7</th>\n      <td>system_alerts</td>\n      <td>https://gbfs.capitalbikeshare.com/gbfs/en/system_alerts.json</td>\n      <td>2022-02-16 22:02:35</td>\n    </tr>\n  </tbody>\n</table>\n</div>",
      "text/plain": "                  name  \\\n0   system_information   \n1  station_information   \n2       station_status   \n3     free_bike_status   \n4         system_hours   \n5      system_calendar   \n6       system_regions   \n7        system_alerts   \n\n                                                                  url  \\\n0   https://gbfs.capitalbikeshare.com/gbfs/en/system_information.json   \n1  https://gbfs.capitalbikeshare.com/gbfs/en/station_information.json   \n2       https://gbfs.capitalbikeshare.com/gbfs/en/station_status.json   \n3     https://gbfs.capitalbikeshare.com/gbfs/en/free_bike_status.json   \n4         https://gbfs.capitalbikeshare.com/gbfs/en/system_hours.json   \n5      https://gbfs.capitalbikeshare.com/gbfs/en/system_calendar.json   \n6       https://gbfs.capitalbikeshare.com/gbfs/en/system_regions.json   \n7        https://gbfs.capitalbikeshare.com/gbfs/en/system_alerts.json   \n\n          last_updated  \n0  2022-02-16 22:02:35  \n1  2022-02-16 22:02:35  \n2  2022-02-16 22:02:35  \n3  2022-02-16 22:02:35  \n4  2022-02-16 22:02:35  \n5  2022-02-16 22:02:35  \n6  2022-02-16 22:02:35  \n7  2022-02-16 22:02:35  "
     },
     "execution_count": 10,
     "metadata": {},
     "output_type": "execute_result"
    }
   ],
   "source": [
    "\n",
    "pd.set_option(\"max_colwidth\", None)\n",
    "\n",
    "df = pd.read_json('https://gbfs.capitalbikeshare.com/gbfs/gbfs.json')\n",
    "df_nested_list = pd.json_normalize(df.data.en, record_path =['feeds'])\n",
    "timestamp = datetime.datetime.fromtimestamp(df.last_updated.en)\n",
    "df_nested_list['last_updated'] = timestamp.strftime('%Y-%m-%d %H:%M:%S')\n",
    "df_nested_list\n"
   ]
  },
  {
   "cell_type": "code",
   "execution_count": 11,
   "metadata": {},
   "outputs": [
    {
     "data": {
      "text/plain": "<pyodbc.Cursor at 0x7f5672ea7130>"
     },
     "execution_count": 11,
     "metadata": {},
     "output_type": "execute_result"
    }
   ],
   "source": [
    "cnxn = pyodbc.connect(\"DSN=Content DB\")\n",
    "cursor = cnxn.cursor()\n",
    "\n",
    "#cursor.execute('''\n",
    "# CREATE TABLE test_python (\n",
    "#        Name TEXT PRIMARY KEY,\n",
    "#        URL TEXT NOT NULL,\n",
    "#        Last_Updated  DATE NOT NULL\n",
    " \n",
    "#);\n",
    "#               ''')"
   ]
  },
  {
   "cell_type": "code",
   "execution_count": 12,
   "metadata": {},
   "outputs": [
    {
     "name": "stdout",
     "output_type": "stream",
     "text": [
      "bike_model_data\n",
      "bike_raw_data\n",
      "bike_raw_dataset\n",
      "bike_station_info\n",
      "bike_test_data\n",
      "test_python\n",
      "test\n"
     ]
    }
   ],
   "source": [
    "cursor.tables()\n",
    "rows = cursor.fetchall()\n",
    "for row in rows:\n",
    "    print(row.table_name)"
   ]
  }
 ],
 "metadata": {
  "kernelspec": {
   "display_name": "Python 3.9.6 64-bit ('.venv': venv)",
   "metadata": {
    "interpreter": {
     "hash": "25621e892bfc20024d76a1a1e7c788f07bfdd1267c1199cb62dc9f4232d03662"
    }
   },
   "name": "python3"
  },
  "language_info": {
   "codemirror_mode": {
    "name": "ipython",
    "version": 3
   },
   "file_extension": ".py",
   "mimetype": "text/x-python",
   "name": "python",
   "nbconvert_exporter": "python",
   "pygments_lexer": "ipython3",
   "version": "3.9.6"
  },
  "orig_nbformat": 2
 },
 "nbformat": 4,
 "nbformat_minor": 2
}