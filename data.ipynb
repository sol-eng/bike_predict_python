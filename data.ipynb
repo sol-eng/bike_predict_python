{
 "cells": [
  {
   "cell_type": "code",
   "execution_count": 1,
   "id": "9df0753e-1936-40ae-b779-0bc21eb3f547",
   "metadata": {},
   "outputs": [
    {
     "data": {
      "text/plain": [
       "True"
      ]
     },
     "execution_count": 1,
     "metadata": {},
     "output_type": "execute_result"
    }
   ],
   "source": [
    "import pandas as pd\n",
    "import numpy as np\n",
    "from sklearn import model_selection, preprocessing, pipeline\n",
    "from sklearn.ensemble import RandomForestRegressor\n",
    "import psycopg2\n",
    "from sqlalchemy import create_engine\n",
    "from pins import board_rsconnect\n",
    "from dotenv import load_dotenv\n",
    "import os\n",
    "load_dotenv()"
   ]
  },
  {
   "cell_type": "code",
   "execution_count": 2,
   "id": "00813dd1-3365-4b19-8a7d-9e89948459fe",
   "metadata": {},
   "outputs": [],
   "source": [
    "from sqlalchemy import create_engine\n",
    "engine = create_engine(\n",
    "    \"postgresql+psycopg2://content:@soleng-content-rds1.cloiraotshw4.us-east-1.rds.amazonaws.com/rds\",\n",
    "    isolation_level=\"SERIALIZABLE\",\n",
    ")"
   ]
  },
  {
   "cell_type": "code",
   "execution_count": 3,
   "id": "7e032ed0-7bb1-4332-bf85-d03962710eb9",
   "metadata": {},
   "outputs": [],
   "source": [
    "sql = \"Select * From bike_model_data \""
   ]
  },
  {
   "cell_type": "code",
   "execution_count": 6,
   "id": "e850b584-252a-4ffb-8967-4d995d2f8b2b",
   "metadata": {},
   "outputs": [],
   "source": [
    "SQL_for_file_output = \"COPY ({0}) TO STDOUT WITH CSV HEADER\".format(sql)\n",
    "\n",
    "conn = psycopg2.connect(dbname=\"rds\", user=\"content\", password=\"\", host=\"\")\n",
    "db_cursor = conn.cursor()"
   ]
  },
  {
   "cell_type": "code",
   "execution_count": 14,
   "id": "da0245b9-77ad-4b99-9a66-ad4b1f409210",
   "metadata": {},
   "outputs": [],
   "source": [
    "# Set up a variable to store our file path and name.\n",
    "t_path_n_file = \"./all-dates.csv\"\n",
    "\n",
    "# Trap errors for opening the file\n",
    "try:\n",
    "    with open(t_path_n_file, 'w') as f_output:\n",
    "        db_cursor.copy_expert(SQL_for_file_output, f_output)\n",
    "except psycopg2.Error as e:\n",
    "    t_message = \"Error: \" + e + \"/n query we ran: \" + s + \"/n t_path_n_file: \" + t_path_n_file\n",
    "    print(f'{\"error.html\" + t_message}')\n",
    "\n",
    "# Success!\n",
    "\n",
    "# Clean up: Close the database cursor and connection\n",
    "db_cursor.close()"
   ]
  },
  {
   "cell_type": "code",
   "execution_count": 15,
   "id": "86e61433-352f-4c49-88bb-b85b4165d2fb",
   "metadata": {},
   "outputs": [],
   "source": [
    "conn.close()"
   ]
  },
  {
   "cell_type": "code",
   "execution_count": 2,
   "id": "f2c2ddf5-5c3b-4f44-ad82-9815d22bff8d",
   "metadata": {},
   "outputs": [],
   "source": [
    "df_all_dates = pd.read_csv(\"all-dates.csv\")"
   ]
  },
  {
   "cell_type": "code",
   "execution_count": 3,
   "id": "b0e16e5a-da9a-41f5-b746-b37d009f3b98",
   "metadata": {},
   "outputs": [
    {
     "data": {
      "text/plain": [
       "(12260589, 8)"
      ]
     },
     "execution_count": 3,
     "metadata": {},
     "output_type": "execute_result"
    }
   ],
   "source": [
    "df_all_dates.shape"
   ]
  },
  {
   "cell_type": "code",
   "execution_count": 21,
   "id": "e8ebd152-4eaa-4b3e-a3a7-8f7be67898f7",
   "metadata": {},
   "outputs": [
    {
     "data": {
      "text/html": [
       "<div>\n",
       "<style scoped>\n",
       "    .dataframe tbody tr th:only-of-type {\n",
       "        vertical-align: middle;\n",
       "    }\n",
       "\n",
       "    .dataframe tbody tr th {\n",
       "        vertical-align: top;\n",
       "    }\n",
       "\n",
       "    .dataframe thead th {\n",
       "        text-align: right;\n",
       "    }\n",
       "</style>\n",
       "<table border=\"1\" class=\"dataframe\">\n",
       "  <thead>\n",
       "    <tr style=\"text-align: right;\">\n",
       "      <th></th>\n",
       "      <th>id</th>\n",
       "      <th>hour</th>\n",
       "      <th>date</th>\n",
       "      <th>month</th>\n",
       "      <th>dow</th>\n",
       "      <th>n_bikes</th>\n",
       "      <th>lat</th>\n",
       "      <th>lon</th>\n",
       "    </tr>\n",
       "  </thead>\n",
       "  <tbody>\n",
       "    <tr>\n",
       "      <th>0</th>\n",
       "      <td>73</td>\n",
       "      <td>4</td>\n",
       "      <td>2021-10-03</td>\n",
       "      <td>10</td>\n",
       "      <td>Sunday</td>\n",
       "      <td>2.0</td>\n",
       "      <td>38.933668</td>\n",
       "      <td>-76.991016</td>\n",
       "    </tr>\n",
       "    <tr>\n",
       "      <th>1</th>\n",
       "      <td>73</td>\n",
       "      <td>4</td>\n",
       "      <td>2021-10-04</td>\n",
       "      <td>10</td>\n",
       "      <td>Monday</td>\n",
       "      <td>8.0</td>\n",
       "      <td>38.933668</td>\n",
       "      <td>-76.991016</td>\n",
       "    </tr>\n",
       "    <tr>\n",
       "      <th>2</th>\n",
       "      <td>73</td>\n",
       "      <td>4</td>\n",
       "      <td>2021-10-05</td>\n",
       "      <td>10</td>\n",
       "      <td>Tuesday</td>\n",
       "      <td>7.0</td>\n",
       "      <td>38.933668</td>\n",
       "      <td>-76.991016</td>\n",
       "    </tr>\n",
       "    <tr>\n",
       "      <th>3</th>\n",
       "      <td>73</td>\n",
       "      <td>4</td>\n",
       "      <td>2021-10-06</td>\n",
       "      <td>10</td>\n",
       "      <td>Wednesday</td>\n",
       "      <td>4.0</td>\n",
       "      <td>38.933668</td>\n",
       "      <td>-76.991016</td>\n",
       "    </tr>\n",
       "    <tr>\n",
       "      <th>4</th>\n",
       "      <td>73</td>\n",
       "      <td>4</td>\n",
       "      <td>2021-10-07</td>\n",
       "      <td>10</td>\n",
       "      <td>Thursday</td>\n",
       "      <td>4.0</td>\n",
       "      <td>38.933668</td>\n",
       "      <td>-76.991016</td>\n",
       "    </tr>\n",
       "  </tbody>\n",
       "</table>\n",
       "</div>"
      ],
      "text/plain": [
       "   id  hour        date  month        dow  n_bikes        lat        lon\n",
       "0  73     4  2021-10-03     10     Sunday      2.0  38.933668 -76.991016\n",
       "1  73     4  2021-10-04     10     Monday      8.0  38.933668 -76.991016\n",
       "2  73     4  2021-10-05     10    Tuesday      7.0  38.933668 -76.991016\n",
       "3  73     4  2021-10-06     10  Wednesday      4.0  38.933668 -76.991016\n",
       "4  73     4  2021-10-07     10   Thursday      4.0  38.933668 -76.991016"
      ]
     },
     "execution_count": 21,
     "metadata": {},
     "output_type": "execute_result"
    }
   ],
   "source": [
    "df_all_dates.head()"
   ]
  },
  {
   "cell_type": "code",
   "execution_count": 10,
   "id": "a035b1cc-f387-4cfc-9b61-d3469d656787",
   "metadata": {},
   "outputs": [],
   "source": [
    "board = board_rsconnect(\n",
    "    server_url=\"https://colorado.rstudio.com/rsc/\",\n",
    "    api_key=os.getenv(\"CONNECT_API_KEY\")\n",
    ")\n",
    "#> Connecting to RSC 1.9.0.1 at <https://connect.rstudioservices.com>"
   ]
  },
  {
   "cell_type": "code",
   "execution_count": 8,
   "id": "04cb10e7-54e4-44d8-8004-b267d58424b5",
   "metadata": {
    "tags": []
   },
   "outputs": [
    {
     "data": {
      "text/plain": [
       "\u001b[0;31mSignature:\u001b[0m \u001b[0mboard\u001b[0m\u001b[0;34m.\u001b[0m\u001b[0mpin_write\u001b[0m\u001b[0;34m(\u001b[0m\u001b[0;34m*\u001b[0m\u001b[0margs\u001b[0m\u001b[0;34m,\u001b[0m \u001b[0maccess_type\u001b[0m\u001b[0;34m=\u001b[0m\u001b[0;32mNone\u001b[0m\u001b[0;34m,\u001b[0m \u001b[0;34m**\u001b[0m\u001b[0mkwargs\u001b[0m\u001b[0;34m)\u001b[0m\u001b[0;34m\u001b[0m\u001b[0;34m\u001b[0m\u001b[0m\n",
       "\u001b[0;31mDocstring:\u001b[0m\n",
       "Write a pin.\n",
       "\n",
       "Extends parent method in the following ways:\n",
       "\n",
       "* Modifies content item to include any title and description changes.\n",
       "* Adds access_type argument to specify who can see content. Defaults to \"acl\".\n",
       "\n",
       "\n",
       "Parent method documentation:\n",
       "\n",
       "Write a pin object to the board.\n",
       "\n",
       "Parameters\n",
       "----------\n",
       "x:\n",
       "    An object (e.g. a pandas DataFrame) to pin.\n",
       "name:\n",
       "    Pin name.\n",
       "type:\n",
       "    File type used to save ``x`` to disk.\n",
       "title:\n",
       "    A title for the pin; most important for shared boards so that others\n",
       "    can understand what the pin contains. If omitted, a brief description\n",
       "    of the contents will be automatically generated.\n",
       "description:\n",
       "    A detailed description of the pin contents.\n",
       "metadata:\n",
       "    A dictionary containing additional metadata to store with the pin.\n",
       "    This gets stored on the Meta.user field.\n",
       "versioned:\n",
       "    Whether the pin should be versioned.\n",
       "created:\n",
       "    A date to store in the Meta.created field. This field may be used as\n",
       "    part of the pin version name.\n",
       "\u001b[0;31mFile:\u001b[0m      ~/bike_predict_python/.venv/lib/python3.9/site-packages/pins/boards.py\n",
       "\u001b[0;31mType:\u001b[0m      method\n"
      ]
     },
     "metadata": {},
     "output_type": "display_data"
    }
   ],
   "source": [
    "board.pin_write?"
   ]
  },
  {
   "cell_type": "code",
   "execution_count": 11,
   "id": "192e7f5b-7be5-4299-bc6d-0ca2cd6ca3b3",
   "metadata": {},
   "outputs": [],
   "source": [
    "df = board.pin_read(name=\"xu.fei/bike-all-dates-05042022\")"
   ]
  },
  {
   "cell_type": "code",
   "execution_count": 12,
   "id": "65e2bf5b-a42b-4fb4-82da-62b154a512f9",
   "metadata": {},
   "outputs": [
    {
     "data": {
      "text/html": [
       "<div>\n",
       "<style scoped>\n",
       "    .dataframe tbody tr th:only-of-type {\n",
       "        vertical-align: middle;\n",
       "    }\n",
       "\n",
       "    .dataframe tbody tr th {\n",
       "        vertical-align: top;\n",
       "    }\n",
       "\n",
       "    .dataframe thead th {\n",
       "        text-align: right;\n",
       "    }\n",
       "</style>\n",
       "<table border=\"1\" class=\"dataframe\">\n",
       "  <thead>\n",
       "    <tr style=\"text-align: right;\">\n",
       "      <th></th>\n",
       "      <th>id</th>\n",
       "      <th>hour</th>\n",
       "      <th>date</th>\n",
       "      <th>month</th>\n",
       "      <th>dow</th>\n",
       "      <th>n_bikes</th>\n",
       "      <th>lat</th>\n",
       "      <th>lon</th>\n",
       "    </tr>\n",
       "  </thead>\n",
       "  <tbody>\n",
       "    <tr>\n",
       "      <th>0</th>\n",
       "      <td>73</td>\n",
       "      <td>4</td>\n",
       "      <td>2021-10-03</td>\n",
       "      <td>10</td>\n",
       "      <td>Sunday</td>\n",
       "      <td>2.0</td>\n",
       "      <td>38.933668</td>\n",
       "      <td>-76.991016</td>\n",
       "    </tr>\n",
       "    <tr>\n",
       "      <th>1</th>\n",
       "      <td>73</td>\n",
       "      <td>4</td>\n",
       "      <td>2021-10-04</td>\n",
       "      <td>10</td>\n",
       "      <td>Monday</td>\n",
       "      <td>8.0</td>\n",
       "      <td>38.933668</td>\n",
       "      <td>-76.991016</td>\n",
       "    </tr>\n",
       "    <tr>\n",
       "      <th>2</th>\n",
       "      <td>73</td>\n",
       "      <td>4</td>\n",
       "      <td>2021-10-05</td>\n",
       "      <td>10</td>\n",
       "      <td>Tuesday</td>\n",
       "      <td>7.0</td>\n",
       "      <td>38.933668</td>\n",
       "      <td>-76.991016</td>\n",
       "    </tr>\n",
       "    <tr>\n",
       "      <th>3</th>\n",
       "      <td>73</td>\n",
       "      <td>4</td>\n",
       "      <td>2021-10-06</td>\n",
       "      <td>10</td>\n",
       "      <td>Wednesday</td>\n",
       "      <td>4.0</td>\n",
       "      <td>38.933668</td>\n",
       "      <td>-76.991016</td>\n",
       "    </tr>\n",
       "    <tr>\n",
       "      <th>4</th>\n",
       "      <td>73</td>\n",
       "      <td>4</td>\n",
       "      <td>2021-10-07</td>\n",
       "      <td>10</td>\n",
       "      <td>Thursday</td>\n",
       "      <td>4.0</td>\n",
       "      <td>38.933668</td>\n",
       "      <td>-76.991016</td>\n",
       "    </tr>\n",
       "  </tbody>\n",
       "</table>\n",
       "</div>"
      ],
      "text/plain": [
       "   id  hour        date  month        dow  n_bikes        lat        lon\n",
       "0  73     4  2021-10-03     10     Sunday      2.0  38.933668 -76.991016\n",
       "1  73     4  2021-10-04     10     Monday      8.0  38.933668 -76.991016\n",
       "2  73     4  2021-10-05     10    Tuesday      7.0  38.933668 -76.991016\n",
       "3  73     4  2021-10-06     10  Wednesday      4.0  38.933668 -76.991016\n",
       "4  73     4  2021-10-07     10   Thursday      4.0  38.933668 -76.991016"
      ]
     },
     "execution_count": 12,
     "metadata": {},
     "output_type": "execute_result"
    }
   ],
   "source": [
    "df.head()"
   ]
  },
  {
   "cell_type": "code",
   "execution_count": 13,
   "id": "54dcf9fc-92cf-41c5-8a58-87af833703e8",
   "metadata": {},
   "outputs": [
    {
     "data": {
      "text/plain": [
       "(12260589, 8)"
      ]
     },
     "execution_count": 13,
     "metadata": {},
     "output_type": "execute_result"
    }
   ],
   "source": [
    "df.shape"
   ]
  },
  {
   "cell_type": "code",
   "execution_count": 18,
   "id": "da8cd32d-4979-4aa3-b273-17dcec32db71",
   "metadata": {},
   "outputs": [
    {
     "name": "stderr",
     "output_type": "stream",
     "text": [
      "Writing to pin 'xu.fei/bike-all-dates-05042022'\n"
     ]
    },
    {
     "data": {
      "text/plain": [
       "Meta(title='Shared Bike Data', description='Shared bike data until May 4th, 2022', created='20220505T164106Z', pin_hash='802fb4641d9829b0', file='bike-all-dates-05042022.csv', file_size=689184111, type='csv', api_version=1, version=VersionRaw(version='56032'), name='xu.fei/bike-all-dates-05042022', user={})"
      ]
     },
     "execution_count": 18,
     "metadata": {},
     "output_type": "execute_result"
    }
   ],
   "source": [
    "board.pin_write(\n",
    "    df_all_dates,\n",
    "    name=\"xu.fei/bike-all-dates-05042022\", \n",
    "    title=\"Shared Bike Data\", \n",
    "    description=\"Shared bike data until May 4th, 2022\",\n",
    "    type=\"csv\")\n",
    "#> Writing to pin 'hadley/sales-summary'"
   ]
  },
  {
   "cell_type": "code",
   "execution_count": 16,
   "id": "49f508b2-73d4-4499-b955-39f0733e1acf",
   "metadata": {},
   "outputs": [
    {
     "name": "stdout",
     "output_type": "stream",
     "text": [
      "total 639M\n",
      "drwx--x---  6 xu.fei xu.fei 4.0K May  4 21:55 .\n",
      "drwxr-xr-x 59 xu.fei 150420 4.0K May  4 20:24 ..\n",
      "-rw-------  1 xu.fei xu.fei 639M May  4 21:53 all-dates.csv\n",
      "-rw-------  1 xu.fei xu.fei  885 Apr 25 22:18 app.py\n",
      "-rw-------  1 xu.fei xu.fei  28K May  4 21:36 bike_shiny.ipynb\n",
      "-rw-------  1 xu.fei xu.fei 1.3K Apr 28 13:42 bike_shiny.py\n",
      "-rw-------  1 xu.fei xu.fei  102 Apr 27 21:32 .env\n",
      "drwx--x---  2 xu.fei xu.fei  106 May  4 21:36 .ipynb_checkpoints\n",
      "drwx--x---  2 xu.fei xu.fei   65 Apr 27 23:13 __pycache__\n",
      "-rw-------  1 xu.fei xu.fei 1.5K Apr 27 22:24 requirements.txt\n",
      "drwx--x---  2 xu.fei xu.fei   31 Apr 25 18:49 rsconnect-python\n",
      "-rw-------  1 xu.fei xu.fei 3.5K May  4 21:55 Untitled.ipynb\n",
      "drwx--x---  6 xu.fei xu.fei   87 Apr 25 18:25 .venv\n"
     ]
    }
   ],
   "source": [
    "! ls -alh"
   ]
  },
  {
   "cell_type": "code",
   "execution_count": 25,
   "id": "b0449536-9275-4425-a551-ef6abfbb33a9",
   "metadata": {},
   "outputs": [
    {
     "name": "stdout",
     "output_type": "stream",
     "text": [
      "/usr/home/xu.fei/py-shiny-app\n"
     ]
    }
   ],
   "source": [
    "!pwd"
   ]
  },
  {
   "cell_type": "code",
   "execution_count": null,
   "id": "ca6a086f-c9c6-42b9-a05a-33e6e418dcb1",
   "metadata": {},
   "outputs": [],
   "source": [
    "df_all_dates = pd.read_sql_query(sql,engine)"
   ]
  }
 ],
 "metadata": {
  "kernelspec": {
   "display_name": "vetiver-python-bike",
   "language": "python",
   "name": "vetiver-python-bike"
  },
  "language_info": {
   "codemirror_mode": {
    "name": "ipython",
    "version": 3
   },
   "file_extension": ".py",
   "mimetype": "text/x-python",
   "name": "python",
   "nbconvert_exporter": "python",
   "pygments_lexer": "ipython3",
   "version": "3.9.6"
  }
 },
 "nbformat": 4,
 "nbformat_minor": 5
}
