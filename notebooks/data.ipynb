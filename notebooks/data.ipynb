{
 "cells": [
  {
   "cell_type": "code",
   "execution_count": 22,
   "id": "9df0753e-1936-40ae-b779-0bc21eb3f547",
   "metadata": {},
   "outputs": [],
   "source": [
    "import pandas as pd\n",
    "import numpy as np\n",
    "from sklearn import model_selection, preprocessing, pipeline\n",
    "from sklearn.ensemble import RandomForestRegressor\n",
    "import psycopg2\n",
    "from sqlalchemy import create_engine"
   ]
  },
  {
   "cell_type": "code",
   "execution_count": 2,
   "id": "00813dd1-3365-4b19-8a7d-9e89948459fe",
   "metadata": {},
   "outputs": [],
   "source": [
    "from sqlalchemy import create_engine\n",
    "engine = create_engine(\n",
    "    \"postgresql+psycopg2://content:@soleng-content-rds1.cloiraotshw4.us-east-1.rds.amazonaws.com/rds\",\n",
    "    isolation_level=\"SERIALIZABLE\",\n",
    ")"
   ]
  },
  {
   "cell_type": "code",
   "execution_count": 3,
   "id": "7e032ed0-7bb1-4332-bf85-d03962710eb9",
   "metadata": {},
   "outputs": [],
   "source": [
    "sql = \"Select * From bike_model_data \""
   ]
  },
  {
   "cell_type": "code",
   "execution_count": 6,
   "id": "e850b584-252a-4ffb-8967-4d995d2f8b2b",
   "metadata": {},
   "outputs": [],
   "source": [
    "SQL_for_file_output = \"COPY ({0}) TO STDOUT WITH CSV HEADER\".format(sql)\n",
    "\n",
    "conn = psycopg2.connect(dbname=\"rds\", user=\"content\", password=\"\", host=\"\")\n",
    "db_cursor = conn.cursor()"
   ]
  },
  {
   "cell_type": "code",
   "execution_count": 14,
   "id": "da0245b9-77ad-4b99-9a66-ad4b1f409210",
   "metadata": {},
   "outputs": [],
   "source": [
    "# Set up a variable to store our file path and name.\n",
    "t_path_n_file = \"./all-dates.csv\"\n",
    "\n",
    "# Trap errors for opening the file\n",
    "try:\n",
    "    with open(t_path_n_file, 'w') as f_output:\n",
    "        db_cursor.copy_expert(SQL_for_file_output, f_output)\n",
    "except psycopg2.Error as e:\n",
    "    t_message = \"Error: \" + e + \"/n query we ran: \" + s + \"/n t_path_n_file: \" + t_path_n_file\n",
    "    print(f'{\"error.html\" + t_message}')\n",
    "\n",
    "# Success!\n",
    "\n",
    "# Clean up: Close the database cursor and connection\n",
    "db_cursor.close()"
   ]
  },
  {
   "cell_type": "code",
   "execution_count": 15,
   "id": "86e61433-352f-4c49-88bb-b85b4165d2fb",
   "metadata": {},
   "outputs": [],
   "source": [
    "conn.close()"
   ]
  },
  {
   "cell_type": "code",
   "execution_count": 23,
   "id": "f2c2ddf5-5c3b-4f44-ad82-9815d22bff8d",
   "metadata": {},
   "outputs": [],
   "source": [
    "df_all_dates = pd.read_csv(\"all-dates.csv\")"
   ]
  },
  {
   "cell_type": "code",
   "execution_count": 24,
   "id": "b0e16e5a-da9a-41f5-b746-b37d009f3b98",
   "metadata": {},
   "outputs": [
    {
     "data": {
      "text/plain": [
       "(12260589, 8)"
      ]
     },
     "execution_count": 24,
     "metadata": {},
     "output_type": "execute_result"
    }
   ],
   "source": [
    "df_all_dates.shape"
   ]
  },
  {
   "cell_type": "code",
   "execution_count": 21,
   "id": "e8ebd152-4eaa-4b3e-a3a7-8f7be67898f7",
   "metadata": {},
   "outputs": [
    {
     "data": {
      "text/html": [
       "<div>\n",
       "<style scoped>\n",
       "    .dataframe tbody tr th:only-of-type {\n",
       "        vertical-align: middle;\n",
       "    }\n",
       "\n",
       "    .dataframe tbody tr th {\n",
       "        vertical-align: top;\n",
       "    }\n",
       "\n",
       "    .dataframe thead th {\n",
       "        text-align: right;\n",
       "    }\n",
       "</style>\n",
       "<table border=\"1\" class=\"dataframe\">\n",
       "  <thead>\n",
       "    <tr style=\"text-align: right;\">\n",
       "      <th></th>\n",
       "      <th>id</th>\n",
       "      <th>hour</th>\n",
       "      <th>date</th>\n",
       "      <th>month</th>\n",
       "      <th>dow</th>\n",
       "      <th>n_bikes</th>\n",
       "      <th>lat</th>\n",
       "      <th>lon</th>\n",
       "    </tr>\n",
       "  </thead>\n",
       "  <tbody>\n",
       "    <tr>\n",
       "      <th>0</th>\n",
       "      <td>73</td>\n",
       "      <td>4</td>\n",
       "      <td>2021-10-03</td>\n",
       "      <td>10</td>\n",
       "      <td>Sunday</td>\n",
       "      <td>2.0</td>\n",
       "      <td>38.933668</td>\n",
       "      <td>-76.991016</td>\n",
       "    </tr>\n",
       "    <tr>\n",
       "      <th>1</th>\n",
       "      <td>73</td>\n",
       "      <td>4</td>\n",
       "      <td>2021-10-04</td>\n",
       "      <td>10</td>\n",
       "      <td>Monday</td>\n",
       "      <td>8.0</td>\n",
       "      <td>38.933668</td>\n",
       "      <td>-76.991016</td>\n",
       "    </tr>\n",
       "    <tr>\n",
       "      <th>2</th>\n",
       "      <td>73</td>\n",
       "      <td>4</td>\n",
       "      <td>2021-10-05</td>\n",
       "      <td>10</td>\n",
       "      <td>Tuesday</td>\n",
       "      <td>7.0</td>\n",
       "      <td>38.933668</td>\n",
       "      <td>-76.991016</td>\n",
       "    </tr>\n",
       "    <tr>\n",
       "      <th>3</th>\n",
       "      <td>73</td>\n",
       "      <td>4</td>\n",
       "      <td>2021-10-06</td>\n",
       "      <td>10</td>\n",
       "      <td>Wednesday</td>\n",
       "      <td>4.0</td>\n",
       "      <td>38.933668</td>\n",
       "      <td>-76.991016</td>\n",
       "    </tr>\n",
       "    <tr>\n",
       "      <th>4</th>\n",
       "      <td>73</td>\n",
       "      <td>4</td>\n",
       "      <td>2021-10-07</td>\n",
       "      <td>10</td>\n",
       "      <td>Thursday</td>\n",
       "      <td>4.0</td>\n",
       "      <td>38.933668</td>\n",
       "      <td>-76.991016</td>\n",
       "    </tr>\n",
       "  </tbody>\n",
       "</table>\n",
       "</div>"
      ],
      "text/plain": [
       "   id  hour        date  month        dow  n_bikes        lat        lon\n",
       "0  73     4  2021-10-03     10     Sunday      2.0  38.933668 -76.991016\n",
       "1  73     4  2021-10-04     10     Monday      8.0  38.933668 -76.991016\n",
       "2  73     4  2021-10-05     10    Tuesday      7.0  38.933668 -76.991016\n",
       "3  73     4  2021-10-06     10  Wednesday      4.0  38.933668 -76.991016\n",
       "4  73     4  2021-10-07     10   Thursday      4.0  38.933668 -76.991016"
      ]
     },
     "execution_count": 21,
     "metadata": {},
     "output_type": "execute_result"
    }
   ],
   "source": [
    "df_all_dates.head()"
   ]
  },
  {
   "cell_type": "code",
   "execution_count": 16,
   "id": "49f508b2-73d4-4499-b955-39f0733e1acf",
   "metadata": {},
   "outputs": [
    {
     "name": "stdout",
     "output_type": "stream",
     "text": [
      "total 639M\n",
      "drwx--x---  6 xu.fei xu.fei 4.0K May  4 21:55 .\n",
      "drwxr-xr-x 59 xu.fei 150420 4.0K May  4 20:24 ..\n",
      "-rw-------  1 xu.fei xu.fei 639M May  4 21:53 all-dates.csv\n",
      "-rw-------  1 xu.fei xu.fei  885 Apr 25 22:18 app.py\n",
      "-rw-------  1 xu.fei xu.fei  28K May  4 21:36 bike_shiny.ipynb\n",
      "-rw-------  1 xu.fei xu.fei 1.3K Apr 28 13:42 bike_shiny.py\n",
      "-rw-------  1 xu.fei xu.fei  102 Apr 27 21:32 .env\n",
      "drwx--x---  2 xu.fei xu.fei  106 May  4 21:36 .ipynb_checkpoints\n",
      "drwx--x---  2 xu.fei xu.fei   65 Apr 27 23:13 __pycache__\n",
      "-rw-------  1 xu.fei xu.fei 1.5K Apr 27 22:24 requirements.txt\n",
      "drwx--x---  2 xu.fei xu.fei   31 Apr 25 18:49 rsconnect-python\n",
      "-rw-------  1 xu.fei xu.fei 3.5K May  4 21:55 Untitled.ipynb\n",
      "drwx--x---  6 xu.fei xu.fei   87 Apr 25 18:25 .venv\n"
     ]
    }
   ],
   "source": [
    "! ls -alh"
   ]
  },
  {
   "cell_type": "code",
   "execution_count": 25,
   "id": "b0449536-9275-4425-a551-ef6abfbb33a9",
   "metadata": {},
   "outputs": [
    {
     "name": "stdout",
     "output_type": "stream",
     "text": [
      "/usr/home/xu.fei/py-shiny-app\n"
     ]
    }
   ],
   "source": [
    "!pwd"
   ]
  },
  {
   "cell_type": "code",
   "execution_count": null,
   "id": "ca6a086f-c9c6-42b9-a05a-33e6e418dcb1",
   "metadata": {},
   "outputs": [],
   "source": [
    "df_all_dates = pd.read_sql_query(sql,engine)"
   ]
  }
 ],
 "metadata": {
  "kernelspec": {
   "display_name": "vetiver-python-bike",
   "language": "python",
   "name": "vetiver-python-bike"
  },
  "language_info": {
   "codemirror_mode": {
    "name": "ipython",
    "version": 3
   },
   "file_extension": ".py",
   "mimetype": "text/x-python",
   "name": "python",
   "nbconvert_exporter": "python",
   "pygments_lexer": "ipython3",
   "version": "3.9.6"
  }
 },
 "nbformat": 4,
 "nbformat_minor": 5
}
