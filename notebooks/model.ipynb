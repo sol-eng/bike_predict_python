{
 "cells": [
  {
   "cell_type": "code",
   "execution_count": 1,
   "id": "9df0753e-1936-40ae-b779-0bc21eb3f547",
   "metadata": {},
   "outputs": [
    {
     "data": {
      "text/plain": [
       "True"
      ]
     },
     "execution_count": 1,
     "metadata": {},
     "output_type": "execute_result"
    }
   ],
   "source": [
    "import pandas as pd\n",
    "import numpy as np\n",
    "from sklearn import model_selection, preprocessing, pipeline\n",
    "from sklearn.ensemble import RandomForestRegressor\n",
    "import psycopg2\n",
    "from sqlalchemy import create_engine\n",
    "from pins import board_rsconnect\n",
    "from dotenv import load_dotenv\n",
    "import os\n",
    "import xgboost as xgb\n",
    "from xgboost import plot_importance, plot_tree\n",
    "from sklearn.metrics import mean_squared_error, mean_absolute_error\n",
    "import matplotlib.pyplot as plt\n",
    "from datetime import datetime, timedelta\n",
    "load_dotenv()"
   ]
  },
  {
   "cell_type": "code",
   "execution_count": 2,
   "id": "a035b1cc-f387-4cfc-9b61-d3469d656787",
   "metadata": {},
   "outputs": [],
   "source": [
    "board = board_rsconnect(\n",
    "    server_url=\"https://colorado.rstudio.com/rsc/\",\n",
    "    api_key=os.getenv(\"CONNECT_API_KEY\")\n",
    ")\n",
    "#> Connecting to RSC 1.9.0.1 at <https://connect.rstudioservices.com>"
   ]
  },
  {
   "cell_type": "code",
   "execution_count": 3,
   "id": "192e7f5b-7be5-4299-bc6d-0ca2cd6ca3b3",
   "metadata": {},
   "outputs": [],
   "source": [
    "df = board.pin_read(name=\"xu.fei/bike-all-dates-05042022\")"
   ]
  },
  {
   "cell_type": "code",
   "execution_count": 4,
   "id": "54dcf9fc-92cf-41c5-8a58-87af833703e8",
   "metadata": {},
   "outputs": [
    {
     "data": {
      "text/plain": [
       "(12260589, 8)"
      ]
     },
     "execution_count": 4,
     "metadata": {},
     "output_type": "execute_result"
    }
   ],
   "source": [
    "df.shape"
   ]
  },
  {
   "cell_type": "code",
   "execution_count": 5,
   "id": "60c694eb-aaa8-4678-86ac-c3ec26238765",
   "metadata": {},
   "outputs": [
    {
     "name": "stdout",
     "output_type": "stream",
     "text": [
      "<class 'pandas.core.frame.DataFrame'>\n",
      "RangeIndex: 12260589 entries, 0 to 12260588\n",
      "Data columns (total 8 columns):\n",
      " #   Column   Dtype  \n",
      "---  ------   -----  \n",
      " 0   id       int64  \n",
      " 1   hour     int64  \n",
      " 2   date     object \n",
      " 3   month    int64  \n",
      " 4   dow      object \n",
      " 5   n_bikes  float64\n",
      " 6   lat      float64\n",
      " 7   lon      float64\n",
      "dtypes: float64(3), int64(3), object(2)\n",
      "memory usage: 748.3+ MB\n"
     ]
    }
   ],
   "source": [
    "df.info()"
   ]
  },
  {
   "cell_type": "code",
   "execution_count": 6,
   "id": "c5e1dd4c-f1c7-4fa5-94a2-208502159694",
   "metadata": {},
   "outputs": [],
   "source": [
    "df.date = pd.to_datetime(df.date)"
   ]
  },
  {
   "cell_type": "code",
   "execution_count": 7,
   "id": "e47e2bc1-6c72-419f-9175-69e8a3293070",
   "metadata": {},
   "outputs": [],
   "source": [
    "df.columns = ['id', 'hour', 'date', 'month', 'dow', 'n_bikes', 'lat', 'lon']"
   ]
  },
  {
   "cell_type": "code",
   "execution_count": 8,
   "id": "973b2942-b7b3-4400-be95-09b3b5be84a9",
   "metadata": {},
   "outputs": [
    {
     "name": "stdout",
     "output_type": "stream",
     "text": [
      "<class 'pandas.core.frame.DataFrame'>\n",
      "RangeIndex: 12260589 entries, 0 to 12260588\n",
      "Data columns (total 8 columns):\n",
      " #   Column   Dtype         \n",
      "---  ------   -----         \n",
      " 0   id       int64         \n",
      " 1   hour     int64         \n",
      " 2   date     datetime64[ns]\n",
      " 3   month    int64         \n",
      " 4   dow      object        \n",
      " 5   n_bikes  float64       \n",
      " 6   lat      float64       \n",
      " 7   lon      float64       \n",
      "dtypes: datetime64[ns](1), float64(3), int64(3), object(1)\n",
      "memory usage: 748.3+ MB\n"
     ]
    }
   ],
   "source": [
    "df.info()"
   ]
  },
  {
   "cell_type": "code",
   "execution_count": 10,
   "id": "ab0f987f-27c1-4a14-bf5e-b081f7e9bef2",
   "metadata": {},
   "outputs": [
    {
     "data": {
      "text/plain": [
       "Timestamp('2022-05-04 00:00:00')"
      ]
     },
     "execution_count": 10,
     "metadata": {},
     "output_type": "execute_result"
    }
   ],
   "source": [
    "df.date.max()"
   ]
  },
  {
   "cell_type": "code",
   "execution_count": 11,
   "id": "cd9a7c69-7e3c-4a71-a487-32e085289154",
   "metadata": {},
   "outputs": [],
   "source": [
    "N_DAYS_AGO = 15"
   ]
  },
  {
   "cell_type": "code",
   "execution_count": 12,
   "id": "8fd43cf7-8550-4313-a26b-edbcdd9704fe",
   "metadata": {},
   "outputs": [],
   "source": [
    "date_N_days_ago = df.date.max() - timedelta(days=N_DAYS_AGO)"
   ]
  },
  {
   "cell_type": "code",
   "execution_count": 13,
   "id": "7a8343e9-8a3d-4596-a41b-df2846675fb4",
   "metadata": {},
   "outputs": [
    {
     "data": {
      "text/plain": [
       "Timestamp('2022-04-19 00:00:00')"
      ]
     },
     "execution_count": 13,
     "metadata": {},
     "output_type": "execute_result"
    }
   ],
   "source": [
    "date_N_days_ago"
   ]
  },
  {
   "cell_type": "code",
   "execution_count": 14,
   "id": "4ee2d12e-9dde-43bf-95a9-a4121bf6b45c",
   "metadata": {},
   "outputs": [
    {
     "data": {
      "text/plain": [
       "(12046866, 8)"
      ]
     },
     "execution_count": 14,
     "metadata": {},
     "output_type": "execute_result"
    }
   ],
   "source": [
    "df_train = df.loc[df.date < date_N_days_ago]\n",
    "df_train.shape"
   ]
  },
  {
   "cell_type": "code",
   "execution_count": 15,
   "id": "a34a5213-2ab7-48f5-9bef-ab356f24021d",
   "metadata": {},
   "outputs": [
    {
     "data": {
      "text/plain": [
       "(213723, 8)"
      ]
     },
     "execution_count": 15,
     "metadata": {},
     "output_type": "execute_result"
    }
   ],
   "source": [
    "df_test = df.loc[df.date >= date_N_days_ago]\n",
    "df_test.shape"
   ]
  },
  {
   "cell_type": "code",
   "execution_count": 16,
   "id": "3d536cd7-9450-434a-90cb-a48d76e448f0",
   "metadata": {},
   "outputs": [],
   "source": [
    "df_train_6m = df_train.iloc[:int(6e6), :]"
   ]
  },
  {
   "cell_type": "code",
   "execution_count": 17,
   "id": "affb421e-78f9-44b8-bd1a-e14339028f52",
   "metadata": {},
   "outputs": [],
   "source": [
    "del df_train, df"
   ]
  },
  {
   "cell_type": "code",
   "execution_count": 18,
   "id": "0a26ce05-ac05-469f-967c-2459d9f0416d",
   "metadata": {},
   "outputs": [
    {
     "name": "stdout",
     "output_type": "stream",
     "text": [
      "<class 'pandas.core.frame.DataFrame'>\n",
      "Int64Index: 6000000 entries, 0 to 6105947\n",
      "Data columns (total 8 columns):\n",
      " #   Column   Dtype         \n",
      "---  ------   -----         \n",
      " 0   id       int64         \n",
      " 1   hour     int64         \n",
      " 2   date     datetime64[ns]\n",
      " 3   month    int64         \n",
      " 4   dow      object        \n",
      " 5   n_bikes  float64       \n",
      " 6   lat      float64       \n",
      " 7   lon      float64       \n",
      "dtypes: datetime64[ns](1), float64(3), int64(3), object(1)\n",
      "memory usage: 412.0+ MB\n"
     ]
    }
   ],
   "source": [
    "df_train_6m.info()"
   ]
  },
  {
   "cell_type": "code",
   "execution_count": 48,
   "id": "2b38f2c3-818b-40e0-8f8e-e4b6200a0e42",
   "metadata": {},
   "outputs": [],
   "source": [
    "# Using make_column_transformer to One-Hot Encode\n",
    "from sklearn.preprocessing import OneHotEncoder\n",
    "from sklearn.compose import make_column_transformer"
   ]
  },
  {
   "cell_type": "code",
   "execution_count": 49,
   "id": "180d3af7-645f-4821-a0c0-58c3169c8243",
   "metadata": {},
   "outputs": [],
   "source": [
    "transformer = make_column_transformer(\n",
    "    (OneHotEncoder(), ['dow']),\n",
    "    remainder='passthrough')"
   ]
  },
  {
   "cell_type": "code",
   "execution_count": 76,
   "id": "a512097f-79fb-4257-92cf-be5393ba5b44",
   "metadata": {},
   "outputs": [
    {
     "name": "stderr",
     "output_type": "stream",
     "text": [
      "/usr/home/xu.fei/bike_predict_python/.venv/lib/python3.9/site-packages/sklearn/utils/deprecation.py:87: FutureWarning: Function get_feature_names is deprecated; get_feature_names is deprecated in 1.0 and will be removed in 1.2. Please use get_feature_names_out instead.\n",
      "  warnings.warn(msg, category=FutureWarning)\n"
     ]
    },
    {
     "data": {
      "text/plain": [
       "['onehotencoder__x0_Friday',\n",
       " 'onehotencoder__x0_Monday',\n",
       " 'onehotencoder__x0_Saturday',\n",
       " 'onehotencoder__x0_Sunday',\n",
       " 'onehotencoder__x0_Thursday',\n",
       " 'onehotencoder__x0_Tuesday',\n",
       " 'onehotencoder__x0_Wednesday',\n",
       " 'id',\n",
       " 'hour',\n",
       " 'date',\n",
       " 'month',\n",
       " 'n_bikes',\n",
       " 'lat',\n",
       " 'lon']"
      ]
     },
     "execution_count": 76,
     "metadata": {},
     "output_type": "execute_result"
    }
   ],
   "source": [
    "transformer.get_feature_names()"
   ]
  },
  {
   "cell_type": "code",
   "execution_count": 51,
   "id": "25ca39dc-59f0-4046-baf8-57cf5c1afd1a",
   "metadata": {},
   "outputs": [],
   "source": [
    "transformed_test = transformer.fit_transform(df_test)\n",
    "transformed_df_test = pd.DataFrame(\n",
    "    transformed_test, \n",
    "    columns=transformer.get_feature_names_out()\n",
    ")"
   ]
  },
  {
   "cell_type": "code",
   "execution_count": 52,
   "id": "77bc04af-df80-430c-b5fb-e58f4d5c2922",
   "metadata": {},
   "outputs": [],
   "source": [
    "transformed_train_6m = transformer.fit_transform(df_train_6m)\n",
    "transformed_df_train_6m = pd.DataFrame(\n",
    "    transformed_train_6m, \n",
    "    columns=transformer.get_feature_names_out()\n",
    ")"
   ]
  },
  {
   "cell_type": "code",
   "execution_count": 53,
   "id": "318085b2-6146-4181-9634-53a059a0f30b",
   "metadata": {},
   "outputs": [
    {
     "data": {
      "text/plain": [
       "(6000000, 14)"
      ]
     },
     "execution_count": 53,
     "metadata": {},
     "output_type": "execute_result"
    }
   ],
   "source": [
    "transformed_df_train_6m.shape"
   ]
  },
  {
   "cell_type": "code",
   "execution_count": 54,
   "id": "91d0f9de-2b1b-4435-93dc-63da2e86f998",
   "metadata": {},
   "outputs": [
    {
     "data": {
      "text/plain": [
       "Index(['onehotencoder__dow_Friday', 'onehotencoder__dow_Monday',\n",
       "       'onehotencoder__dow_Saturday', 'onehotencoder__dow_Sunday',\n",
       "       'onehotencoder__dow_Thursday', 'onehotencoder__dow_Tuesday',\n",
       "       'onehotencoder__dow_Wednesday', 'remainder__id', 'remainder__hour',\n",
       "       'remainder__date', 'remainder__month', 'remainder__n_bikes',\n",
       "       'remainder__lat', 'remainder__lon'],\n",
       "      dtype='object')"
      ]
     },
     "execution_count": 54,
     "metadata": {},
     "output_type": "execute_result"
    }
   ],
   "source": [
    "transformed_df_train_6m.columns"
   ]
  },
  {
   "cell_type": "code",
   "execution_count": 57,
   "id": "1a3a08d6-d183-4267-bd20-c22bafdf4f69",
   "metadata": {},
   "outputs": [
    {
     "data": {
      "text/html": [
       "<div>\n",
       "<style scoped>\n",
       "    .dataframe tbody tr th:only-of-type {\n",
       "        vertical-align: middle;\n",
       "    }\n",
       "\n",
       "    .dataframe tbody tr th {\n",
       "        vertical-align: top;\n",
       "    }\n",
       "\n",
       "    .dataframe thead th {\n",
       "        text-align: right;\n",
       "    }\n",
       "</style>\n",
       "<table border=\"1\" class=\"dataframe\">\n",
       "  <thead>\n",
       "    <tr style=\"text-align: right;\">\n",
       "      <th></th>\n",
       "      <th>onehotencoder__dow_Friday</th>\n",
       "      <th>onehotencoder__dow_Monday</th>\n",
       "      <th>onehotencoder__dow_Saturday</th>\n",
       "      <th>onehotencoder__dow_Sunday</th>\n",
       "      <th>onehotencoder__dow_Thursday</th>\n",
       "      <th>onehotencoder__dow_Tuesday</th>\n",
       "      <th>onehotencoder__dow_Wednesday</th>\n",
       "      <th>remainder__id</th>\n",
       "      <th>remainder__hour</th>\n",
       "      <th>remainder__date</th>\n",
       "      <th>remainder__month</th>\n",
       "      <th>remainder__n_bikes</th>\n",
       "      <th>remainder__lat</th>\n",
       "      <th>remainder__lon</th>\n",
       "    </tr>\n",
       "  </thead>\n",
       "  <tbody>\n",
       "    <tr>\n",
       "      <th>0</th>\n",
       "      <td>0.0</td>\n",
       "      <td>0.0</td>\n",
       "      <td>0.0</td>\n",
       "      <td>0.0</td>\n",
       "      <td>0.0</td>\n",
       "      <td>1.0</td>\n",
       "      <td>0.0</td>\n",
       "      <td>73</td>\n",
       "      <td>4</td>\n",
       "      <td>2022-04-19</td>\n",
       "      <td>4</td>\n",
       "      <td>0.0</td>\n",
       "      <td>38.933668</td>\n",
       "      <td>-76.991016</td>\n",
       "    </tr>\n",
       "    <tr>\n",
       "      <th>1</th>\n",
       "      <td>0.0</td>\n",
       "      <td>0.0</td>\n",
       "      <td>0.0</td>\n",
       "      <td>0.0</td>\n",
       "      <td>0.0</td>\n",
       "      <td>0.0</td>\n",
       "      <td>1.0</td>\n",
       "      <td>73</td>\n",
       "      <td>4</td>\n",
       "      <td>2022-04-20</td>\n",
       "      <td>4</td>\n",
       "      <td>1.0</td>\n",
       "      <td>38.933668</td>\n",
       "      <td>-76.991016</td>\n",
       "    </tr>\n",
       "    <tr>\n",
       "      <th>2</th>\n",
       "      <td>0.0</td>\n",
       "      <td>0.0</td>\n",
       "      <td>0.0</td>\n",
       "      <td>0.0</td>\n",
       "      <td>1.0</td>\n",
       "      <td>0.0</td>\n",
       "      <td>0.0</td>\n",
       "      <td>73</td>\n",
       "      <td>4</td>\n",
       "      <td>2022-04-21</td>\n",
       "      <td>4</td>\n",
       "      <td>0.0</td>\n",
       "      <td>38.933668</td>\n",
       "      <td>-76.991016</td>\n",
       "    </tr>\n",
       "    <tr>\n",
       "      <th>3</th>\n",
       "      <td>1.0</td>\n",
       "      <td>0.0</td>\n",
       "      <td>0.0</td>\n",
       "      <td>0.0</td>\n",
       "      <td>0.0</td>\n",
       "      <td>0.0</td>\n",
       "      <td>0.0</td>\n",
       "      <td>73</td>\n",
       "      <td>4</td>\n",
       "      <td>2022-04-22</td>\n",
       "      <td>4</td>\n",
       "      <td>0.0</td>\n",
       "      <td>38.933668</td>\n",
       "      <td>-76.991016</td>\n",
       "    </tr>\n",
       "    <tr>\n",
       "      <th>4</th>\n",
       "      <td>0.0</td>\n",
       "      <td>0.0</td>\n",
       "      <td>1.0</td>\n",
       "      <td>0.0</td>\n",
       "      <td>0.0</td>\n",
       "      <td>0.0</td>\n",
       "      <td>0.0</td>\n",
       "      <td>73</td>\n",
       "      <td>4</td>\n",
       "      <td>2022-04-23</td>\n",
       "      <td>4</td>\n",
       "      <td>3.0</td>\n",
       "      <td>38.933668</td>\n",
       "      <td>-76.991016</td>\n",
       "    </tr>\n",
       "  </tbody>\n",
       "</table>\n",
       "</div>"
      ],
      "text/plain": [
       "  onehotencoder__dow_Friday onehotencoder__dow_Monday  \\\n",
       "0                       0.0                       0.0   \n",
       "1                       0.0                       0.0   \n",
       "2                       0.0                       0.0   \n",
       "3                       1.0                       0.0   \n",
       "4                       0.0                       0.0   \n",
       "\n",
       "  onehotencoder__dow_Saturday onehotencoder__dow_Sunday  \\\n",
       "0                         0.0                       0.0   \n",
       "1                         0.0                       0.0   \n",
       "2                         0.0                       0.0   \n",
       "3                         0.0                       0.0   \n",
       "4                         1.0                       0.0   \n",
       "\n",
       "  onehotencoder__dow_Thursday onehotencoder__dow_Tuesday  \\\n",
       "0                         0.0                        1.0   \n",
       "1                         0.0                        0.0   \n",
       "2                         1.0                        0.0   \n",
       "3                         0.0                        0.0   \n",
       "4                         0.0                        0.0   \n",
       "\n",
       "  onehotencoder__dow_Wednesday remainder__id remainder__hour remainder__date  \\\n",
       "0                          0.0            73               4      2022-04-19   \n",
       "1                          1.0            73               4      2022-04-20   \n",
       "2                          0.0            73               4      2022-04-21   \n",
       "3                          0.0            73               4      2022-04-22   \n",
       "4                          0.0            73               4      2022-04-23   \n",
       "\n",
       "  remainder__month remainder__n_bikes remainder__lat remainder__lon  \n",
       "0                4                0.0      38.933668     -76.991016  \n",
       "1                4                1.0      38.933668     -76.991016  \n",
       "2                4                0.0      38.933668     -76.991016  \n",
       "3                4                0.0      38.933668     -76.991016  \n",
       "4                4                3.0      38.933668     -76.991016  "
      ]
     },
     "execution_count": 57,
     "metadata": {},
     "output_type": "execute_result"
    }
   ],
   "source": [
    "transformed_df_test.head()"
   ]
  },
  {
   "cell_type": "code",
   "execution_count": 90,
   "id": "74841946-e42e-47f4-a946-ec559c0f460b",
   "metadata": {},
   "outputs": [],
   "source": [
    "del transformed_df_train_6m, transformed_df_test"
   ]
  },
  {
   "cell_type": "code",
   "execution_count": 92,
   "id": "7a016bf9-b686-4527-89e9-fa55b95c3497",
   "metadata": {},
   "outputs": [],
   "source": [
    "del transformed_train_6m, transformed_test"
   ]
  },
  {
   "cell_type": "code",
   "execution_count": 94,
   "id": "2b525df8-01e9-4aa1-96f8-dd4c291716d4",
   "metadata": {},
   "outputs": [
    {
     "data": {
      "text/plain": [
       "id                  int64\n",
       "hour                int64\n",
       "date       datetime64[ns]\n",
       "month               int64\n",
       "dow                object\n",
       "n_bikes           float64\n",
       "lat               float64\n",
       "lon               float64\n",
       "dtype: object"
      ]
     },
     "execution_count": 94,
     "metadata": {},
     "output_type": "execute_result"
    }
   ],
   "source": [
    "df_train_6m.dtypes"
   ]
  },
  {
   "cell_type": "code",
   "execution_count": 19,
   "id": "59f1d616-1b20-4062-af7a-7c584b5f52ff",
   "metadata": {},
   "outputs": [],
   "source": [
    "def get_features(df: pd.DataFrame, label: str=None) -> pd.DataFrame:\n",
    "    \"\"\"\n",
    "    Get time series features from dataframe\n",
    "    \"\"\"\n",
    "    ds = df['date'].dt\n",
    "    df['dayofweek'] = ds.dayofweek\n",
    "    df['quarter'] = ds.quarter\n",
    "    df['month'] = ds.month\n",
    "    df['year'] = ds.year\n",
    "    df['dayofyear'] = ds.dayofyear\n",
    "    df['dayofmonth'] = ds.day\n",
    "    df['weekofyear'] = ds.isocalendar().week.astype(int)\n",
    "    X = df[[\n",
    "        'hour','dayofweek','quarter','month','year',\n",
    "        'dayofyear','dayofmonth','weekofyear','lat','lon'\n",
    "    ]]\n",
    "    if label:\n",
    "        y = df[label]\n",
    "        return X, y\n",
    "    return X"
   ]
  },
  {
   "cell_type": "code",
   "execution_count": 20,
   "id": "586b70f2-8d43-479d-8816-ce6e150906d3",
   "metadata": {},
   "outputs": [],
   "source": [
    "X_train, y_train = get_features(df_train_6m, label='n_bikes')"
   ]
  },
  {
   "cell_type": "code",
   "execution_count": 21,
   "id": "d3cb17c2-1953-4528-8b2c-faaa342161e7",
   "metadata": {},
   "outputs": [],
   "source": [
    "X_test, y_test = get_features(df_test, label='n_bikes')"
   ]
  },
  {
   "cell_type": "code",
   "execution_count": 22,
   "id": "46c17f80-182d-4fe0-b1b1-51eab1fd489c",
   "metadata": {},
   "outputs": [
    {
     "name": "stdout",
     "output_type": "stream",
     "text": [
      "<class 'pandas.core.frame.DataFrame'>\n",
      "Int64Index: 213723 entries, 190 to 12259911\n",
      "Data columns (total 10 columns):\n",
      " #   Column      Non-Null Count   Dtype  \n",
      "---  ------      --------------   -----  \n",
      " 0   hour        213723 non-null  int64  \n",
      " 1   dayofweek   213723 non-null  int64  \n",
      " 2   quarter     213723 non-null  int64  \n",
      " 3   month       213723 non-null  int64  \n",
      " 4   year        213723 non-null  int64  \n",
      " 5   dayofyear   213723 non-null  int64  \n",
      " 6   dayofmonth  213723 non-null  int64  \n",
      " 7   weekofyear  213723 non-null  int64  \n",
      " 8   lat         213723 non-null  float64\n",
      " 9   lon         213723 non-null  float64\n",
      "dtypes: float64(2), int64(8)\n",
      "memory usage: 17.9 MB\n"
     ]
    }
   ],
   "source": [
    "X_test.info()"
   ]
  },
  {
   "cell_type": "code",
   "execution_count": 23,
   "id": "ca038c7f-a53b-4f54-b2e9-5d22aed8784e",
   "metadata": {},
   "outputs": [],
   "source": [
    "del df_train_6m"
   ]
  },
  {
   "cell_type": "code",
   "execution_count": 24,
   "id": "ac4522a9-da31-4986-998c-99acd146dd9a",
   "metadata": {
    "tags": []
   },
   "outputs": [
    {
     "name": "stderr",
     "output_type": "stream",
     "text": [
      "/usr/home/xu.fei/bike_predict_python/.venv/lib/python3.9/site-packages/xgboost/sklearn.py:793: UserWarning: `early_stopping_rounds` in `fit` method is deprecated for better compatibility with scikit-learn, use `early_stopping_rounds` in constructor or`set_params` instead.\n",
      "  warnings.warn(\n"
     ]
    },
    {
     "name": "stdout",
     "output_type": "stream",
     "text": [
      "[0]\tvalidation_0-rmse:7.37005\tvalidation_1-rmse:6.48298\n",
      "[1]\tvalidation_0-rmse:6.32266\tvalidation_1-rmse:5.61160\n",
      "[2]\tvalidation_0-rmse:5.70795\tvalidation_1-rmse:5.21635\n",
      "[3]\tvalidation_0-rmse:5.35006\tvalidation_1-rmse:4.99361\n",
      "[4]\tvalidation_0-rmse:5.11964\tvalidation_1-rmse:4.90110\n",
      "[5]\tvalidation_0-rmse:4.97557\tvalidation_1-rmse:4.83994\n",
      "[6]\tvalidation_0-rmse:4.88935\tvalidation_1-rmse:4.82101\n",
      "[7]\tvalidation_0-rmse:4.83465\tvalidation_1-rmse:4.79039\n",
      "[8]\tvalidation_0-rmse:4.79338\tvalidation_1-rmse:4.78461\n",
      "[9]\tvalidation_0-rmse:4.76217\tvalidation_1-rmse:4.78001\n",
      "[10]\tvalidation_0-rmse:4.73402\tvalidation_1-rmse:4.78176\n",
      "[11]\tvalidation_0-rmse:4.70664\tvalidation_1-rmse:4.76813\n",
      "[12]\tvalidation_0-rmse:4.66219\tvalidation_1-rmse:4.73099\n",
      "[13]\tvalidation_0-rmse:4.65420\tvalidation_1-rmse:4.73513\n",
      "[14]\tvalidation_0-rmse:4.63673\tvalidation_1-rmse:4.73199\n",
      "[15]\tvalidation_0-rmse:4.62376\tvalidation_1-rmse:4.73848\n",
      "[16]\tvalidation_0-rmse:4.61247\tvalidation_1-rmse:4.74117\n",
      "[17]\tvalidation_0-rmse:4.59319\tvalidation_1-rmse:4.73226\n",
      "[18]\tvalidation_0-rmse:4.57500\tvalidation_1-rmse:4.73145\n",
      "[19]\tvalidation_0-rmse:4.55067\tvalidation_1-rmse:4.70993\n",
      "[20]\tvalidation_0-rmse:4.53976\tvalidation_1-rmse:4.70702\n",
      "[21]\tvalidation_0-rmse:4.53151\tvalidation_1-rmse:4.70517\n",
      "[22]\tvalidation_0-rmse:4.51887\tvalidation_1-rmse:4.69404\n",
      "[23]\tvalidation_0-rmse:4.50735\tvalidation_1-rmse:4.68619\n",
      "[24]\tvalidation_0-rmse:4.50217\tvalidation_1-rmse:4.68313\n",
      "[25]\tvalidation_0-rmse:4.49639\tvalidation_1-rmse:4.68276\n",
      "[26]\tvalidation_0-rmse:4.48773\tvalidation_1-rmse:4.68253\n",
      "[27]\tvalidation_0-rmse:4.48089\tvalidation_1-rmse:4.67764\n",
      "[28]\tvalidation_0-rmse:4.46822\tvalidation_1-rmse:4.67214\n",
      "[29]\tvalidation_0-rmse:4.45452\tvalidation_1-rmse:4.66517\n",
      "[30]\tvalidation_0-rmse:4.44795\tvalidation_1-rmse:4.66623\n",
      "[31]\tvalidation_0-rmse:4.44165\tvalidation_1-rmse:4.66661\n",
      "[32]\tvalidation_0-rmse:4.43561\tvalidation_1-rmse:4.66274\n",
      "[33]\tvalidation_0-rmse:4.43144\tvalidation_1-rmse:4.66434\n",
      "[34]\tvalidation_0-rmse:4.42665\tvalidation_1-rmse:4.66086\n",
      "[35]\tvalidation_0-rmse:4.42080\tvalidation_1-rmse:4.66188\n",
      "[36]\tvalidation_0-rmse:4.41615\tvalidation_1-rmse:4.67538\n",
      "[37]\tvalidation_0-rmse:4.40556\tvalidation_1-rmse:4.67317\n",
      "[38]\tvalidation_0-rmse:4.39465\tvalidation_1-rmse:4.67528\n",
      "[39]\tvalidation_0-rmse:4.38930\tvalidation_1-rmse:4.67674\n",
      "[40]\tvalidation_0-rmse:4.38626\tvalidation_1-rmse:4.68316\n",
      "[41]\tvalidation_0-rmse:4.38019\tvalidation_1-rmse:4.68601\n",
      "[42]\tvalidation_0-rmse:4.37572\tvalidation_1-rmse:4.68523\n",
      "[43]\tvalidation_0-rmse:4.37033\tvalidation_1-rmse:4.68370\n"
     ]
    },
    {
     "data": {
      "text/plain": [
       "XGBRegressor(base_score=0.5, booster='gbtree', callbacks=None,\n",
       "             colsample_bylevel=1, colsample_bynode=1, colsample_bytree=1,\n",
       "             early_stopping_rounds=None, enable_categorical=False,\n",
       "             eval_metric=None, gamma=0, gpu_id=-1, grow_policy='depthwise',\n",
       "             importance_type=None, interaction_constraints='',\n",
       "             learning_rate=0.300000012, max_bin=256, max_cat_to_onehot=4,\n",
       "             max_delta_step=0, max_depth=6, max_leaves=0, min_child_weight=1,\n",
       "             missing=nan, monotone_constraints='()', n_estimators=1000,\n",
       "             n_jobs=0, num_parallel_tree=1, predictor='auto', random_state=0,\n",
       "             reg_alpha=0, reg_lambda=1, ...)"
      ]
     },
     "execution_count": 24,
     "metadata": {},
     "output_type": "execute_result"
    }
   ],
   "source": [
    "reg = xgb.XGBRegressor(n_estimators=1000)\n",
    "reg.fit(\n",
    "    X_train, y_train,\n",
    "    eval_set=[(X_train, y_train), (X_test, y_test)],\n",
    "    early_stopping_rounds=10,\n",
    "    verbose=True) "
   ]
  },
  {
   "cell_type": "code",
   "execution_count": 27,
   "id": "def1b1b2-b081-45cc-a2ec-83d77faa5c1f",
   "metadata": {},
   "outputs": [],
   "source": [
    "plt.style.use('fivethirtyeight')"
   ]
  },
  {
   "cell_type": "code",
   "execution_count": 28,
   "id": "08d82cc8-18c3-45a9-9144-cde3e56008ae",
   "metadata": {},
   "outputs": [
    {
     "data": {
      "image/png": "[encoded data removed]",
      "text/plain": [
       "<Figure size 432x288 with 1 Axes>"
      ]
     },
     "metadata": {},
     "output_type": "display_data"
    }
   ],
   "source": [
    "_ = plot_importance(reg, height=0.9)"
   ]
  },
  {
   "cell_type": "code",
   "execution_count": null,
   "id": "310417a1-2a4b-4b57-a601-a79faed91404",
   "metadata": {},
   "outputs": [],
   "source": [
    "testpred = model.predict(X_test)"
   ]
  },
  {
   "cell_type": "code",
   "execution_count": 29,
   "id": "435c8f1e-efa1-4149-b740-77613ab7cafe",
   "metadata": {},
   "outputs": [],
   "source": [
    "df_test['bike_pred'] = reg.predict(X_test)"
   ]
  },
  {
   "cell_type": "code",
   "execution_count": 30,
   "id": "780db55d-16d7-44e2-aa92-9f08b5f92421",
   "metadata": {},
   "outputs": [
    {
     "name": "stdout",
     "output_type": "stream",
     "text": [
      "RMSE: 4.660859\n"
     ]
    }
   ],
   "source": [
    "import math\n",
    "from math import sqrt\n",
    "test_mse = mean_squared_error(y_test, df_test['bike_pred'])\n",
    "rmse = sqrt(test_mse)\n",
    "print('RMSE: %f' % rmse)"
   ]
  },
  {
   "cell_type": "code",
   "execution_count": 32,
   "id": "45cdfe38-38c4-4b4d-b790-4be6e0aafa5b",
   "metadata": {},
   "outputs": [
    {
     "data": {
      "text/plain": [
       "6.396835701663679"
      ]
     },
     "execution_count": 32,
     "metadata": {},
     "output_type": "execute_result"
    }
   ],
   "source": [
    "np.mean(y_test)"
   ]
  },
  {
   "cell_type": "code",
   "execution_count": 35,
   "id": "80789cd5-82ae-49cf-a6f1-e8e1c08ddf84",
   "metadata": {},
   "outputs": [
    {
     "data": {
      "text/html": [
       "<div>\n",
       "<style scoped>\n",
       "    .dataframe tbody tr th:only-of-type {\n",
       "        vertical-align: middle;\n",
       "    }\n",
       "\n",
       "    .dataframe tbody tr th {\n",
       "        vertical-align: top;\n",
       "    }\n",
       "\n",
       "    .dataframe thead th {\n",
       "        text-align: right;\n",
       "    }\n",
       "</style>\n",
       "<table border=\"1\" class=\"dataframe\">\n",
       "  <thead>\n",
       "    <tr style=\"text-align: right;\">\n",
       "      <th></th>\n",
       "      <th>id</th>\n",
       "      <th>hour</th>\n",
       "      <th>date</th>\n",
       "      <th>month</th>\n",
       "      <th>dow</th>\n",
       "      <th>n_bikes</th>\n",
       "      <th>lat</th>\n",
       "      <th>lon</th>\n",
       "      <th>dayofweek</th>\n",
       "      <th>quarter</th>\n",
       "      <th>year</th>\n",
       "      <th>dayofyear</th>\n",
       "      <th>dayofmonth</th>\n",
       "      <th>weekofyear</th>\n",
       "      <th>bike_pred</th>\n",
       "    </tr>\n",
       "  </thead>\n",
       "  <tbody>\n",
       "    <tr>\n",
       "      <th>190</th>\n",
       "      <td>73</td>\n",
       "      <td>4</td>\n",
       "      <td>2022-04-19</td>\n",
       "      <td>4</td>\n",
       "      <td>Tuesday</td>\n",
       "      <td>0.0</td>\n",
       "      <td>38.933668</td>\n",
       "      <td>-76.991016</td>\n",
       "      <td>1</td>\n",
       "      <td>2</td>\n",
       "      <td>2022</td>\n",
       "      <td>109</td>\n",
       "      <td>19</td>\n",
       "      <td>16</td>\n",
       "      <td>2.676972</td>\n",
       "    </tr>\n",
       "    <tr>\n",
       "      <th>191</th>\n",
       "      <td>73</td>\n",
       "      <td>4</td>\n",
       "      <td>2022-04-20</td>\n",
       "      <td>4</td>\n",
       "      <td>Wednesday</td>\n",
       "      <td>1.0</td>\n",
       "      <td>38.933668</td>\n",
       "      <td>-76.991016</td>\n",
       "      <td>2</td>\n",
       "      <td>2</td>\n",
       "      <td>2022</td>\n",
       "      <td>110</td>\n",
       "      <td>20</td>\n",
       "      <td>16</td>\n",
       "      <td>2.676972</td>\n",
       "    </tr>\n",
       "    <tr>\n",
       "      <th>192</th>\n",
       "      <td>73</td>\n",
       "      <td>4</td>\n",
       "      <td>2022-04-21</td>\n",
       "      <td>4</td>\n",
       "      <td>Thursday</td>\n",
       "      <td>0.0</td>\n",
       "      <td>38.933668</td>\n",
       "      <td>-76.991016</td>\n",
       "      <td>3</td>\n",
       "      <td>2</td>\n",
       "      <td>2022</td>\n",
       "      <td>111</td>\n",
       "      <td>21</td>\n",
       "      <td>16</td>\n",
       "      <td>2.676972</td>\n",
       "    </tr>\n",
       "    <tr>\n",
       "      <th>193</th>\n",
       "      <td>73</td>\n",
       "      <td>4</td>\n",
       "      <td>2022-04-22</td>\n",
       "      <td>4</td>\n",
       "      <td>Friday</td>\n",
       "      <td>0.0</td>\n",
       "      <td>38.933668</td>\n",
       "      <td>-76.991016</td>\n",
       "      <td>4</td>\n",
       "      <td>2</td>\n",
       "      <td>2022</td>\n",
       "      <td>112</td>\n",
       "      <td>22</td>\n",
       "      <td>16</td>\n",
       "      <td>2.676972</td>\n",
       "    </tr>\n",
       "    <tr>\n",
       "      <th>194</th>\n",
       "      <td>73</td>\n",
       "      <td>4</td>\n",
       "      <td>2022-04-23</td>\n",
       "      <td>4</td>\n",
       "      <td>Saturday</td>\n",
       "      <td>3.0</td>\n",
       "      <td>38.933668</td>\n",
       "      <td>-76.991016</td>\n",
       "      <td>5</td>\n",
       "      <td>2</td>\n",
       "      <td>2022</td>\n",
       "      <td>113</td>\n",
       "      <td>23</td>\n",
       "      <td>16</td>\n",
       "      <td>2.614131</td>\n",
       "    </tr>\n",
       "  </tbody>\n",
       "</table>\n",
       "</div>"
      ],
      "text/plain": [
       "     id  hour       date  month        dow  n_bikes        lat        lon  \\\n",
       "190  73     4 2022-04-19      4    Tuesday      0.0  38.933668 -76.991016   \n",
       "191  73     4 2022-04-20      4  Wednesday      1.0  38.933668 -76.991016   \n",
       "192  73     4 2022-04-21      4   Thursday      0.0  38.933668 -76.991016   \n",
       "193  73     4 2022-04-22      4     Friday      0.0  38.933668 -76.991016   \n",
       "194  73     4 2022-04-23      4   Saturday      3.0  38.933668 -76.991016   \n",
       "\n",
       "     dayofweek  quarter  year  dayofyear  dayofmonth  weekofyear  bike_pred  \n",
       "190          1        2  2022        109          19          16   2.676972  \n",
       "191          2        2  2022        110          20          16   2.676972  \n",
       "192          3        2  2022        111          21          16   2.676972  \n",
       "193          4        2  2022        112          22          16   2.676972  \n",
       "194          5        2  2022        113          23          16   2.614131  "
      ]
     },
     "execution_count": 35,
     "metadata": {},
     "output_type": "execute_result"
    }
   ],
   "source": [
    "df_test.head()"
   ]
  },
  {
   "cell_type": "code",
   "execution_count": 33,
   "id": "938d35f9-1dad-4b5d-9491-f8b2c8d874a7",
   "metadata": {},
   "outputs": [
    {
     "data": {
      "image/png": "[encoded data removed]",
      "text/plain": [
       "<Figure size 1080x360 with 1 Axes>"
      ]
     },
     "metadata": {},
     "output_type": "display_data"
    }
   ],
   "source": [
    "_ = df_test[['n_bikes','bike_pred']].plot(figsize=(15, 5))"
   ]
  },
  {
   "cell_type": "code",
   "execution_count": null,
   "id": "684456e0-a503-4b11-9db9-0bd8f4e315e5",
   "metadata": {},
   "outputs": [],
   "source": [
    "df_all = pd.concat([df_test, pjme_train], sort=False)"
   ]
  },
  {
   "cell_type": "code",
   "execution_count": 38,
   "id": "3dd2a29e-8b7e-416e-befd-3c43a55acd84",
   "metadata": {},
   "outputs": [
    {
     "data": {
      "text/plain": [
       "21.723608676004737"
      ]
     },
     "execution_count": 38,
     "metadata": {},
     "output_type": "execute_result"
    }
   ],
   "source": [
    "mean_squared_error(y_true=df_test['n_bikes'],\n",
    "                   y_pred=df_test['bike_pred'])"
   ]
  },
  {
   "cell_type": "code",
   "execution_count": 39,
   "id": "58271e72-ce0b-4bc0-a064-8080ff02ce79",
   "metadata": {},
   "outputs": [
    {
     "data": {
      "text/plain": [
       "3.640628322329985"
      ]
     },
     "execution_count": 39,
     "metadata": {},
     "output_type": "execute_result"
    }
   ],
   "source": [
    "mean_absolute_error(y_true=df_test['n_bikes'],\n",
    "                   y_pred=df_test['bike_pred'])"
   ]
  },
  {
   "cell_type": "code",
   "execution_count": null,
   "id": "f963aad9-ff66-4602-b06c-32558c84c454",
   "metadata": {},
   "outputs": [],
   "source": []
  },
  {
   "cell_type": "code",
   "execution_count": null,
   "id": "f84e3150-f78f-4128-9d9a-10a369eb2734",
   "metadata": {},
   "outputs": [],
   "source": []
  },
  {
   "cell_type": "code",
   "execution_count": null,
   "id": "bad16b13-a7fd-41a3-ab48-d4bf14e49f9c",
   "metadata": {},
   "outputs": [],
   "source": []
  }
 ],
 "metadata": {
  "kernelspec": {
   "display_name": "vetiver-python-bike",
   "language": "python",
   "name": "vetiver-python-bike"
  },
  "language_info": {
   "codemirror_mode": {
    "name": "ipython",
    "version": 3
   },
   "file_extension": ".py",
   "mimetype": "text/x-python",
   "name": "python",
   "nbconvert_exporter": "python",
   "pygments_lexer": "ipython3",
   "version": "3.9.6"
  }
 },
 "nbformat": 4,
 "nbformat_minor": 5
}
