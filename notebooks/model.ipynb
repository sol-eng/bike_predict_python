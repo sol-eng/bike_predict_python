{
 "cells": [
  {
   "cell_type": "code",
   "execution_count": 1,
   "id": "9df0753e-1936-40ae-b779-0bc21eb3f547",
   "metadata": {},
   "outputs": [
    {
     "data": {
      "text/plain": [
       "True"
      ]
     },
     "execution_count": 1,
     "metadata": {},
     "output_type": "execute_result"
    }
   ],
   "source": [
    "import pandas as pd\n",
    "import numpy as np\n",
    "from sklearn import model_selection, preprocessing, pipeline\n",
    "from sklearn.ensemble import RandomForestRegressor\n",
    "import psycopg2\n",
    "from sqlalchemy import create_engine\n",
    "from pins import board_rsconnect\n",
    "from dotenv import load_dotenv\n",
    "import os\n",
    "import xgboost as xgb\n",
    "from xgboost import plot_importance, plot_tree\n",
    "from sklearn.metrics import mean_squared_error, mean_absolute_error\n",
    "import matplotlib.pyplot as plt\n",
    "from datetime import datetime, timedelta\n",
    "load_dotenv()"
   ]
  },
  {
   "cell_type": "code",
   "execution_count": 2,
   "id": "a035b1cc-f387-4cfc-9b61-d3469d656787",
   "metadata": {},
   "outputs": [],
   "source": [
    "board = board_rsconnect(\n",
    "    server_url=\"https://colorado.rstudio.com/rsc/\",\n",
    "    api_key=os.getenv(\"CONNECT_API_KEY\")\n",
    ")\n",
    "#> Connecting to RSC 1.9.0.1 at <https://connect.rstudioservices.com>"
   ]
  },
  {
   "cell_type": "code",
   "execution_count": 3,
   "id": "192e7f5b-7be5-4299-bc6d-0ca2cd6ca3b3",
   "metadata": {},
   "outputs": [],
   "source": [
    "df = board.pin_read(name=\"xu.fei/bike-all-dates-05042022\")"
   ]
  },
  {
   "cell_type": "code",
   "execution_count": 4,
   "id": "54dcf9fc-92cf-41c5-8a58-87af833703e8",
   "metadata": {},
   "outputs": [
    {
     "data": {
      "text/plain": [
       "(12260589, 8)"
      ]
     },
     "execution_count": 4,
     "metadata": {},
     "output_type": "execute_result"
    }
   ],
   "source": [
    "df.shape"
   ]
  },
  {
   "cell_type": "code",
   "execution_count": 5,
   "id": "60c694eb-aaa8-4678-86ac-c3ec26238765",
   "metadata": {},
   "outputs": [
    {
     "name": "stdout",
     "output_type": "stream",
     "text": [
      "<class 'pandas.core.frame.DataFrame'>\n",
      "RangeIndex: 12260589 entries, 0 to 12260588\n",
      "Data columns (total 8 columns):\n",
      " #   Column   Dtype  \n",
      "---  ------   -----  \n",
      " 0   id       int64  \n",
      " 1   hour     int64  \n",
      " 2   date     object \n",
      " 3   month    int64  \n",
      " 4   dow      object \n",
      " 5   n_bikes  float64\n",
      " 6   lat      float64\n",
      " 7   lon      float64\n",
      "dtypes: float64(3), int64(3), object(2)\n",
      "memory usage: 748.3+ MB\n"
     ]
    }
   ],
   "source": [
    "df.info()"
   ]
  },
  {
   "cell_type": "code",
   "execution_count": 6,
   "id": "c5e1dd4c-f1c7-4fa5-94a2-208502159694",
   "metadata": {},
   "outputs": [],
   "source": [
    "df.date = pd.to_datetime(df.date)"
   ]
  },
  {
   "cell_type": "code",
   "execution_count": 7,
   "id": "e47e2bc1-6c72-419f-9175-69e8a3293070",
   "metadata": {},
   "outputs": [],
   "source": [
    "df.columns = ['id', 'hour', 'date', 'month', 'dow', 'n_bikes', 'lat', 'lon']"
   ]
  },
  {
   "cell_type": "code",
   "execution_count": 8,
   "id": "973b2942-b7b3-4400-be95-09b3b5be84a9",
   "metadata": {},
   "outputs": [
    {
     "name": "stdout",
     "output_type": "stream",
     "text": [
      "<class 'pandas.core.frame.DataFrame'>\n",
      "RangeIndex: 12260589 entries, 0 to 12260588\n",
      "Data columns (total 8 columns):\n",
      " #   Column   Dtype         \n",
      "---  ------   -----         \n",
      " 0   id       int64         \n",
      " 1   hour     int64         \n",
      " 2   date     datetime64[ns]\n",
      " 3   month    int64         \n",
      " 4   dow      object        \n",
      " 5   n_bikes  float64       \n",
      " 6   lat      float64       \n",
      " 7   lon      float64       \n",
      "dtypes: datetime64[ns](1), float64(3), int64(3), object(1)\n",
      "memory usage: 748.3+ MB\n"
     ]
    }
   ],
   "source": [
    "df.info()"
   ]
  },
  {
   "cell_type": "code",
   "execution_count": 9,
   "id": "ab0f987f-27c1-4a14-bf5e-b081f7e9bef2",
   "metadata": {},
   "outputs": [
    {
     "data": {
      "text/plain": [
       "Timestamp('2022-05-04 00:00:00')"
      ]
     },
     "execution_count": 9,
     "metadata": {},
     "output_type": "execute_result"
    }
   ],
   "source": [
    "df.date.max()"
   ]
  },
  {
   "cell_type": "code",
   "execution_count": 10,
   "id": "cd9a7c69-7e3c-4a71-a487-32e085289154",
   "metadata": {},
   "outputs": [],
   "source": [
    "N_DAYS_AGO = 15"
   ]
  },
  {
   "cell_type": "code",
   "execution_count": 11,
   "id": "8fd43cf7-8550-4313-a26b-edbcdd9704fe",
   "metadata": {},
   "outputs": [],
   "source": [
    "date_N_days_ago = df.date.max() - timedelta(days=N_DAYS_AGO)"
   ]
  },
  {
   "cell_type": "code",
   "execution_count": 12,
   "id": "7a8343e9-8a3d-4596-a41b-df2846675fb4",
   "metadata": {},
   "outputs": [
    {
     "data": {
      "text/plain": [
       "Timestamp('2022-04-19 00:00:00')"
      ]
     },
     "execution_count": 12,
     "metadata": {},
     "output_type": "execute_result"
    }
   ],
   "source": [
    "date_N_days_ago"
   ]
  },
  {
   "cell_type": "code",
   "execution_count": 13,
   "id": "4ee2d12e-9dde-43bf-95a9-a4121bf6b45c",
   "metadata": {},
   "outputs": [
    {
     "data": {
      "text/plain": [
       "(12046866, 8)"
      ]
     },
     "execution_count": 13,
     "metadata": {},
     "output_type": "execute_result"
    }
   ],
   "source": [
    "df_train = df.loc[df.date < date_N_days_ago]\n",
    "df_train.shape"
   ]
  },
  {
   "cell_type": "code",
   "execution_count": 14,
   "id": "a34a5213-2ab7-48f5-9bef-ab356f24021d",
   "metadata": {},
   "outputs": [
    {
     "data": {
      "text/plain": [
       "(213723, 8)"
      ]
     },
     "execution_count": 14,
     "metadata": {},
     "output_type": "execute_result"
    }
   ],
   "source": [
    "df_test = df.loc[df.date >= date_N_days_ago]\n",
    "df_test.shape"
   ]
  },
  {
   "cell_type": "code",
   "execution_count": 15,
   "id": "3d536cd7-9450-434a-90cb-a48d76e448f0",
   "metadata": {},
   "outputs": [],
   "source": [
    "df_train_6m = df_train.iloc[:int(6e6), :]"
   ]
  },
  {
   "cell_type": "code",
   "execution_count": 16,
   "id": "affb421e-78f9-44b8-bd1a-e14339028f52",
   "metadata": {},
   "outputs": [],
   "source": [
    "del df_train, df"
   ]
  },
  {
   "cell_type": "code",
   "execution_count": 17,
   "id": "0a26ce05-ac05-469f-967c-2459d9f0416d",
   "metadata": {},
   "outputs": [
    {
     "name": "stdout",
     "output_type": "stream",
     "text": [
      "<class 'pandas.core.frame.DataFrame'>\n",
      "Int64Index: 6000000 entries, 0 to 6105947\n",
      "Data columns (total 8 columns):\n",
      " #   Column   Dtype         \n",
      "---  ------   -----         \n",
      " 0   id       int64         \n",
      " 1   hour     int64         \n",
      " 2   date     datetime64[ns]\n",
      " 3   month    int64         \n",
      " 4   dow      object        \n",
      " 5   n_bikes  float64       \n",
      " 6   lat      float64       \n",
      " 7   lon      float64       \n",
      "dtypes: datetime64[ns](1), float64(3), int64(3), object(1)\n",
      "memory usage: 412.0+ MB\n"
     ]
    }
   ],
   "source": [
    "df_train_6m.info()"
   ]
  },
  {
   "cell_type": "code",
   "execution_count": 18,
   "id": "59f1d616-1b20-4062-af7a-7c584b5f52ff",
   "metadata": {},
   "outputs": [],
   "source": [
    "def get_features(df: pd.DataFrame, label: str=None) -> pd.DataFrame:\n",
    "    \"\"\"\n",
    "    Get time series features from dataframe\n",
    "    \"\"\"\n",
    "    ds = df['date'].dt\n",
    "    df['dayofweek'] = ds.dayofweek\n",
    "    df['quarter'] = ds.quarter\n",
    "    df['month'] = ds.month\n",
    "    df['year'] = ds.year\n",
    "    df['dayofyear'] = ds.dayofyear\n",
    "    df['dayofmonth'] = ds.day\n",
    "    df['weekofyear'] = ds.isocalendar().week.astype(int)\n",
    "    X = df[[\n",
    "        'hour','dayofweek','quarter','month','year',\n",
    "        'dayofyear','dayofmonth','weekofyear','lat','lon'\n",
    "    ]]\n",
    "    if label:\n",
    "        y = df[label]\n",
    "        return X, y\n",
    "    return X"
   ]
  },
  {
   "cell_type": "code",
   "execution_count": 19,
   "id": "586b70f2-8d43-479d-8816-ce6e150906d3",
   "metadata": {},
   "outputs": [],
   "source": [
    "X_train, y_train = get_features(df_train_6m, label='n_bikes')"
   ]
  },
  {
   "cell_type": "code",
   "execution_count": 20,
   "id": "d3cb17c2-1953-4528-8b2c-faaa342161e7",
   "metadata": {},
   "outputs": [],
   "source": [
    "X_test, y_test = get_features(df_test, label='n_bikes')"
   ]
  },
  {
   "cell_type": "code",
   "execution_count": 21,
   "id": "46c17f80-182d-4fe0-b1b1-51eab1fd489c",
   "metadata": {},
   "outputs": [
    {
     "name": "stdout",
     "output_type": "stream",
     "text": [
      "<class 'pandas.core.frame.DataFrame'>\n",
      "Int64Index: 213723 entries, 190 to 12259911\n",
      "Data columns (total 10 columns):\n",
      " #   Column      Non-Null Count   Dtype  \n",
      "---  ------      --------------   -----  \n",
      " 0   hour        213723 non-null  int64  \n",
      " 1   dayofweek   213723 non-null  int64  \n",
      " 2   quarter     213723 non-null  int64  \n",
      " 3   month       213723 non-null  int64  \n",
      " 4   year        213723 non-null  int64  \n",
      " 5   dayofyear   213723 non-null  int64  \n",
      " 6   dayofmonth  213723 non-null  int64  \n",
      " 7   weekofyear  213723 non-null  int64  \n",
      " 8   lat         213723 non-null  float64\n",
      " 9   lon         213723 non-null  float64\n",
      "dtypes: float64(2), int64(8)\n",
      "memory usage: 17.9 MB\n"
     ]
    }
   ],
   "source": [
    "X_test.info()"
   ]
  },
  {
   "cell_type": "code",
   "execution_count": 22,
   "id": "ac4522a9-da31-4986-998c-99acd146dd9a",
   "metadata": {
    "tags": []
   },
   "outputs": [
    {
     "name": "stderr",
     "output_type": "stream",
     "text": [
      "/usr/home/xu.fei/bike_predict_python/.venv/lib/python3.9/site-packages/xgboost/sklearn.py:793: UserWarning: `early_stopping_rounds` in `fit` method is deprecated for better compatibility with scikit-learn, use `early_stopping_rounds` in constructor or`set_params` instead.\n",
      "  warnings.warn(\n"
     ]
    },
    {
     "name": "stdout",
     "output_type": "stream",
     "text": [
      "[0]\tvalidation_0-rmse:7.37005\tvalidation_1-rmse:6.48298\n",
      "[1]\tvalidation_0-rmse:6.32266\tvalidation_1-rmse:5.61160\n",
      "[2]\tvalidation_0-rmse:5.70795\tvalidation_1-rmse:5.21635\n",
      "[3]\tvalidation_0-rmse:5.35006\tvalidation_1-rmse:4.99361\n",
      "[4]\tvalidation_0-rmse:5.11964\tvalidation_1-rmse:4.90110\n",
      "[5]\tvalidation_0-rmse:4.97557\tvalidation_1-rmse:4.83994\n",
      "[6]\tvalidation_0-rmse:4.88935\tvalidation_1-rmse:4.82101\n",
      "[7]\tvalidation_0-rmse:4.83465\tvalidation_1-rmse:4.79039\n",
      "[8]\tvalidation_0-rmse:4.79338\tvalidation_1-rmse:4.78461\n",
      "[9]\tvalidation_0-rmse:4.76217\tvalidation_1-rmse:4.78001\n",
      "[10]\tvalidation_0-rmse:4.73402\tvalidation_1-rmse:4.78176\n",
      "[11]\tvalidation_0-rmse:4.70664\tvalidation_1-rmse:4.76813\n",
      "[12]\tvalidation_0-rmse:4.66219\tvalidation_1-rmse:4.73099\n",
      "[13]\tvalidation_0-rmse:4.65420\tvalidation_1-rmse:4.73513\n",
      "[14]\tvalidation_0-rmse:4.63673\tvalidation_1-rmse:4.73199\n",
      "[15]\tvalidation_0-rmse:4.62376\tvalidation_1-rmse:4.73848\n",
      "[16]\tvalidation_0-rmse:4.61247\tvalidation_1-rmse:4.74117\n",
      "[17]\tvalidation_0-rmse:4.59319\tvalidation_1-rmse:4.73226\n",
      "[18]\tvalidation_0-rmse:4.57500\tvalidation_1-rmse:4.73145\n",
      "[19]\tvalidation_0-rmse:4.55067\tvalidation_1-rmse:4.70993\n",
      "[20]\tvalidation_0-rmse:4.53976\tvalidation_1-rmse:4.70702\n",
      "[21]\tvalidation_0-rmse:4.53151\tvalidation_1-rmse:4.70517\n",
      "[22]\tvalidation_0-rmse:4.51887\tvalidation_1-rmse:4.69404\n",
      "[23]\tvalidation_0-rmse:4.50735\tvalidation_1-rmse:4.68619\n",
      "[24]\tvalidation_0-rmse:4.50217\tvalidation_1-rmse:4.68313\n",
      "[25]\tvalidation_0-rmse:4.49639\tvalidation_1-rmse:4.68276\n",
      "[26]\tvalidation_0-rmse:4.48773\tvalidation_1-rmse:4.68253\n",
      "[27]\tvalidation_0-rmse:4.48089\tvalidation_1-rmse:4.67764\n",
      "[28]\tvalidation_0-rmse:4.46822\tvalidation_1-rmse:4.67214\n",
      "[29]\tvalidation_0-rmse:4.45452\tvalidation_1-rmse:4.66517\n",
      "[30]\tvalidation_0-rmse:4.44795\tvalidation_1-rmse:4.66623\n",
      "[31]\tvalidation_0-rmse:4.44165\tvalidation_1-rmse:4.66661\n",
      "[32]\tvalidation_0-rmse:4.43561\tvalidation_1-rmse:4.66274\n",
      "[33]\tvalidation_0-rmse:4.43144\tvalidation_1-rmse:4.66434\n",
      "[34]\tvalidation_0-rmse:4.42665\tvalidation_1-rmse:4.66086\n",
      "[35]\tvalidation_0-rmse:4.42080\tvalidation_1-rmse:4.66188\n",
      "[36]\tvalidation_0-rmse:4.41615\tvalidation_1-rmse:4.67538\n",
      "[37]\tvalidation_0-rmse:4.40556\tvalidation_1-rmse:4.67317\n",
      "[38]\tvalidation_0-rmse:4.39465\tvalidation_1-rmse:4.67528\n",
      "[39]\tvalidation_0-rmse:4.38930\tvalidation_1-rmse:4.67674\n",
      "[40]\tvalidation_0-rmse:4.38626\tvalidation_1-rmse:4.68316\n",
      "[41]\tvalidation_0-rmse:4.38019\tvalidation_1-rmse:4.68601\n",
      "[42]\tvalidation_0-rmse:4.37572\tvalidation_1-rmse:4.68523\n",
      "[43]\tvalidation_0-rmse:4.37033\tvalidation_1-rmse:4.68370\n",
      "[44]\tvalidation_0-rmse:4.36743\tvalidation_1-rmse:4.68433\n"
     ]
    },
    {
     "data": {
      "text/plain": [
       "XGBRegressor(base_score=0.5, booster='gbtree', callbacks=None,\n",
       "             colsample_bylevel=1, colsample_bynode=1, colsample_bytree=1,\n",
       "             early_stopping_rounds=None, enable_categorical=False,\n",
       "             eval_metric=None, gamma=0, gpu_id=-1, grow_policy='depthwise',\n",
       "             importance_type=None, interaction_constraints='',\n",
       "             learning_rate=0.300000012, max_bin=256, max_cat_to_onehot=4,\n",
       "             max_delta_step=0, max_depth=6, max_leaves=0, min_child_weight=1,\n",
       "             missing=nan, monotone_constraints='()', n_estimators=1000,\n",
       "             n_jobs=0, num_parallel_tree=1, predictor='auto', random_state=0,\n",
       "             reg_alpha=0, reg_lambda=1, ...)"
      ]
     },
     "execution_count": 22,
     "metadata": {},
     "output_type": "execute_result"
    }
   ],
   "source": [
    "reg = xgb.XGBRegressor(n_estimators=1000)\n",
    "reg.fit(\n",
    "    X_train, y_train,\n",
    "    eval_set=[(X_train, y_train), (X_test, y_test)],\n",
    "    early_stopping_rounds=10,\n",
    "    verbose=True) "
   ]
  },
  {
   "cell_type": "code",
   "execution_count": 23,
   "id": "def1b1b2-b081-45cc-a2ec-83d77faa5c1f",
   "metadata": {},
   "outputs": [],
   "source": [
    "plt.style.use('fivethirtyeight')"
   ]
  },
  {
   "cell_type": "code",
   "execution_count": 24,
   "id": "08d82cc8-18c3-45a9-9144-cde3e56008ae",
   "metadata": {},
   "outputs": [
    {
     "data": {
      "image/png": "[encoded data removed]",
      "text/plain": [
       "<Figure size 432x288 with 1 Axes>"
      ]
     },
     "metadata": {
      "needs_background": "light"
     },
     "output_type": "display_data"
    }
   ],
   "source": [
    "_ = plot_importance(reg, height=0.9)"
   ]
  },
  {
   "cell_type": "code",
   "execution_count": 25,
   "id": "435c8f1e-efa1-4149-b740-77613ab7cafe",
   "metadata": {},
   "outputs": [],
   "source": [
    "df_test['bike_pred'] = reg.predict(X_test)"
   ]
  },
  {
   "cell_type": "code",
   "execution_count": 26,
   "id": "780db55d-16d7-44e2-aa92-9f08b5f92421",
   "metadata": {},
   "outputs": [
    {
     "name": "stdout",
     "output_type": "stream",
     "text": [
      "RMSE: 4.660859\n"
     ]
    }
   ],
   "source": [
    "import math\n",
    "from math import sqrt\n",
    "test_mse = mean_squared_error(y_test, df_test['bike_pred'])\n",
    "rmse = sqrt(test_mse)\n",
    "print('RMSE: %f' % rmse)"
   ]
  },
  {
   "cell_type": "code",
   "execution_count": 27,
   "id": "45cdfe38-38c4-4b4d-b790-4be6e0aafa5b",
   "metadata": {},
   "outputs": [
    {
     "data": {
      "text/plain": [
       "6.396835701663679"
      ]
     },
     "execution_count": 27,
     "metadata": {},
     "output_type": "execute_result"
    }
   ],
   "source": [
    "np.mean(y_test)"
   ]
  },
  {
   "cell_type": "code",
   "execution_count": 28,
   "id": "80789cd5-82ae-49cf-a6f1-e8e1c08ddf84",
   "metadata": {},
   "outputs": [
    {
     "data": {
      "text/html": [
       "<div>\n",
       "<style scoped>\n",
       "    .dataframe tbody tr th:only-of-type {\n",
       "        vertical-align: middle;\n",
       "    }\n",
       "\n",
       "    .dataframe tbody tr th {\n",
       "        vertical-align: top;\n",
       "    }\n",
       "\n",
       "    .dataframe thead th {\n",
       "        text-align: right;\n",
       "    }\n",
       "</style>\n",
       "<table border=\"1\" class=\"dataframe\">\n",
       "  <thead>\n",
       "    <tr style=\"text-align: right;\">\n",
       "      <th></th>\n",
       "      <th>id</th>\n",
       "      <th>hour</th>\n",
       "      <th>date</th>\n",
       "      <th>month</th>\n",
       "      <th>dow</th>\n",
       "      <th>n_bikes</th>\n",
       "      <th>lat</th>\n",
       "      <th>lon</th>\n",
       "      <th>dayofweek</th>\n",
       "      <th>quarter</th>\n",
       "      <th>year</th>\n",
       "      <th>dayofyear</th>\n",
       "      <th>dayofmonth</th>\n",
       "      <th>weekofyear</th>\n",
       "      <th>bike_pred</th>\n",
       "    </tr>\n",
       "  </thead>\n",
       "  <tbody>\n",
       "    <tr>\n",
       "      <th>190</th>\n",
       "      <td>73</td>\n",
       "      <td>4</td>\n",
       "      <td>2022-04-19</td>\n",
       "      <td>4</td>\n",
       "      <td>Tuesday</td>\n",
       "      <td>0.0</td>\n",
       "      <td>38.933668</td>\n",
       "      <td>-76.991016</td>\n",
       "      <td>1</td>\n",
       "      <td>2</td>\n",
       "      <td>2022</td>\n",
       "      <td>109</td>\n",
       "      <td>19</td>\n",
       "      <td>16</td>\n",
       "      <td>2.676972</td>\n",
       "    </tr>\n",
       "    <tr>\n",
       "      <th>191</th>\n",
       "      <td>73</td>\n",
       "      <td>4</td>\n",
       "      <td>2022-04-20</td>\n",
       "      <td>4</td>\n",
       "      <td>Wednesday</td>\n",
       "      <td>1.0</td>\n",
       "      <td>38.933668</td>\n",
       "      <td>-76.991016</td>\n",
       "      <td>2</td>\n",
       "      <td>2</td>\n",
       "      <td>2022</td>\n",
       "      <td>110</td>\n",
       "      <td>20</td>\n",
       "      <td>16</td>\n",
       "      <td>2.676972</td>\n",
       "    </tr>\n",
       "    <tr>\n",
       "      <th>192</th>\n",
       "      <td>73</td>\n",
       "      <td>4</td>\n",
       "      <td>2022-04-21</td>\n",
       "      <td>4</td>\n",
       "      <td>Thursday</td>\n",
       "      <td>0.0</td>\n",
       "      <td>38.933668</td>\n",
       "      <td>-76.991016</td>\n",
       "      <td>3</td>\n",
       "      <td>2</td>\n",
       "      <td>2022</td>\n",
       "      <td>111</td>\n",
       "      <td>21</td>\n",
       "      <td>16</td>\n",
       "      <td>2.676972</td>\n",
       "    </tr>\n",
       "    <tr>\n",
       "      <th>193</th>\n",
       "      <td>73</td>\n",
       "      <td>4</td>\n",
       "      <td>2022-04-22</td>\n",
       "      <td>4</td>\n",
       "      <td>Friday</td>\n",
       "      <td>0.0</td>\n",
       "      <td>38.933668</td>\n",
       "      <td>-76.991016</td>\n",
       "      <td>4</td>\n",
       "      <td>2</td>\n",
       "      <td>2022</td>\n",
       "      <td>112</td>\n",
       "      <td>22</td>\n",
       "      <td>16</td>\n",
       "      <td>2.676972</td>\n",
       "    </tr>\n",
       "    <tr>\n",
       "      <th>194</th>\n",
       "      <td>73</td>\n",
       "      <td>4</td>\n",
       "      <td>2022-04-23</td>\n",
       "      <td>4</td>\n",
       "      <td>Saturday</td>\n",
       "      <td>3.0</td>\n",
       "      <td>38.933668</td>\n",
       "      <td>-76.991016</td>\n",
       "      <td>5</td>\n",
       "      <td>2</td>\n",
       "      <td>2022</td>\n",
       "      <td>113</td>\n",
       "      <td>23</td>\n",
       "      <td>16</td>\n",
       "      <td>2.614131</td>\n",
       "    </tr>\n",
       "  </tbody>\n",
       "</table>\n",
       "</div>"
      ],
      "text/plain": [
       "     id  hour       date  month        dow  n_bikes        lat        lon  \\\n",
       "190  73     4 2022-04-19      4    Tuesday      0.0  38.933668 -76.991016   \n",
       "191  73     4 2022-04-20      4  Wednesday      1.0  38.933668 -76.991016   \n",
       "192  73     4 2022-04-21      4   Thursday      0.0  38.933668 -76.991016   \n",
       "193  73     4 2022-04-22      4     Friday      0.0  38.933668 -76.991016   \n",
       "194  73     4 2022-04-23      4   Saturday      3.0  38.933668 -76.991016   \n",
       "\n",
       "     dayofweek  quarter  year  dayofyear  dayofmonth  weekofyear  bike_pred  \n",
       "190          1        2  2022        109          19          16   2.676972  \n",
       "191          2        2  2022        110          20          16   2.676972  \n",
       "192          3        2  2022        111          21          16   2.676972  \n",
       "193          4        2  2022        112          22          16   2.676972  \n",
       "194          5        2  2022        113          23          16   2.614131  "
      ]
     },
     "execution_count": 28,
     "metadata": {},
     "output_type": "execute_result"
    }
   ],
   "source": [
    "df_test.head()"
   ]
  },
  {
   "cell_type": "code",
   "execution_count": 29,
   "id": "938d35f9-1dad-4b5d-9491-f8b2c8d874a7",
   "metadata": {},
   "outputs": [
    {
     "data": {
      "image/png": "[encoded data removed]",
      "text/plain": [
       "<Figure size 1080x360 with 1 Axes>"
      ]
     },
     "metadata": {
      "needs_background": "light"
     },
     "output_type": "display_data"
    }
   ],
   "source": [
    "_ = df_test[['n_bikes','bike_pred']].plot(figsize=(15, 5))"
   ]
  },
  {
   "cell_type": "code",
   "execution_count": 30,
   "id": "684456e0-a503-4b11-9db9-0bd8f4e315e5",
   "metadata": {},
   "outputs": [],
   "source": [
    "df_all = pd.concat([df_test, df_train_6m], sort=False)"
   ]
  },
  {
   "cell_type": "code",
   "execution_count": 31,
   "id": "3dd2a29e-8b7e-416e-befd-3c43a55acd84",
   "metadata": {},
   "outputs": [
    {
     "data": {
      "text/plain": [
       "21.723608676004737"
      ]
     },
     "execution_count": 31,
     "metadata": {},
     "output_type": "execute_result"
    }
   ],
   "source": [
    "mean_squared_error(y_true=df_test['n_bikes'],\n",
    "                   y_pred=df_test['bike_pred'])"
   ]
  },
  {
   "cell_type": "code",
   "execution_count": 32,
   "id": "58271e72-ce0b-4bc0-a064-8080ff02ce79",
   "metadata": {},
   "outputs": [
    {
     "data": {
      "text/plain": [
       "3.640628322329985"
      ]
     },
     "execution_count": 32,
     "metadata": {},
     "output_type": "execute_result"
    }
   ],
   "source": [
    "mean_absolute_error(y_true=df_test['n_bikes'],\n",
    "                   y_pred=df_test['bike_pred'])"
   ]
  },
  {
   "cell_type": "markdown",
   "id": "841d9174-a11f-4ff4-9e92-69e5736bd375",
   "metadata": {},
   "source": [
    "# Save model and write to pins"
   ]
  },
  {
   "cell_type": "code",
   "execution_count": 39,
   "id": "c8a138b7-ddca-4b5a-8e6e-2f22c396e735",
   "metadata": {},
   "outputs": [
    {
     "data": {
      "text/plain": [
       "['bike_xgboost.joblib']"
      ]
     },
     "execution_count": 39,
     "metadata": {},
     "output_type": "execute_result"
    }
   ],
   "source": [
    "import joblib\n",
    "joblib.dump(reg, \"bike_xgboost.joblib\") "
   ]
  },
  {
   "cell_type": "code",
   "execution_count": 43,
   "id": "f963aad9-ff66-4602-b06c-32558c84c454",
   "metadata": {},
   "outputs": [
    {
     "name": "stderr",
     "output_type": "stream",
     "text": [
      "Writing to pin 'xu.fei/bike_xgboost_6m'\n"
     ]
    },
    {
     "data": {
      "text/plain": [
       "Meta(title='Pinned xgboost model for bike share', description='Test xgboost model trained with bike share data', created='20220510T011519Z', pin_hash='d46cb203ca28c896', file='bike_xgboost_6m.joblib', file_size=228292, type='joblib', api_version=1, version=VersionRaw(version='56177'), name='xu.fei/bike_xgboost_6m', user={})"
      ]
     },
     "execution_count": 43,
     "metadata": {},
     "output_type": "execute_result"
    }
   ],
   "source": [
    "board.pin_write(\n",
    "    reg,\n",
    "    name=\"xu.fei/bike_xgboost_6m\",\n",
    "    title='Pinned xgboost model for bike share',\n",
    "    type=\"joblib\",\n",
    "    description = \"Test xgboost model trained with bike share data\",\n",
    ")"
   ]
  },
  {
   "cell_type": "markdown",
   "id": "bbe3d17d-7238-4ca8-8ee7-09e53da8004b",
   "metadata": {},
   "source": [
    "# Vetiver"
   ]
  },
  {
   "cell_type": "code",
   "execution_count": 33,
   "id": "e9d1021b-4386-4e34-a1f2-899ac72a3e43",
   "metadata": {},
   "outputs": [],
   "source": [
    "from vetiver import VetiverModel, VetiverAPI, vetiver_endpoint"
   ]
  },
  {
   "cell_type": "code",
   "execution_count": 34,
   "id": "12b71af0-9e31-4151-ba99-511ccaae3ecb",
   "metadata": {},
   "outputs": [],
   "source": [
    "v = VetiverModel(reg, save_ptype = True, ptype_data=df_train_6m, model_name = \"bikeshare_xgboost\")"
   ]
  },
  {
   "cell_type": "code",
   "execution_count": 35,
   "id": "dfb02216-a724-46a9-a692-d2ed59d85ed9",
   "metadata": {},
   "outputs": [],
   "source": [
    "from rsconnect.api import RSConnectServer\n",
    "from rsconnect.actions import deploy_python_fastapi"
   ]
  },
  {
   "cell_type": "code",
   "execution_count": 36,
   "id": "6396216f-f9fa-436a-8f33-81a9956c04d1",
   "metadata": {},
   "outputs": [
    {
     "data": {
      "text/plain": [
       "True"
      ]
     },
     "execution_count": 36,
     "metadata": {},
     "output_type": "execute_result"
    }
   ],
   "source": [
    "import os\n",
    "from dotenv import load_dotenv, find_dotenv\n",
    "load_dotenv(find_dotenv())"
   ]
  },
  {
   "cell_type": "code",
   "execution_count": 37,
   "id": "483c58cd-48cd-4e77-b722-e7515b732ef2",
   "metadata": {},
   "outputs": [],
   "source": [
    "rsc_url = os.getenv(\"CONNECT_SERVER\")\n",
    "api_key = os.getenv(\"CONNECT_API_KEY\")\n",
    "connect_server = RSConnectServer(url=rsc_url, api_key=api_key)"
   ]
  },
  {
   "cell_type": "code",
   "execution_count": 45,
   "id": "606644ac-030a-44ff-a80b-38aadb9f7428",
   "metadata": {
    "collapsed": true,
    "jupyter": {
     "outputs_hidden": true
    },
    "tags": []
   },
   "outputs": [
    {
     "data": {
      "text/plain": [
       "\u001b[0;31mSignature:\u001b[0m\n",
       "\u001b[0mdeploy_python_fastapi\u001b[0m\u001b[0;34m(\u001b[0m\u001b[0;34m\u001b[0m\n",
       "\u001b[0;34m\u001b[0m    \u001b[0mconnect_server\u001b[0m\u001b[0;34m,\u001b[0m\u001b[0;34m\u001b[0m\n",
       "\u001b[0;34m\u001b[0m    \u001b[0mdirectory\u001b[0m\u001b[0;34m,\u001b[0m\u001b[0;34m\u001b[0m\n",
       "\u001b[0;34m\u001b[0m    \u001b[0mextra_files\u001b[0m\u001b[0;34m,\u001b[0m\u001b[0;34m\u001b[0m\n",
       "\u001b[0;34m\u001b[0m    \u001b[0mexcludes\u001b[0m\u001b[0;34m,\u001b[0m\u001b[0;34m\u001b[0m\n",
       "\u001b[0;34m\u001b[0m    \u001b[0mentry_point\u001b[0m\u001b[0;34m,\u001b[0m\u001b[0;34m\u001b[0m\n",
       "\u001b[0;34m\u001b[0m    \u001b[0mnew\u001b[0m\u001b[0;34m=\u001b[0m\u001b[0;32mFalse\u001b[0m\u001b[0;34m,\u001b[0m\u001b[0;34m\u001b[0m\n",
       "\u001b[0;34m\u001b[0m    \u001b[0mapp_id\u001b[0m\u001b[0;34m=\u001b[0m\u001b[0;32mNone\u001b[0m\u001b[0;34m,\u001b[0m\u001b[0;34m\u001b[0m\n",
       "\u001b[0;34m\u001b[0m    \u001b[0mtitle\u001b[0m\u001b[0;34m=\u001b[0m\u001b[0;32mNone\u001b[0m\u001b[0;34m,\u001b[0m\u001b[0;34m\u001b[0m\n",
       "\u001b[0;34m\u001b[0m    \u001b[0mpython\u001b[0m\u001b[0;34m=\u001b[0m\u001b[0;32mNone\u001b[0m\u001b[0;34m,\u001b[0m\u001b[0;34m\u001b[0m\n",
       "\u001b[0;34m\u001b[0m    \u001b[0mconda_mode\u001b[0m\u001b[0;34m=\u001b[0m\u001b[0;32mFalse\u001b[0m\u001b[0;34m,\u001b[0m\u001b[0;34m\u001b[0m\n",
       "\u001b[0;34m\u001b[0m    \u001b[0mforce_generate\u001b[0m\u001b[0;34m=\u001b[0m\u001b[0;32mFalse\u001b[0m\u001b[0;34m,\u001b[0m\u001b[0;34m\u001b[0m\n",
       "\u001b[0;34m\u001b[0m    \u001b[0mlog_callback\u001b[0m\u001b[0;34m=\u001b[0m\u001b[0;32mNone\u001b[0m\u001b[0;34m,\u001b[0m\u001b[0;34m\u001b[0m\n",
       "\u001b[0;34m\u001b[0m\u001b[0;34m)\u001b[0m\u001b[0;34m\u001b[0m\u001b[0;34m\u001b[0m\u001b[0m\n",
       "\u001b[0;31mDocstring:\u001b[0m\n",
       "A function to deploy a Python ASGI API module to RStudio Connect.  Depending on the files involved\n",
       "    and network latency, this may take a bit of time.\n",
       "\n",
       "    :param connect_server: the Connect server information.\n",
       "    :param directory: the app directory to deploy.\n",
       "    :param extra_files: any extra files that should be included in the deploy.\n",
       "    :param excludes: a sequence of glob patterns that will exclude matched files.\n",
       "    :param entry_point: the module/executable object for the WSGi framework.\n",
       "    :param new: a flag to force this as a new deploy.\n",
       "    :param app_id: the ID of an existing application to deploy new files for.\n",
       "    :param title: an optional title for the deploy.  If this is not provided, ne will\n",
       "    be generated.\n",
       "    :param python: the optional name of a Python executable.\n",
       "    :param conda_mode: use conda to build an environment.yml\n",
       "    instead of conda, when conda is not supported on RStudio Connect (version<=1.8.0).\n",
       "    :param force_generate: force generating \"requirements.txt\" or \"environment.yml\",\n",
       "    even if it already exists.\n",
       "    :param log_callback: the callback to use to write the log to.  If this is None\n",
       "    (the default) the lines from the deployment log will be returned as a sequence.\n",
       "    If a log callback is provided, then None will be returned for the log lines part\n",
       "    of the return tuple.\n",
       "    :return: the ultimate URL where the deployed app may be accessed and the sequence\n",
       "    of log lines.  The log lines value will be None if a log callback was provided.\n",
       "    \n",
       "\u001b[0;31mFile:\u001b[0m      ~/bike_predict_python/.venv/lib/python3.9/site-packages/rsconnect/actions.py\n",
       "\u001b[0;31mType:\u001b[0m      function\n"
      ]
     },
     "metadata": {},
     "output_type": "display_data"
    }
   ],
   "source": [
    "deploy_python_fastapi?"
   ]
  },
  {
   "cell_type": "code",
   "execution_count": 46,
   "id": "b1966b9d-5d81-4ac3-85b5-a9ba0e05d973",
   "metadata": {},
   "outputs": [
    {
     "data": {
      "text/plain": [
       "('https://colorado.rstudio.com/rsc/connect/#/apps/f61c7722-1b41-4cb1-ac55-a67e6d226925',\n",
       " ['Building FastAPI application...',\n",
       "  'Bundle created with Python version 3.9.6 is compatible with environment Kubernetes::ghcr.io/rstudio/content-pro:r4.0.5-py3.9.2-bionic with Python version 3.9.2 from /opt/python/3.9.2/bin/python3.9 ',\n",
       "  'Bundle requested Python version 3.9.6; using /opt/python/3.9.2/bin/python3.9 from Kubernetes::ghcr.io/rstudio/content-pro:r4.0.5-py3.9.2-bionic which has version 3.9.2',\n",
       "  'Determining session server location ...',\n",
       "  'Connecting to session server http://172.19.57.196:30414 ...',\n",
       "  'Connected to session server http://172.19.57.196:30414',\n",
       "  '2022/05/10 01:30:14.312393560 Running on host: python-environment-restore-mvlxc-hxjwm',\n",
       "  '2022/05/10 01:30:14.312413062 Working directory: /opt/rstudio-connect/mnt/app',\n",
       "  '2022/05/10 01:30:14.312481936 Environment will be built with Python \"3.9.2 (default, Mar  3 2021, 20:02:32)  [GCC 7.3.0]\" at /opt/python/3.9.2/bin/python3.9',\n",
       "  '2022/05/10 01:30:14.312889611 Running as user: 999',\n",
       "  '2022/05/10 01:30:14.349260966 Creating environment: 0x3nFx8-S8lr4u9M91NV5w',\n",
       "  '2022/05/10 01:30:29.866716979 Collecting pip',\n",
       "  '2022/05/10 01:30:29.979629989   Downloading pip-22.0.4-py3-none-any.whl (2.1 MB)',\n",
       "  '2022/05/10 01:30:31.532543803 Collecting setuptools',\n",
       "  '2022/05/10 01:30:31.613365199   Downloading setuptools-62.1.0-py3-none-any.whl (1.1 MB)',\n",
       "  '2022/05/10 01:30:31.856415548 Requirement already up-to-date: wheel in /opt/python/3.9.2/lib/python3.9/site-packages (0.37.1)',\n",
       "  '2022/05/10 01:30:31.995128052 Installing collected packages: pip, setuptools',\n",
       "  '2022/05/10 01:30:31.995156052   Attempting uninstall: pip',\n",
       "  '2022/05/10 01:30:31.995434814     Found existing installation: pip 20.2.3',\n",
       "  '2022/05/10 01:30:33.274038629     Uninstalling pip-20.2.3:',\n",
       "  '2022/05/10 01:30:33.456477764       Successfully uninstalled pip-20.2.3',\n",
       "  '2022/05/10 01:30:46.595652923   Attempting uninstall: setuptools',\n",
       "  '2022/05/10 01:30:46.595798109     Found existing installation: setuptools 49.2.1',\n",
       "  '2022/05/10 01:30:47.086319963     Uninstalling setuptools-49.2.1:',\n",
       "  '2022/05/10 01:30:47.438379399       Successfully uninstalled setuptools-49.2.1',\n",
       "  '2022/05/10 01:30:52.541484574 Successfully installed pip-22.0.4 setuptools-62.1.0',\n",
       "  '2022/05/10 01:30:55.492409193 Collecting anyio==3.5.0',\n",
       "  '2022/05/10 01:30:55.619436696   Using cached anyio-3.5.0-py3-none-any.whl (79 kB)',\n",
       "  '2022/05/10 01:30:55.623530145 Requirement already satisfied: appdirs==1.4.4 in /opt/python/3.9.2/lib/python3.9/site-packages (from -r python/requirements.txt (line 2)) (1.4.4)',\n",
       "  '2022/05/10 01:30:55.802435652 Collecting asgiref==3.5.1',\n",
       "  '2022/05/10 01:30:55.924638485   Downloading asgiref-3.5.1-py3-none-any.whl (22 kB)',\n",
       "  '2022/05/10 01:30:56.073509264 Collecting asttokens==2.0.5',\n",
       "  '2022/05/10 01:30:56.174407893   Using cached asttokens-2.0.5-py2.py3-none-any.whl (20 kB)',\n",
       "  '2022/05/10 01:30:56.340241220 Collecting backcall==0.2.0',\n",
       "  '2022/05/10 01:30:56.455167001   Using cached backcall-0.2.0-py2.py3-none-any.whl (11 kB)',\n",
       "  '2022/05/10 01:30:56.458009338 Requirement already satisfied: certifi==2021.10.8 in /opt/python/3.9.2/lib/python3.9/site-packages (from -r python/requirements.txt (line 6)) (2021.10.8)',\n",
       "  '2022/05/10 01:30:56.610108408 Collecting charset-normalizer==2.0.12',\n",
       "  '2022/05/10 01:30:56.703127643   Using cached charset_normalizer-2.0.12-py3-none-any.whl (39 kB)',\n",
       "  '2022/05/10 01:30:56.868533243 Collecting click==8.1.3',\n",
       "  '2022/05/10 01:30:56.974811544   Using cached click-8.1.3-py3-none-any.whl (96 kB)',\n",
       "  '2022/05/10 01:30:57.107973747 Collecting cycler==0.11.0',\n",
       "  '2022/05/10 01:30:57.204578595   Using cached cycler-0.11.0-py3-none-any.whl (6.4 kB)',\n",
       "  '2022/05/10 01:30:57.576187264 Collecting debugpy==1.6.0',\n",
       "  '2022/05/10 01:30:57.678002333   Using cached debugpy-1.6.0-cp39-cp39-manylinux_2_5_x86_64.manylinux1_x86_64.manylinux_2_12_x86_64.manylinux2010_x86_64.whl (1.8 MB)',\n",
       "  '2022/05/10 01:30:57.831174658 Collecting decorator==5.1.1',\n",
       "  '2022/05/10 01:30:57.921404099   Using cached decorator-5.1.1-py3-none-any.whl (9.1 kB)',\n",
       "  '2022/05/10 01:30:58.058691864 Collecting entrypoints==0.4',\n",
       "  '2022/05/10 01:30:58.160962026   Using cached entrypoints-0.4-py3-none-any.whl (5.3 kB)',\n",
       "  '2022/05/10 01:30:58.360248467 Collecting executing==0.8.3',\n",
       "  '2022/05/10 01:30:58.634629082   Using cached executing-0.8.3-py2.py3-none-any.whl (16 kB)',\n",
       "  '2022/05/10 01:30:58.865914663 Collecting fastapi==0.76.0',\n",
       "  '2022/05/10 01:30:58.963963070   Downloading fastapi-0.76.0-py3-none-any.whl (54 kB)',\n",
       "  '2022/05/10 01:30:58.983176418      ━━━━━━━━━━━━━━━━━━━━━━━━━━━━━━━━━━━━━━━━ 54.5/54.5 KB 3.1 MB/s eta 0:00:00',\n",
       "  '2022/05/10 01:30:59.180043880 Collecting fonttools==4.33.3',\n",
       "  '2022/05/10 01:30:59.270129128   Downloading fonttools-4.33.3-py3-none-any.whl (930 kB)',\n",
       "  '2022/05/10 01:30:59.308359105      ━━━━━━━━━━━━━━━━━━━━━━━━━━━━━━━━━━━━━━ 930.9/930.9 KB 26.7 MB/s eta 0:00:00',\n",
       "  '2022/05/10 01:30:59.457905400 Collecting fsspec==2022.3.0',\n",
       "  '2022/05/10 01:30:59.550502162   Using cached fsspec-2022.3.0-py3-none-any.whl (136 kB)',\n",
       "  '2022/05/10 01:30:59.804394147 Collecting greenlet==1.1.2',\n",
       "  '2022/05/10 01:30:59.922939893   Using cached greenlet-1.1.2-cp39-cp39-manylinux_2_17_x86_64.manylinux2014_x86_64.whl (153 kB)',\n",
       "  '2022/05/10 01:31:00.071604428 Collecting h11==0.13.0',\n",
       "  '2022/05/10 01:31:00.168477483   Using cached h11-0.13.0-py3-none-any.whl (58 kB)',\n",
       "  '2022/05/10 01:31:00.357484981 Collecting humanize==4.1.0',\n",
       "  '2022/05/10 01:31:00.470234064   Downloading humanize-4.1.0-py3-none-any.whl (101 kB)',\n",
       "  '2022/05/10 01:31:00.495112711      ━━━━━━━━━━━━━━━━━━━━━━━━━━━━━━━━━━━━━━━ 101.3/101.3 KB 5.1 MB/s eta 0:00:00',\n",
       "  '2022/05/10 01:31:00.639216697 Collecting idna==3.3',\n",
       "  '2022/05/10 01:31:00.737171954   Using cached idna-3.3-py3-none-any.whl (61 kB)',\n",
       "  '2022/05/10 01:31:00.978344050 Collecting importlib-metadata==4.11.3',\n",
       "  '2022/05/10 01:31:01.075868225   Using cached importlib_metadata-4.11.3-py3-none-any.whl (18 kB)',\n",
       "  '2022/05/10 01:31:01.242656425 Collecting importlib-resources==5.7.1',\n",
       "  '2022/05/10 01:31:01.337592995   Using cached importlib_resources-5.7.1-py3-none-any.whl (28 kB)',\n",
       "  '2022/05/10 01:31:01.516765417 Collecting ipykernel==6.13.0',\n",
       "  '2022/05/10 01:31:01.610068167   Using cached ipykernel-6.13.0-py3-none-any.whl (131 kB)',\n",
       "  '2022/05/10 01:31:01.833162250 Collecting ipython==8.3.0',\n",
       "  '2022/05/10 01:31:01.968987838   Using cached ipython-8.3.0-py3-none-any.whl (750 kB)',\n",
       "  '2022/05/10 01:31:02.152073479 Collecting jedi==0.18.1',\n",
       "  '2022/05/10 01:31:02.256218662   Using cached jedi-0.18.1-py2.py3-none-any.whl (1.6 MB)',\n",
       "  '2022/05/10 01:31:02.418882309 Collecting Jinja2==3.1.2',\n",
       "  '2022/05/10 01:31:02.508172633   Using cached Jinja2-3.1.2-py3-none-any.whl (133 kB)',\n",
       "  '2022/05/10 01:31:02.660679579 Collecting joblib==1.1.0',\n",
       "  '2022/05/10 01:31:02.752930272   Using cached joblib-1.1.0-py2.py3-none-any.whl (306 kB)',\n",
       "  '2022/05/10 01:31:02.909404022 Collecting jupyter-client==7.3.0',\n",
       "  '2022/05/10 01:31:03.018018537   Using cached jupyter_client-7.3.0-py3-none-any.whl (130 kB)',\n",
       "  '2022/05/10 01:31:03.211754143 Collecting jupyter-core==4.10.0',\n",
       "  '2022/05/10 01:31:03.305603010   Using cached jupyter_core-4.10.0-py3-none-any.whl (87 kB)',\n",
       "  '2022/05/10 01:31:03.531593737 Collecting kiwisolver==1.4.2',\n",
       "  '2022/05/10 01:31:03.635573796   Using cached kiwisolver-1.4.2-cp39-cp39-manylinux_2_12_x86_64.manylinux2010_x86_64.whl (1.6 MB)',\n",
       "  '2022/05/10 01:31:03.884639447 Collecting MarkupSafe==2.1.1',\n",
       "  '2022/05/10 01:31:03.974671854   Using cached MarkupSafe-2.1.1-cp39-cp39-manylinux_2_17_x86_64.manylinux2014_x86_64.whl (25 kB)',\n",
       "  '2022/05/10 01:31:04.338126466 Collecting matplotlib==3.5.2',\n",
       "  '2022/05/10 01:31:04.438088989   Downloading matplotlib-3.5.2-cp39-cp39-manylinux_2_5_x86_64.manylinux1_x86_64.whl (11.2 MB)',\n",
       "  '2022/05/10 01:31:04.608454778      ━━━━━━━━━━━━━━━━━━━━━━━━━━━━━━━━━━━━━━━━ 11.2/11.2 MB 66.4 MB/s eta 0:00:00',\n",
       "  '2022/05/10 01:31:04.784984791 Collecting matplotlib-inline==0.1.3',\n",
       "  '2022/05/10 01:31:04.870541876   Using cached matplotlib_inline-0.1.3-py3-none-any.whl (8.2 kB)',\n",
       "  '2022/05/10 01:31:05.010944879 Collecting nest-asyncio==1.5.5',\n",
       "  '2022/05/10 01:31:05.119778291   Using cached nest_asyncio-1.5.5-py3-none-any.whl (5.2 kB)',\n",
       "  '2022/05/10 01:31:05.707388584 Collecting numpy==1.22.3',\n",
       "  '2022/05/10 01:31:05.893727618   Using cached numpy-1.22.3-cp39-cp39-manylinux_2_17_x86_64.manylinux2014_x86_64.whl (16.8 MB)',\n",
       "  '2022/05/10 01:31:06.148944474 Collecting packaging==21.3',\n",
       "  '2022/05/10 01:31:06.231341909   Using cached packaging-21.3-py3-none-any.whl (40 kB)',\n",
       "  '2022/05/10 01:31:06.620670653 Collecting pandas==1.4.2',\n",
       "  '2022/05/10 01:31:06.769667627   Using cached pandas-1.4.2-cp39-cp39-manylinux_2_17_x86_64.manylinux2014_x86_64.whl (11.7 MB)',\n",
       "  '2022/05/10 01:31:06.997401676 Collecting parso==0.8.3',\n",
       "  '2022/05/10 01:31:07.096900375   Using cached parso-0.8.3-py2.py3-none-any.whl (100 kB)',\n",
       "  '2022/05/10 01:31:07.234440618 Collecting pexpect==4.8.0',\n",
       "  '2022/05/10 01:31:07.322348045   Using cached pexpect-4.8.0-py2.py3-none-any.whl (59 kB)',\n",
       "  '2022/05/10 01:31:07.446486321 Collecting pickleshare==0.7.5',\n",
       "  '2022/05/10 01:31:07.547525182   Using cached pickleshare-0.7.5-py2.py3-none-any.whl (6.9 kB)',\n",
       "  '2022/05/10 01:31:08.140379810 Collecting Pillow==9.1.0',\n",
       "  '2022/05/10 01:31:08.266575233   Using cached Pillow-9.1.0-cp39-cp39-manylinux_2_17_x86_64.manylinux2014_x86_64.whl (4.3 MB)',\n",
       "  '2022/05/10 01:31:08.416086076 Collecting pins==0.2.0',\n",
       "  '2022/05/10 01:31:08.514045545   Downloading pins-0.2.0-py2.py3-none-any.whl (103 kB)',\n",
       "  '2022/05/10 01:31:08.534154963      ━━━━━━━━━━━━━━━━━━━━━━━━━━━━━━━━━━━━━━━ 103.3/103.3 KB 6.1 MB/s eta 0:00:00',\n",
       "  '2022/05/10 01:31:08.720232370 Collecting prompt-toolkit==3.0.29',\n",
       "  '2022/05/10 01:31:08.810848734   Using cached prompt_toolkit-3.0.29-py3-none-any.whl (381 kB)',\n",
       "  '2022/05/10 01:31:09.116518874 Collecting psutil==5.9.0',\n",
       "  '2022/05/10 01:31:09.206874779   Using cached psutil-5.9.0-cp39-cp39-manylinux_2_12_x86_64.manylinux2010_x86_64.manylinux_2_17_x86_64.manylinux2014_x86_64.whl (280 kB)',\n",
       "  '2022/05/10 01:31:09.454820347 Collecting psycopg2==2.9.3',\n",
       "  '2022/05/10 01:31:09.455536453   Using cached psycopg2-2.9.3-cp39-cp39-linux_x86_64.whl',\n",
       "  '2022/05/10 01:31:09.579973485 Collecting ptyprocess==0.7.0',\n",
       "  '2022/05/10 01:31:09.675514598   Using cached ptyprocess-0.7.0-py2.py3-none-any.whl (13 kB)',\n",
       "  '2022/05/10 01:31:09.798944127 Collecting pure-eval==0.2.2',\n",
       "  '2022/05/10 01:31:09.887788890   Using cached pure_eval-0.2.2-py3-none-any.whl (11 kB)',\n",
       "  '2022/05/10 01:31:10.163013980 Collecting pydantic==1.9.0',\n",
       "  '2022/05/10 01:31:10.330033158   Using cached pydantic-1.9.0-cp39-cp39-manylinux_2_17_x86_64.manylinux2014_x86_64.whl (12.2 MB)',\n",
       "  '2022/05/10 01:31:10.540441615 Collecting Pygments==2.12.0',\n",
       "  '2022/05/10 01:31:10.646636055   Using cached Pygments-2.12.0-py3-none-any.whl (1.1 MB)',\n",
       "  '2022/05/10 01:31:10.827053869 Collecting pyparsing==3.0.8',\n",
       "  '2022/05/10 01:31:10.910378577   Using cached pyparsing-3.0.8-py3-none-any.whl (98 kB)',\n",
       "  '2022/05/10 01:31:11.041697899 Collecting python-dateutil==2.8.2',\n",
       "  '2022/05/10 01:31:11.124901511   Using cached python_dateutil-2.8.2-py2.py3-none-any.whl (247 kB)',\n",
       "  '2022/05/10 01:31:11.273014621 Collecting python-dotenv==0.20.0',\n",
       "  '2022/05/10 01:31:11.361799281   Using cached python_dotenv-0.20.0-py3-none-any.whl (17 kB)',\n",
       "  '2022/05/10 01:31:11.632794102 Collecting pytz==2022.1',\n",
       "  '2022/05/10 01:31:11.722655649   Using cached pytz-2022.1-py2.py3-none-any.whl (503 kB)',\n",
       "  '2022/05/10 01:31:11.929804592 Collecting PyYAML==6.0',\n",
       "  '2022/05/10 01:31:12.038950031   Using cached PyYAML-6.0-cp39-cp39-manylinux_2_5_x86_64.manylinux1_x86_64.manylinux_2_12_x86_64.manylinux2010_x86_64.whl (661 kB)',\n",
       "  '2022/05/10 01:31:12.485117324 Collecting pyzmq==22.3.0',\n",
       "  '2022/05/10 01:31:12.619715207   Using cached pyzmq-22.3.0-cp39-cp39-manylinux_2_12_x86_64.manylinux2010_x86_64.whl (1.1 MB)',\n",
       "  '2022/05/10 01:31:12.808289055 Collecting requests==2.27.1',\n",
       "  '2022/05/10 01:31:12.896625130   Using cached requests-2.27.1-py2.py3-none-any.whl (63 kB)',\n",
       "  '2022/05/10 01:31:13.246397790 Collecting scikit-learn==1.0.2',\n",
       "  '2022/05/10 01:31:13.501789917   Using cached scikit_learn-1.0.2-cp39-cp39-manylinux_2_17_x86_64.manylinux2014_x86_64.whl (26.4 MB)',\n",
       "  '2022/05/10 01:31:14.042709776 Collecting scipy==1.8.0',\n",
       "  '2022/05/10 01:31:14.340219943   Using cached scipy-1.8.0-cp39-cp39-manylinux_2_17_x86_64.manylinux2014_x86_64.whl (42.1 MB)',\n",
       "  '2022/05/10 01:31:14.684554619 Collecting semver==2.13.0',\n",
       "  '2022/05/10 01:31:14.777915779   Using cached semver-2.13.0-py2.py3-none-any.whl (12 kB)',\n",
       "  '2022/05/10 01:31:14.786400793 Requirement already satisfied: six==1.16.0 in /opt/python/3.9.2/lib/python3.9/site-packages (from -r python/requirements.txt (line 60)) (1.16.0)',\n",
       "  '2022/05/10 01:31:14.913230698 Collecting sklearn==0.0',\n",
       "  '2022/05/10 01:31:14.913622142   Using cached sklearn-0.0-py2.py3-none-any.whl',\n",
       "  '2022/05/10 01:31:15.039476280 Collecting sniffio==1.2.0',\n",
       "  '2022/05/10 01:31:15.134407115   Using cached sniffio-1.2.0-py3-none-any.whl (10 kB)',\n",
       "  '2022/05/10 01:31:15.803806893 Collecting SQLAlchemy==1.4.36',\n",
       "  '2022/05/10 01:31:15.900081418   Downloading SQLAlchemy-1.4.36-cp39-cp39-manylinux_2_5_x86_64.manylinux1_x86_64.manylinux_2_17_x86_64.manylinux2014_x86_64.whl (1.6 MB)',\n",
       "  '2022/05/10 01:31:15.930442242      ━━━━━━━━━━━━━━━━━━━━━━━━━━━━━━━━━━━━━━━━ 1.6/1.6 MB 60.1 MB/s eta 0:00:00',\n",
       "  '2022/05/10 01:31:16.052544748 Collecting stack-data==0.2.0',\n",
       "  '2022/05/10 01:31:16.138343897   Using cached stack_data-0.2.0-py3-none-any.whl (21 kB)',\n",
       "  '2022/05/10 01:31:16.291242540 Collecting starlette==0.18.0',\n",
       "  '2022/05/10 01:31:16.403692906   Using cached starlette-0.18.0-py3-none-any.whl (59 kB)',\n",
       "  '2022/05/10 01:31:16.544436494 Collecting threadpoolctl==3.1.0',\n",
       "  '2022/05/10 01:31:16.639071012   Using cached threadpoolctl-3.1.0-py3-none-any.whl (14 kB)',\n",
       "  '2022/05/10 01:31:16.821631344 Collecting torch==1.11.0',\n",
       "  '2022/05/10 01:31:21.401914814   Using cached torch-1.11.0-cp39-cp39-manylinux1_x86_64.whl (750.6 MB)',\n",
       "  '2022/05/10 01:31:25.462600751 Collecting tornado==6.1',\n",
       "  '2022/05/10 01:31:25.555965803   Using cached tornado-6.1-cp39-cp39-manylinux2010_x86_64.whl (427 kB)',\n",
       "  '2022/05/10 01:31:25.703707362 Collecting traitlets==5.1.1',\n",
       "  '2022/05/10 01:31:25.795013894   Using cached traitlets-5.1.1-py3-none-any.whl (102 kB)',\n",
       "  '2022/05/10 01:31:25.930950973 Collecting typing_extensions==4.2.0',\n",
       "  '2022/05/10 01:31:26.023703283   Using cached typing_extensions-4.2.0-py3-none-any.whl (24 kB)',\n",
       "  '2022/05/10 01:31:26.284910703 Collecting urllib3==1.26.9',\n",
       "  '2022/05/10 01:31:26.393642159   Using cached urllib3-1.26.9-py2.py3-none-any.whl (138 kB)',\n",
       "  '2022/05/10 01:31:26.561051518 Collecting uvicorn==0.17.6',\n",
       "  '2022/05/10 01:31:26.674109117   Using cached uvicorn-0.17.6-py3-none-any.whl (53 kB)',\n",
       "  '2022/05/10 01:31:26.826669092 Collecting vetiver==0.1.3',\n",
       "  '2022/05/10 01:31:26.932765909   Using cached vetiver-0.1.3-py3-none-any.whl (13 kB)',\n",
       "  '2022/05/10 01:31:27.079369983 Collecting wcwidth==0.2.5',\n",
       "  '2022/05/10 01:31:27.202570555   Using cached wcwidth-0.2.5-py2.py3-none-any.whl (30 kB)',\n",
       "  '2022/05/10 01:31:27.397163616 Collecting xgboost==1.6.1',\n",
       "  '2022/05/10 01:31:27.495358943   Downloading xgboost-1.6.1-py3-none-manylinux2014_x86_64.whl (192.9 MB)',\n",
       "  '2022/05/10 01:31:30.272399567      ━━━━━━━━━━━━━━━━━━━━━━━━━━━━━━━━━━━━━━━ 192.9/192.9 MB 8.5 MB/s eta 0:00:00',\n",
       "  '2022/05/10 01:31:31.256638205 Collecting xxhash==3.0.0',\n",
       "  '2022/05/10 01:31:31.355718628   Using cached xxhash-3.0.0-cp39-cp39-manylinux_2_17_x86_64.manylinux2014_x86_64.whl (211 kB)',\n",
       "  '2022/05/10 01:31:31.517339425 Collecting zipp==3.8.0',\n",
       "  '2022/05/10 01:31:31.606432731   Using cached zipp-3.8.0-py3-none-any.whl (5.4 kB)',\n",
       "  '2022/05/10 01:31:31.845892935 Collecting websockets',\n",
       "  '2022/05/10 01:31:31.945662484   Using cached websockets-10.3-cp39-cp39-manylinux_2_5_x86_64.manylinux1_x86_64.manylinux_2_12_x86_64.manylinux2010_x86_64.whl (111 kB)',\n",
       "  '2022/05/10 01:31:32.077212668 Collecting aiofiles',\n",
       "  '2022/05/10 01:31:32.170999031   Using cached aiofiles-0.8.0-py3-none-any.whl (13 kB)',\n",
       "  '2022/05/10 01:31:32.639937372 Requirement already satisfied: setuptools>=18.5 in /opt/rstudio-connect/mnt/python-environments/ghcr.io_rstudio_content-pro__r4.0.5-py3.9.2-bionic/pip/3.9.2/0x3nFx8-S8lr4u9M91NV5w/lib/python3.9/site-packages (from ipython==8.3.0->-r python/requirements.txt (line 24)) (62.1.0)',\n",
       "  '2022/05/10 01:31:34.961340449 Installing collected packages: wcwidth, pytz, pure-eval, ptyprocess, pickleshare, executing, backcall, zipp, xxhash, websockets, urllib3, typing_extensions, traitlets, tornado, threadpoolctl, sniffio, semver, pyzmq, PyYAML, python-dotenv, python-dateutil, pyparsing, Pygments, psycopg2, psutil, prompt-toolkit, Pillow, pexpect, parso, numpy, nest-asyncio, MarkupSafe, kiwisolver, joblib, idna, humanize, h11, greenlet, fsspec, fonttools, entrypoints, decorator, debugpy, cycler, click, charset-normalizer, asttokens, asgiref, aiofiles, uvicorn, torch, stack-data, SQLAlchemy, scipy, requests, pydantic, pandas, packaging, matplotlib-inline, jupyter-core, Jinja2, jedi, importlib-resources, importlib-metadata, anyio, xgboost, starlette, scikit-learn, pins, matplotlib, jupyter-client, ipython, sklearn, ipykernel, fastapi, vetiver',\n",
       "  '2022/05/10 01:36:15.907381236 Successfully installed Jinja2-3.1.2 MarkupSafe-2.1.1 Pillow-9.1.0 PyYAML-6.0 Pygments-2.12.0 SQLAlchemy-1.4.36 aiofiles-0.8.0 anyio-3.5.0 asgiref-3.5.1 asttokens-2.0.5 backcall-0.2.0 charset-normalizer-2.0.12 click-8.1.3 cycler-0.11.0 debugpy-1.6.0 decorator-5.1.1 entrypoints-0.4 executing-0.8.3 fastapi-0.76.0 fonttools-4.33.3 fsspec-2022.3.0 greenlet-1.1.2 h11-0.13.0 humanize-4.1.0 idna-3.3 importlib-metadata-4.11.3 importlib-resources-5.7.1 ipykernel-6.13.0 ipython-8.3.0 jedi-0.18.1 joblib-1.1.0 jupyter-client-7.3.0 jupyter-core-4.10.0 kiwisolver-1.4.2 matplotlib-3.5.2 matplotlib-inline-0.1.3 nest-asyncio-1.5.5 numpy-1.22.3 packaging-21.3 pandas-1.4.2 parso-0.8.3 pexpect-4.8.0 pickleshare-0.7.5 pins-0.2.0 prompt-toolkit-3.0.29 psutil-5.9.0 psycopg2-2.9.3 ptyprocess-0.7.0 pure-eval-0.2.2 pydantic-1.9.0 pyparsing-3.0.8 python-dateutil-2.8.2 python-dotenv-0.20.0 pytz-2022.1 pyzmq-22.3.0 requests-2.27.1 scikit-learn-1.0.2 scipy-1.8.0 semver-2.13.0 sklearn-0.0 sniffio-1.2.0 stack-data-0.2.0 starlette-0.18.0 threadpoolctl-3.1.0 torch-1.11.0 tornado-6.1 traitlets-5.1.1 typing_extensions-4.2.0 urllib3-1.26.9 uvicorn-0.17.6 vetiver-0.1.3 wcwidth-0.2.5 websockets-10.3 xgboost-1.6.1 xxhash-3.0.0 zipp-3.8.0',\n",
       "  '2022/05/10 01:36:19.533181870 Packages in the environment: aiofiles==0.8.0, anyio==3.5.0, appdirs==1.4.4, asgiref==3.5.1, asttokens==2.0.5, backcall==0.2.0, certifi==2021.10.8, charset-normalizer==2.0.12, click==8.1.3, cycler==0.11.0, debugpy==1.6.0, decorator==5.1.1, distlib, entrypoints==0.4, executing==0.8.3, fastapi==0.76.0, filelock, fonttools==4.33.3, fsspec==2022.3.0, greenlet==1.1.2, h11==0.13.0, humanize==4.1.0, idna==3.3, importlib-metadata==4.11.3, importlib-resources==5.7.1, ipykernel==6.13.0, ipython==8.3.0, jedi==0.18.1, Jinja2==3.1.2, joblib==1.1.0, jupyter-client==7.3.0, jupyter-core==4.10.0, kiwisolver==1.4.2, MarkupSafe==2.1.1, matplotlib==3.5.2, matplotlib-inline==0.1.3, nest-asyncio==1.5.5, numpy==1.22.3, packaging==21.3, pandas==1.4.2, parso==0.8.3, pexpect==4.8.0, pickleshare==0.7.5, Pillow==9.1.0, pins==0.2.0, prompt-toolkit==3.0.29, psutil==5.9.0, psycopg2==2.9.3, ptyprocess==0.7.0, pure-eval==0.2.2, pydantic==1.9.0, Pygments==2.12.0, pyparsing==3.0.8, python-dateutil==2.8.2, python-dotenv==0.20.0, pytz==2022.1, PyYAML==6.0, pyzmq==22.3.0, requests==2.27.1, scikit-learn==1.0.2, scipy==1.8.0, semver==2.13.0, six, sklearn==0.0, sniffio==1.2.0, SQLAlchemy==1.4.36, stack-data==0.2.0, starlette==0.18.0, threadpoolctl==3.1.0, torch==1.11.0, tornado==6.1, traitlets==5.1.1, typing_extensions==4.2.0, urllib3==1.26.9, uvicorn==0.17.6, vetiver==0.1.3, virtualenv, wcwidth==0.2.5, websockets==10.3, xgboost==1.6.1, xxhash==3.0.0, zipp==3.8.0, ',\n",
       "  '2022/05/10 01:36:19.535306450 Creating lockfile: python/requirements.txt.lock',\n",
       "  'Stopped session pings to http://172.19.57.196:30414',\n",
       "  'Launching FastAPI application...'])"
      ]
     },
     "execution_count": 46,
     "metadata": {},
     "output_type": "execute_result"
    }
   ],
   "source": [
    "deploy_python_fastapi(\n",
    "    connect_server = connect_server,\n",
    "    title = \"Xgboost model for bike share\",\n",
    "    directory = \"../\",\n",
    "    extra_files = None,\n",
    "    entry_point = \"model:api\",\n",
    "    excludes = None,\n",
    ")"
   ]
  },
  {
   "cell_type": "code",
   "execution_count": null,
   "id": "8d84c1d0-bac4-44e6-9d6f-b80004bae786",
   "metadata": {},
   "outputs": [],
   "source": []
  },
  {
   "cell_type": "code",
   "execution_count": null,
   "id": "50758485-a65f-489e-b380-98bd3b120fb3",
   "metadata": {},
   "outputs": [],
   "source": []
  },
  {
   "cell_type": "code",
   "execution_count": null,
   "id": "01bfdfe6-0da6-4d7e-a0a1-2dc1d69e6eae",
   "metadata": {},
   "outputs": [],
   "source": []
  },
  {
   "cell_type": "code",
   "execution_count": null,
   "id": "fb4e3d68-84bd-40a6-86a4-6813698f5bb5",
   "metadata": {},
   "outputs": [],
   "source": []
  },
  {
   "cell_type": "code",
   "execution_count": null,
   "id": "1d8ade51-e8f9-4fce-a8df-7d80e3d3b54b",
   "metadata": {},
   "outputs": [],
   "source": []
  },
  {
   "cell_type": "code",
   "execution_count": null,
   "id": "6fe7e238-fbd4-4116-abfc-2447719a071a",
   "metadata": {},
   "outputs": [],
   "source": []
  },
  {
   "cell_type": "code",
   "execution_count": null,
   "id": "d05439e5-5ae9-40fd-9efa-e50cb35f8343",
   "metadata": {},
   "outputs": [],
   "source": []
  },
  {
   "cell_type": "code",
   "execution_count": null,
   "id": "36987ee1-5a49-4180-bf63-e0486f71ceb6",
   "metadata": {},
   "outputs": [],
   "source": []
  },
  {
   "cell_type": "code",
   "execution_count": null,
   "id": "f6779334-ecd5-4cb7-a25d-2c2a49a8df2e",
   "metadata": {},
   "outputs": [],
   "source": []
  },
  {
   "cell_type": "code",
   "execution_count": 48,
   "id": "2b38f2c3-818b-40e0-8f8e-e4b6200a0e42",
   "metadata": {},
   "outputs": [],
   "source": [
    "# Using make_column_transformer to One-Hot Encode\n",
    "from sklearn.preprocessing import OneHotEncoder\n",
    "from sklearn.compose import make_column_transformer"
   ]
  },
  {
   "cell_type": "code",
   "execution_count": 49,
   "id": "180d3af7-645f-4821-a0c0-58c3169c8243",
   "metadata": {},
   "outputs": [],
   "source": [
    "transformer = make_column_transformer(\n",
    "    (OneHotEncoder(), ['dow']),\n",
    "    remainder='passthrough')"
   ]
  },
  {
   "cell_type": "code",
   "execution_count": 76,
   "id": "a512097f-79fb-4257-92cf-be5393ba5b44",
   "metadata": {},
   "outputs": [
    {
     "name": "stderr",
     "output_type": "stream",
     "text": [
      "/usr/home/xu.fei/bike_predict_python/.venv/lib/python3.9/site-packages/sklearn/utils/deprecation.py:87: FutureWarning: Function get_feature_names is deprecated; get_feature_names is deprecated in 1.0 and will be removed in 1.2. Please use get_feature_names_out instead.\n",
      "  warnings.warn(msg, category=FutureWarning)\n"
     ]
    },
    {
     "data": {
      "text/plain": [
       "['onehotencoder__x0_Friday',\n",
       " 'onehotencoder__x0_Monday',\n",
       " 'onehotencoder__x0_Saturday',\n",
       " 'onehotencoder__x0_Sunday',\n",
       " 'onehotencoder__x0_Thursday',\n",
       " 'onehotencoder__x0_Tuesday',\n",
       " 'onehotencoder__x0_Wednesday',\n",
       " 'id',\n",
       " 'hour',\n",
       " 'date',\n",
       " 'month',\n",
       " 'n_bikes',\n",
       " 'lat',\n",
       " 'lon']"
      ]
     },
     "execution_count": 76,
     "metadata": {},
     "output_type": "execute_result"
    }
   ],
   "source": [
    "transformer.get_feature_names()"
   ]
  },
  {
   "cell_type": "code",
   "execution_count": 51,
   "id": "25ca39dc-59f0-4046-baf8-57cf5c1afd1a",
   "metadata": {},
   "outputs": [],
   "source": [
    "transformed_test = transformer.fit_transform(df_test)\n",
    "transformed_df_test = pd.DataFrame(\n",
    "    transformed_test, \n",
    "    columns=transformer.get_feature_names_out()\n",
    ")"
   ]
  },
  {
   "cell_type": "code",
   "execution_count": 52,
   "id": "77bc04af-df80-430c-b5fb-e58f4d5c2922",
   "metadata": {},
   "outputs": [],
   "source": [
    "transformed_train_6m = transformer.fit_transform(df_train_6m)\n",
    "transformed_df_train_6m = pd.DataFrame(\n",
    "    transformed_train_6m, \n",
    "    columns=transformer.get_feature_names_out()\n",
    ")"
   ]
  },
  {
   "cell_type": "code",
   "execution_count": 53,
   "id": "318085b2-6146-4181-9634-53a059a0f30b",
   "metadata": {},
   "outputs": [
    {
     "data": {
      "text/plain": [
       "(6000000, 14)"
      ]
     },
     "execution_count": 53,
     "metadata": {},
     "output_type": "execute_result"
    }
   ],
   "source": [
    "transformed_df_train_6m.shape"
   ]
  },
  {
   "cell_type": "code",
   "execution_count": 54,
   "id": "91d0f9de-2b1b-4435-93dc-63da2e86f998",
   "metadata": {},
   "outputs": [
    {
     "data": {
      "text/plain": [
       "Index(['onehotencoder__dow_Friday', 'onehotencoder__dow_Monday',\n",
       "       'onehotencoder__dow_Saturday', 'onehotencoder__dow_Sunday',\n",
       "       'onehotencoder__dow_Thursday', 'onehotencoder__dow_Tuesday',\n",
       "       'onehotencoder__dow_Wednesday', 'remainder__id', 'remainder__hour',\n",
       "       'remainder__date', 'remainder__month', 'remainder__n_bikes',\n",
       "       'remainder__lat', 'remainder__lon'],\n",
       "      dtype='object')"
      ]
     },
     "execution_count": 54,
     "metadata": {},
     "output_type": "execute_result"
    }
   ],
   "source": [
    "transformed_df_train_6m.columns"
   ]
  },
  {
   "cell_type": "code",
   "execution_count": 57,
   "id": "1a3a08d6-d183-4267-bd20-c22bafdf4f69",
   "metadata": {},
   "outputs": [
    {
     "data": {
      "text/html": [
       "<div>\n",
       "<style scoped>\n",
       "    .dataframe tbody tr th:only-of-type {\n",
       "        vertical-align: middle;\n",
       "    }\n",
       "\n",
       "    .dataframe tbody tr th {\n",
       "        vertical-align: top;\n",
       "    }\n",
       "\n",
       "    .dataframe thead th {\n",
       "        text-align: right;\n",
       "    }\n",
       "</style>\n",
       "<table border=\"1\" class=\"dataframe\">\n",
       "  <thead>\n",
       "    <tr style=\"text-align: right;\">\n",
       "      <th></th>\n",
       "      <th>onehotencoder__dow_Friday</th>\n",
       "      <th>onehotencoder__dow_Monday</th>\n",
       "      <th>onehotencoder__dow_Saturday</th>\n",
       "      <th>onehotencoder__dow_Sunday</th>\n",
       "      <th>onehotencoder__dow_Thursday</th>\n",
       "      <th>onehotencoder__dow_Tuesday</th>\n",
       "      <th>onehotencoder__dow_Wednesday</th>\n",
       "      <th>remainder__id</th>\n",
       "      <th>remainder__hour</th>\n",
       "      <th>remainder__date</th>\n",
       "      <th>remainder__month</th>\n",
       "      <th>remainder__n_bikes</th>\n",
       "      <th>remainder__lat</th>\n",
       "      <th>remainder__lon</th>\n",
       "    </tr>\n",
       "  </thead>\n",
       "  <tbody>\n",
       "    <tr>\n",
       "      <th>0</th>\n",
       "      <td>0.0</td>\n",
       "      <td>0.0</td>\n",
       "      <td>0.0</td>\n",
       "      <td>0.0</td>\n",
       "      <td>0.0</td>\n",
       "      <td>1.0</td>\n",
       "      <td>0.0</td>\n",
       "      <td>73</td>\n",
       "      <td>4</td>\n",
       "      <td>2022-04-19</td>\n",
       "      <td>4</td>\n",
       "      <td>0.0</td>\n",
       "      <td>38.933668</td>\n",
       "      <td>-76.991016</td>\n",
       "    </tr>\n",
       "    <tr>\n",
       "      <th>1</th>\n",
       "      <td>0.0</td>\n",
       "      <td>0.0</td>\n",
       "      <td>0.0</td>\n",
       "      <td>0.0</td>\n",
       "      <td>0.0</td>\n",
       "      <td>0.0</td>\n",
       "      <td>1.0</td>\n",
       "      <td>73</td>\n",
       "      <td>4</td>\n",
       "      <td>2022-04-20</td>\n",
       "      <td>4</td>\n",
       "      <td>1.0</td>\n",
       "      <td>38.933668</td>\n",
       "      <td>-76.991016</td>\n",
       "    </tr>\n",
       "    <tr>\n",
       "      <th>2</th>\n",
       "      <td>0.0</td>\n",
       "      <td>0.0</td>\n",
       "      <td>0.0</td>\n",
       "      <td>0.0</td>\n",
       "      <td>1.0</td>\n",
       "      <td>0.0</td>\n",
       "      <td>0.0</td>\n",
       "      <td>73</td>\n",
       "      <td>4</td>\n",
       "      <td>2022-04-21</td>\n",
       "      <td>4</td>\n",
       "      <td>0.0</td>\n",
       "      <td>38.933668</td>\n",
       "      <td>-76.991016</td>\n",
       "    </tr>\n",
       "    <tr>\n",
       "      <th>3</th>\n",
       "      <td>1.0</td>\n",
       "      <td>0.0</td>\n",
       "      <td>0.0</td>\n",
       "      <td>0.0</td>\n",
       "      <td>0.0</td>\n",
       "      <td>0.0</td>\n",
       "      <td>0.0</td>\n",
       "      <td>73</td>\n",
       "      <td>4</td>\n",
       "      <td>2022-04-22</td>\n",
       "      <td>4</td>\n",
       "      <td>0.0</td>\n",
       "      <td>38.933668</td>\n",
       "      <td>-76.991016</td>\n",
       "    </tr>\n",
       "    <tr>\n",
       "      <th>4</th>\n",
       "      <td>0.0</td>\n",
       "      <td>0.0</td>\n",
       "      <td>1.0</td>\n",
       "      <td>0.0</td>\n",
       "      <td>0.0</td>\n",
       "      <td>0.0</td>\n",
       "      <td>0.0</td>\n",
       "      <td>73</td>\n",
       "      <td>4</td>\n",
       "      <td>2022-04-23</td>\n",
       "      <td>4</td>\n",
       "      <td>3.0</td>\n",
       "      <td>38.933668</td>\n",
       "      <td>-76.991016</td>\n",
       "    </tr>\n",
       "  </tbody>\n",
       "</table>\n",
       "</div>"
      ],
      "text/plain": [
       "  onehotencoder__dow_Friday onehotencoder__dow_Monday  \\\n",
       "0                       0.0                       0.0   \n",
       "1                       0.0                       0.0   \n",
       "2                       0.0                       0.0   \n",
       "3                       1.0                       0.0   \n",
       "4                       0.0                       0.0   \n",
       "\n",
       "  onehotencoder__dow_Saturday onehotencoder__dow_Sunday  \\\n",
       "0                         0.0                       0.0   \n",
       "1                         0.0                       0.0   \n",
       "2                         0.0                       0.0   \n",
       "3                         0.0                       0.0   \n",
       "4                         1.0                       0.0   \n",
       "\n",
       "  onehotencoder__dow_Thursday onehotencoder__dow_Tuesday  \\\n",
       "0                         0.0                        1.0   \n",
       "1                         0.0                        0.0   \n",
       "2                         1.0                        0.0   \n",
       "3                         0.0                        0.0   \n",
       "4                         0.0                        0.0   \n",
       "\n",
       "  onehotencoder__dow_Wednesday remainder__id remainder__hour remainder__date  \\\n",
       "0                          0.0            73               4      2022-04-19   \n",
       "1                          1.0            73               4      2022-04-20   \n",
       "2                          0.0            73               4      2022-04-21   \n",
       "3                          0.0            73               4      2022-04-22   \n",
       "4                          0.0            73               4      2022-04-23   \n",
       "\n",
       "  remainder__month remainder__n_bikes remainder__lat remainder__lon  \n",
       "0                4                0.0      38.933668     -76.991016  \n",
       "1                4                1.0      38.933668     -76.991016  \n",
       "2                4                0.0      38.933668     -76.991016  \n",
       "3                4                0.0      38.933668     -76.991016  \n",
       "4                4                3.0      38.933668     -76.991016  "
      ]
     },
     "execution_count": 57,
     "metadata": {},
     "output_type": "execute_result"
    }
   ],
   "source": [
    "transformed_df_test.head()"
   ]
  },
  {
   "cell_type": "code",
   "execution_count": 90,
   "id": "74841946-e42e-47f4-a946-ec559c0f460b",
   "metadata": {},
   "outputs": [],
   "source": [
    "del transformed_df_train_6m, transformed_df_test"
   ]
  },
  {
   "cell_type": "code",
   "execution_count": 92,
   "id": "7a016bf9-b686-4527-89e9-fa55b95c3497",
   "metadata": {},
   "outputs": [],
   "source": [
    "del transformed_train_6m, transformed_test"
   ]
  }
 ],
 "metadata": {
  "kernelspec": {
   "display_name": "vetiver-python-bike",
   "language": "python",
   "name": "vetiver-python-bike"
  },
  "language_info": {
   "codemirror_mode": {
    "name": "ipython",
    "version": 3
   },
   "file_extension": ".py",
   "mimetype": "text/x-python",
   "name": "python",
   "nbconvert_exporter": "python",
   "pygments_lexer": "ipython3",
   "version": "3.9.6"
  }
 },
 "nbformat": 4,
 "nbformat_minor": 5
}
