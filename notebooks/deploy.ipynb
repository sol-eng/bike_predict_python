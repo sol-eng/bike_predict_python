{
 "cells": [
  {
   "cell_type": "markdown",
   "id": "bbe3d17d-7238-4ca8-8ee7-09e53da8004b",
   "metadata": {},
   "source": [
    "# Vetiver"
   ]
  },
  {
   "cell_type": "code",
   "execution_count": 1,
   "id": "e9d1021b-4386-4e34-a1f2-899ac72a3e43",
   "metadata": {},
   "outputs": [
    {
     "data": {
      "text/plain": [
       "True"
      ]
     },
     "execution_count": 1,
     "metadata": {},
     "output_type": "execute_result"
    }
   ],
   "source": [
    "from pins import board_rsconnect\n",
    "from vetiver import vetiver_write_app\n",
    "\n",
    "from rsconnect.api import RSConnectServer\n",
    "from rsconnect.actions import deploy_python_fastapi\n",
    "\n",
    "import os\n",
    "from dotenv import load_dotenv, find_dotenv\n",
    "load_dotenv(find_dotenv())"
   ]
  },
  {
   "cell_type": "code",
   "execution_count": 2,
   "id": "46efeb57",
   "metadata": {},
   "outputs": [],
   "source": [
    "rsc_url = os.getenv(\"RSC_URL\")\n",
    "api_key = os.getenv(\"API_KEY\")\n",
    "connect_server = RSConnectServer(url=rsc_url, api_key=api_key)"
   ]
  },
  {
   "cell_type": "code",
   "execution_count": 3,
   "id": "da7eb022",
   "metadata": {},
   "outputs": [],
   "source": [
    "board = board_rsconnect(\n",
    "    server_url=\"https://colorado.rstudio.com/rsc/\",\n",
    "    api_key=os.getenv(\"API_KEY\"), allow_pickle_read=True\n",
    ")\n",
    "\n",
    "rf = board.pin_read(name=\"gagan/bikeshare-rf\")\n",
    "X_train = board.pin_read(name=\"gagan/bike_x_train\")"
   ]
  },
  {
   "cell_type": "code",
   "execution_count": 4,
   "id": "a05a158a",
   "metadata": {},
   "outputs": [],
   "source": [
    "#vetiver_write_app(board=board, pin_name=\"gagan/bikeshare-rf\", file=\"bikemodel.py\")"
   ]
  },
  {
   "cell_type": "code",
   "execution_count": 5,
   "id": "b1966b9d-5d81-4ac3-85b5-a9ba0e05d973",
   "metadata": {},
   "outputs": [
    {
     "data": {
      "text/plain": [
       "('https://colorado.rstudio.com/rsc/connect/#/apps/c795d7dc-e6b9-496a-8989-1b3d8639a9b0',\n",
       " ['Building FastAPI application...',\n",
       "  'Bundle created with Python version 3.8.11 is compatible with environment Kubernetes::ghcr.io/rstudio/content-pro:r3.6.3-py3.8.8-bionic with Python version 3.8.8 from /opt/python/3.8.8/bin/python3.8 ',\n",
       "  'Bundle requested Python version 3.8.11; using /opt/python/3.8.8/bin/python3.8 from Kubernetes::ghcr.io/rstudio/content-pro:r3.6.3-py3.8.8-bionic which has version 3.8.8',\n",
       "  'Determining session server location ...',\n",
       "  'Connecting to session server http://172.19.20.8:32744 ...',\n",
       "  '2022/05/27 22:11:32.693497985 Running on host: python-environment-restore-jvwff-tbtgn',\n",
       "  '2022/05/27 22:11:32.693518561 Working directory: /opt/rstudio-connect/mnt/app',\n",
       "  '2022/05/27 22:11:32.693611518 Environment will be built with Python \"3.8.8 (default, Apr 13 2021, 19:58:26)  [GCC 7.3.0]\" at /opt/python/3.8.8/bin/python3.8',\n",
       "  '2022/05/27 22:11:32.693912380 Running as user: 999',\n",
       "  '2022/05/27 22:11:32.716342199 Using cached environment: 0x3nFx8-S8lr4u9M91NV5w',\n",
       "  'Connected to session server http://172.19.20.8:32744',\n",
       "  '2022/05/27 22:11:34.833858721 Packages in the environment: aiofiles==0.8.0, anyio==3.5.0, appdirs==1.4.4, asgiref==3.5.1, asttokens==2.0.5, backcall==0.2.0, certifi==2022.5.18.1, charset-normalizer==2.0.12, click==8.1.3, cycler==0.11.0, debugpy==1.6.0, decorator==5.1.1, distlib, entrypoints==0.4, executing==0.8.3, fastapi==0.76.0, filelock, fonttools==4.33.3, fsspec==2022.3.0, greenlet==1.1.2, h11==0.13.0, humanize==4.1.0, idna==3.3, importlib-metadata==4.11.3, importlib-resources==5.7.1, ipykernel==6.13.0, ipython==8.3.0, jedi==0.18.1, Jinja2==3.1.2, joblib==1.1.0, jupyter-client==7.3.0, jupyter-core==4.10.0, kiwisolver==1.4.2, MarkupSafe==2.1.1, matplotlib==3.5.2, matplotlib-inline==0.1.3, nest-asyncio==1.5.5, numpy==1.22.3, packaging==21.3, pandas==1.4.2, parso==0.8.3, pexpect==4.8.0, pickleshare==0.7.5, Pillow==9.1.0, pins==0.2.0, prompt-toolkit==3.0.29, psutil==5.9.0, psycopg2==2.9.3, ptyprocess==0.7.0, pure-eval==0.2.2, pydantic==1.9.0, Pygments==2.12.0, pyparsing==3.0.8, python-dateutil==2.8.2, python-dotenv==0.20.0, pytz==2022.1, PyYAML==6.0, pyzmq==22.3.0, requests==2.27.1, scikit-learn==1.0.2, scipy==1.8.0, semver==2.13.0, six, sklearn==0.0, sniffio==1.2.0, SQLAlchemy==1.4.36, stack-data==0.2.0, starlette==0.18.0, threadpoolctl==3.1.0, torch==1.11.0, tornado==6.1, traitlets==5.1.1, typing_extensions==4.2.0, urllib3==1.26.9, uvicorn==0.17.6, vetiver==0.1.3, virtualenv, wcwidth==0.2.5, websockets==10.3, xgboost==1.6.1, xxhash==3.0.0, zipp==3.8.0, ',\n",
       "  '2022/05/27 22:11:34.837373540 Creating lockfile: python/requirements.txt.lock',\n",
       "  'Stopped session pings to http://172.19.20.8:32744',\n",
       "  'Launching FastAPI application...'])"
      ]
     },
     "execution_count": 5,
     "metadata": {},
     "output_type": "execute_result"
    }
   ],
   "source": [
    "deploy_python_fastapi(\n",
    "    connect_server = connect_server,\n",
    "    title = \"Xgboost model for bike share\",\n",
    "    directory = \"../\",\n",
    "    extra_files = None,\n",
    "    entry_point = \"bikemodel:api\",\n",
    "    excludes = None,\n",
    ")"
   ]
  }
 ],
 "metadata": {
  "interpreter": {
   "hash": "137080a8780f62e7e7eb9221df03213dd912880019330f89fff270987140719d"
  },
  "kernelspec": {
   "display_name": "vetiver-python-bike",
   "language": "python",
   "name": "python3"
  },
  "language_info": {
   "codemirror_mode": {
    "name": "ipython",
    "version": 3
   },
   "file_extension": ".py",
   "mimetype": "text/x-python",
   "name": "python",
   "nbconvert_exporter": "python",
   "pygments_lexer": "ipython3",
   "version": "3.8.11"
  }
 },
 "nbformat": 4,
 "nbformat_minor": 5
}
