{
 "cells": [
  {
   "cell_type": "code",
   "execution_count": 1,
   "id": "9df0753e-1936-40ae-b779-0bc21eb3f547",
   "metadata": {},
   "outputs": [
    {
     "data": {
      "text/plain": [
       "True"
      ]
     },
     "execution_count": 1,
     "metadata": {},
     "output_type": "execute_result"
    }
   ],
   "source": [
    "import pandas as pd\n",
    "import numpy as np\n",
    "from sklearn import model_selection, preprocessing, pipeline\n",
    "from sklearn.ensemble import RandomForestRegressor\n",
    "import psycopg2\n",
    "from sqlalchemy import create_engine\n",
    "from pins import board_rsconnect\n",
    "from dotenv import load_dotenv\n",
    "import os\n",
    "load_dotenv()"
   ]
  },
  {
   "cell_type": "code",
   "execution_count": 2,
   "id": "a035b1cc-f387-4cfc-9b61-d3469d656787",
   "metadata": {},
   "outputs": [],
   "source": [
    "board = board_rsconnect(\n",
    "    server_url=\"https://colorado.rstudio.com/rsc/\",\n",
    "    api_key=os.getenv(\"CONNECT_API_KEY\")\n",
    ")\n",
    "#> Connecting to RSC 1.9.0.1 at <https://connect.rstudioservices.com>"
   ]
  },
  {
   "cell_type": "code",
   "execution_count": 3,
   "id": "192e7f5b-7be5-4299-bc6d-0ca2cd6ca3b3",
   "metadata": {},
   "outputs": [],
   "source": [
    "df = board.pin_read(name=\"xu.fei/bike-all-dates-05042022\")"
   ]
  },
  {
   "cell_type": "code",
   "execution_count": 4,
   "id": "65e2bf5b-a42b-4fb4-82da-62b154a512f9",
   "metadata": {},
   "outputs": [
    {
     "data": {
      "text/html": [
       "<div>\n",
       "<style scoped>\n",
       "    .dataframe tbody tr th:only-of-type {\n",
       "        vertical-align: middle;\n",
       "    }\n",
       "\n",
       "    .dataframe tbody tr th {\n",
       "        vertical-align: top;\n",
       "    }\n",
       "\n",
       "    .dataframe thead th {\n",
       "        text-align: right;\n",
       "    }\n",
       "</style>\n",
       "<table border=\"1\" class=\"dataframe\">\n",
       "  <thead>\n",
       "    <tr style=\"text-align: right;\">\n",
       "      <th></th>\n",
       "      <th>id</th>\n",
       "      <th>hour</th>\n",
       "      <th>date</th>\n",
       "      <th>month</th>\n",
       "      <th>dow</th>\n",
       "      <th>n_bikes</th>\n",
       "      <th>lat</th>\n",
       "      <th>lon</th>\n",
       "    </tr>\n",
       "  </thead>\n",
       "  <tbody>\n",
       "    <tr>\n",
       "      <th>0</th>\n",
       "      <td>73</td>\n",
       "      <td>4</td>\n",
       "      <td>2021-10-03</td>\n",
       "      <td>10</td>\n",
       "      <td>Sunday</td>\n",
       "      <td>2.0</td>\n",
       "      <td>38.933668</td>\n",
       "      <td>-76.991016</td>\n",
       "    </tr>\n",
       "    <tr>\n",
       "      <th>1</th>\n",
       "      <td>73</td>\n",
       "      <td>4</td>\n",
       "      <td>2021-10-04</td>\n",
       "      <td>10</td>\n",
       "      <td>Monday</td>\n",
       "      <td>8.0</td>\n",
       "      <td>38.933668</td>\n",
       "      <td>-76.991016</td>\n",
       "    </tr>\n",
       "    <tr>\n",
       "      <th>2</th>\n",
       "      <td>73</td>\n",
       "      <td>4</td>\n",
       "      <td>2021-10-05</td>\n",
       "      <td>10</td>\n",
       "      <td>Tuesday</td>\n",
       "      <td>7.0</td>\n",
       "      <td>38.933668</td>\n",
       "      <td>-76.991016</td>\n",
       "    </tr>\n",
       "    <tr>\n",
       "      <th>3</th>\n",
       "      <td>73</td>\n",
       "      <td>4</td>\n",
       "      <td>2021-10-06</td>\n",
       "      <td>10</td>\n",
       "      <td>Wednesday</td>\n",
       "      <td>4.0</td>\n",
       "      <td>38.933668</td>\n",
       "      <td>-76.991016</td>\n",
       "    </tr>\n",
       "    <tr>\n",
       "      <th>4</th>\n",
       "      <td>73</td>\n",
       "      <td>4</td>\n",
       "      <td>2021-10-07</td>\n",
       "      <td>10</td>\n",
       "      <td>Thursday</td>\n",
       "      <td>4.0</td>\n",
       "      <td>38.933668</td>\n",
       "      <td>-76.991016</td>\n",
       "    </tr>\n",
       "  </tbody>\n",
       "</table>\n",
       "</div>"
      ],
      "text/plain": [
       "   id  hour        date  month        dow  n_bikes        lat        lon\n",
       "0  73     4  2021-10-03     10     Sunday      2.0  38.933668 -76.991016\n",
       "1  73     4  2021-10-04     10     Monday      8.0  38.933668 -76.991016\n",
       "2  73     4  2021-10-05     10    Tuesday      7.0  38.933668 -76.991016\n",
       "3  73     4  2021-10-06     10  Wednesday      4.0  38.933668 -76.991016\n",
       "4  73     4  2021-10-07     10   Thursday      4.0  38.933668 -76.991016"
      ]
     },
     "execution_count": 4,
     "metadata": {},
     "output_type": "execute_result"
    }
   ],
   "source": [
    "df.head()"
   ]
  },
  {
   "cell_type": "code",
   "execution_count": 5,
   "id": "54dcf9fc-92cf-41c5-8a58-87af833703e8",
   "metadata": {},
   "outputs": [
    {
     "data": {
      "text/plain": [
       "(12260589, 8)"
      ]
     },
     "execution_count": 5,
     "metadata": {},
     "output_type": "execute_result"
    }
   ],
   "source": [
    "df.shape"
   ]
  },
  {
   "cell_type": "code",
   "execution_count": 18,
   "id": "da8cd32d-4979-4aa3-b273-17dcec32db71",
   "metadata": {},
   "outputs": [
    {
     "name": "stderr",
     "output_type": "stream",
     "text": [
      "Writing to pin 'xu.fei/bike-all-dates-05042022'\n"
     ]
    },
    {
     "data": {
      "text/plain": [
       "Meta(title='Shared Bike Data', description='Shared bike data until May 4th, 2022', created='20220505T164106Z', pin_hash='802fb4641d9829b0', file='bike-all-dates-05042022.csv', file_size=689184111, type='csv', api_version=1, version=VersionRaw(version='56032'), name='xu.fei/bike-all-dates-05042022', user={})"
      ]
     },
     "execution_count": 18,
     "metadata": {},
     "output_type": "execute_result"
    }
   ],
   "source": [
    "board.pin_write(\n",
    "    df_all_dates,\n",
    "    name=\"xu.fei/bike-all-dates-05042022\", \n",
    "    title=\"Shared Bike Data\", \n",
    "    description=\"Shared bike data until May 4th, 2022\",\n",
    "    type=\"csv\")\n",
    "#> Writing to pin 'hadley/sales-summary'"
   ]
  },
  {
   "cell_type": "code",
   "execution_count": 25,
   "id": "b0449536-9275-4425-a551-ef6abfbb33a9",
   "metadata": {},
   "outputs": [
    {
     "name": "stdout",
     "output_type": "stream",
     "text": [
      "/usr/home/xu.fei/py-shiny-app\n"
     ]
    }
   ],
   "source": [
    "!pwd"
   ]
  },
  {
   "cell_type": "code",
   "execution_count": null,
   "id": "ca6a086f-c9c6-42b9-a05a-33e6e418dcb1",
   "metadata": {},
   "outputs": [],
   "source": [
    "df_all_dates = pd.read_sql_query(sql,engine)"
   ]
  }
 ],
 "metadata": {
  "kernelspec": {
   "display_name": "vetiver-python-bike",
   "language": "python",
   "name": "vetiver-python-bike"
  },
  "language_info": {
   "codemirror_mode": {
    "name": "ipython",
    "version": 3
   },
   "file_extension": ".py",
   "mimetype": "text/x-python",
   "name": "python",
   "nbconvert_exporter": "python",
   "pygments_lexer": "ipython3",
   "version": "3.9.6"
  }
 },
 "nbformat": 4,
 "nbformat_minor": 5
}
