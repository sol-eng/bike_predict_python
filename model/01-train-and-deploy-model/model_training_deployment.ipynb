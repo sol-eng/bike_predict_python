{
 "cells": [
  {
   "attachments": {},
   "cell_type": "markdown",
   "id": "50fdf956-7baf-4998-90ae-1a90db603182",
   "metadata": {},
   "source": [
    "### model training and testing"
   ]
  },
  {
   "cell_type": "code",
   "execution_count": null,
   "id": "8eb136a5-0eb8-472e-a08a-f0af2e304178",
   "metadata": {
    "tags": []
   },
   "outputs": [],
   "source": [
    "import os\n",
    "import warnings\n",
    "from math import sqrt\n",
    "\n",
    "import numpy as np\n",
    "import pandas as pd\n",
    "import pins\n",
    "import pyodbc\n",
    "from dotenv import load_dotenv\n",
    "from rsconnect.api import RSConnectServer\n",
    "from sklearn.base import BaseEstimator,TransformerMixin\n",
    "from sklearn.model_selection import TimeSeriesSplit, train_test_split\n",
    "from sklearn.ensemble import RandomForestRegressor\n",
    "from sklearn.pipeline import Pipeline\n",
    "from sklearn.metrics import mean_squared_error\n",
    "from vetiver import VetiverModel, deploy_rsconnect, pin_read_write"
   ]
  },
  {
   "cell_type": "code",
   "execution_count": null,
   "id": "4d7a18c1-2e8e-4251-8bdf-9236aaaa889b",
   "metadata": {},
   "outputs": [],
   "source": [
    "warnings.filterwarnings('ignore')\n",
    "load_dotenv(override=True)\n",
    "\n",
    "rsc_server = os.getenv(\"CONNECT_SERVER\")\n",
    "rsc_key = os.getenv(\"CONNECT_API_KEY\")\n",
    "connect_server = RSConnectServer(url=rsc_server,api_key=rsc_key)"
   ]
  },
  {
   "cell_type": "markdown",
   "id": "c8c9058b",
   "metadata": {},
   "source": [
    "## Raw data\n",
    "\n",
    "Read in the raw data from the database."
   ]
  },
  {
   "cell_type": "code",
   "execution_count": null,
   "id": "5ad432dc-87c3-4155-89f7-ff23e2022822",
   "metadata": {},
   "outputs": [],
   "source": [
    "# read table built by R ETL process in the database\n",
    "connection = pyodbc.connect('DSN=Content DB')\n",
    "\n",
    "sql = \"select * from bike_model_data where date in (select distinct date from bike_model_data order by date desc limit 12);\"\n",
    "\n",
    "all_days = pd.read_sql_query(sql, connection)\n",
    "all_days.sort_values(by='date', inplace=True, ascending=False)\n",
    "all_days = all_days.reset_index(drop=True)\n",
    "all_days"
   ]
  },
  {
   "cell_type": "markdown",
   "id": "ab35e2fb",
   "metadata": {},
   "source": [
    "## Train test split"
   ]
  },
  {
   "cell_type": "code",
   "execution_count": null,
   "id": "60b4ce5e",
   "metadata": {},
   "outputs": [],
   "source": [
    "X = all_days[[\"id\", \"hour\", \"date\", \"month\", \"dow\"]]\n",
    "y = all_days[[\"n_bikes\"]]\n",
    "\n",
    "X_train, X_test, y_train, y_test = train_test_split(X, y)\n"
   ]
  },
  {
   "cell_type": "code",
   "execution_count": null,
   "id": "cf9f16e6",
   "metadata": {},
   "outputs": [],
   "source": [
    "X_train"
   ]
  },
  {
   "cell_type": "code",
   "execution_count": null,
   "id": "20e2eaf5",
   "metadata": {},
   "outputs": [],
   "source": [
    "y_train"
   ]
  },
  {
   "cell_type": "markdown",
   "id": "9a9ac265",
   "metadata": {},
   "source": [
    "## Data processing\n",
    "\n",
    "Clean and transform the data."
   ]
  },
  {
   "cell_type": "code",
   "execution_count": null,
   "id": "28e9ed42",
   "metadata": {},
   "outputs": [],
   "source": [
    "class DataCleaner(BaseEstimator, TransformerMixin):\n",
    "    def __init__(self):\n",
    "        return None\n",
    "    \n",
    "    def fit(self, X, y=None):\n",
    "        return self\n",
    "\n",
    "    def transform(self, X, y=None):\n",
    "        df = X.copy()\n",
    "        df = self.add_dow_as_int(df)\n",
    "        df = self.add_missing_dow(df)\n",
    "        return df\n",
    "\n",
    "    def add_dow_as_int(self, X):\n",
    "        '''One hot encoding the day of the week'''\n",
    "        df = X.copy()\n",
    "        df['date'] = pd.to_datetime(df['date'])\n",
    "        one_hot = pd.get_dummies(df['dow'])\n",
    "        df = df.join(one_hot)\n",
    "        df = df.drop('dow',axis=1)\n",
    "        return df\n",
    "\n",
    "    def add_missing_dow(self, X):\n",
    "        ''' add encoding for missing dow in testing dataset'''\n",
    "        df = X.copy()\n",
    "        all_dow = ['Monday','Tuesday','Wednesday','Thursday','Friday','Saturday','Sunday']\n",
    "        dow_in_data = df.columns.drop(['id','date','hour','month']).to_list()\n",
    "        dow_not_in_data = np.setdiff1d(all_dow, dow_in_data, assume_unique=False)\n",
    "        for i in dow_not_in_data:\n",
    "            df[i] = False\n",
    "        df = df.drop(columns=[\"date\"])\n",
    "        # Arrange columns\n",
    "        df = df[['id','hour','month', 'Monday','Tuesday','Wednesday','Thursday','Friday','Saturday','Sunday']]\n",
    "        return df"
   ]
  },
  {
   "cell_type": "markdown",
   "id": "5ed6ada2",
   "metadata": {},
   "source": [
    "## Train model"
   ]
  },
  {
   "cell_type": "code",
   "execution_count": null,
   "id": "b36155f0-6117-4870-99ef-30f028a6e8ed",
   "metadata": {
    "tags": []
   },
   "outputs": [],
   "source": [
    "# build a random forest model\n",
    "model = Pipeline(\n",
    "    steps=[\n",
    "        (\"pre-processor\", DataCleaner()),\n",
    "        (\"regressor\", RandomForestRegressor(n_estimators=100, random_state=0, n_jobs=-1))\n",
    "    ]\n",
    ")\n",
    "\n",
    "model.fit(X_train, y_train)\n"
   ]
  },
  {
   "cell_type": "code",
   "execution_count": null,
   "id": "b23cc484-8153-4f66-a3b6-1ac58e8c99c0",
   "metadata": {},
   "outputs": [],
   "source": [
    "# test the random forest model\n",
    "y_pred = model.predict(X_test)\n",
    "\n",
    "# compare predictions\n",
    "test_mse = mean_squared_error(y_test, y_pred)\n",
    "rmse = sqrt(test_mse)\n",
    "print('RMSE: %f' % rmse)"
   ]
  },
  {
   "attachments": {},
   "cell_type": "markdown",
   "id": "055fd964-0478-4cb2-bb89-6fe6475d6da3",
   "metadata": {},
   "source": [
    "## Deploy model\n",
    "\n",
    "Deploy the model with vetiver."
   ]
  },
  {
   "cell_type": "code",
   "execution_count": null,
   "id": "1c23fec8",
   "metadata": {},
   "outputs": [],
   "source": [
    "user_name=\"gagan\""
   ]
  },
  {
   "cell_type": "code",
   "execution_count": null,
   "id": "fd5657b5-a2d4-4115-b729-22adeeccf497",
   "metadata": {
    "tags": []
   },
   "outputs": [],
   "source": [
    "# convert the random forest model into a vetiver model\n",
    "v = VetiverModel(\n",
    "    model,\n",
    "    f\"{user_name}/bikeshare-rf-python\",\n",
    "    prototype_data=X_train\n",
    ")"
   ]
  },
  {
   "cell_type": "code",
   "execution_count": null,
   "id": "aa856aef-8792-40ac-832f-f768e07811e1",
   "metadata": {},
   "outputs": [],
   "source": [
    "# create a board on Posit Connect\n",
    "board = pins.board_rsconnect(\n",
    "    server_url=\"https://colorado.posit.co/rsc\",\n",
    "    allow_pickle_read=True\n",
    ")"
   ]
  },
  {
   "cell_type": "code",
   "execution_count": null,
   "id": "f194413b-8c71-487c-acef-305eef16b800",
   "metadata": {
    "collapsed": true,
    "jupyter": {
     "outputs_hidden": true
    },
    "tags": []
   },
   "outputs": [],
   "source": [
    "# write the vetiver model as pin to Posit Connect\n",
    "pin_read_write.vetiver_pin_write(board, v)"
   ]
  },
  {
   "cell_type": "code",
   "execution_count": null,
   "id": "b720a03f-ccae-4a28-8d3e-80407a80e89c",
   "metadata": {
    "tags": []
   },
   "outputs": [],
   "source": [
    "# use Vetiver provided Posit Connect deployment function \n",
    "# to deploy the model as a FASTApi\n",
    "deploy_rsconnect(\n",
    "    connect_server=connect_server,\n",
    "    board=board,\n",
    "    pin_name=f\"{user_name}/bikeshare-rf-python\",\n",
    "    title = \"Random Forest model for Bikeshare Python\"\n",
    ")"
   ]
  }
 ],
 "metadata": {
  "kernelspec": {
   "display_name": "Python 3.10.4 ('.venv': venv)",
   "language": "python",
   "name": "python3"
  },
  "language_info": {
   "codemirror_mode": {
    "name": "ipython",
    "version": 3
   },
   "file_extension": ".py",
   "mimetype": "text/x-python",
   "name": "python",
   "nbconvert_exporter": "python",
   "pygments_lexer": "ipython3",
   "version": "3.10.4"
  },
  "vscode": {
   "interpreter": {
    "hash": "48a6cbc295b37ea8ca6d7f7bb221722acf396e964ea97a71d67b77da9d347980"
   }
  }
 },
 "nbformat": 4,
 "nbformat_minor": 5
}
