{
 "cells": [
  {
   "cell_type": "markdown",
   "id": "50fdf956-7baf-4998-90ae-1a90db603182",
   "metadata": {},
   "source": [
    "### model training and testing"
   ]
  },
  {
   "cell_type": "code",
   "execution_count": 1,
   "id": "8eb136a5-0eb8-472e-a08a-f0af2e304178",
   "metadata": {
    "tags": []
   },
   "outputs": [],
   "source": [
    "import numpy as np\n",
    "import psycopg2\n",
    "import pandas as pd\n",
    "import os\n",
    "from rsconnect.api import RSConnectServer\n",
    "from rsconnect.actions import deploy_python_fastapi\n",
    "from dotenv import load_dotenv\n",
    "import warnings\n",
    "import math\n",
    "from math import sqrt\n",
    "from sklearn.metrics import mean_squared_error, mean_absolute_error\n",
    "from vetiver import VetiverModel, VetiverAPI, vetiver_endpoint,pin_read_write\n",
    "from vetiver import deploy_rsconnect\n",
    "import pins"
   ]
  },
  {
   "cell_type": "code",
   "execution_count": 2,
   "id": "4d7a18c1-2e8e-4251-8bdf-9236aaaa889b",
   "metadata": {},
   "outputs": [],
   "source": [
    "warnings.filterwarnings('ignore')\n",
    "load_dotenv(override=True)\n",
    "\n",
    "rsc_server=os.getenv(\"CONNECT_SERVER\")\n",
    "rsc_key=os.getenv(\"CONNECT_API_KEY\")\n",
    "connect_server = RSConnectServer(url=rsc_server,api_key=rsc_key)\n",
    "\n",
    "db_password=os.getenv(\"DB_PASSWORD\")\n",
    "db_url=os.getenv(\"DB_URL\")"
   ]
  },
  {
   "cell_type": "code",
   "execution_count": 3,
   "id": "3300ef40-d65f-4292-8831-38b0e32998a4",
   "metadata": {},
   "outputs": [],
   "source": [
    "def add_dow_as_int(df):\n",
    "    '''One hot encoding the day of the week'''\n",
    "    df['date']=pd.to_datetime(df['date'])\n",
    "    one_hot=pd.get_dummies(df['dow'])\n",
    "    df = df.join(one_hot)\n",
    "    df = df.drop('dow',axis=1)\n",
    "    return df"
   ]
  },
  {
   "cell_type": "code",
   "execution_count": 4,
   "id": "e1eb024e-9350-422f-83ed-2d8419895b08",
   "metadata": {},
   "outputs": [],
   "source": [
    "def feature_split(df):\n",
    "    '''split the df provided into X features and y output'''\n",
    "    X = df.drop(['n_bikes','date','lat','lon'], axis=1)\n",
    "    y = df[['n_bikes']]\n",
    "    return X,y"
   ]
  },
  {
   "cell_type": "code",
   "execution_count": 5,
   "id": "402d2528-3533-461c-b85b-3b3e5385d70a",
   "metadata": {},
   "outputs": [],
   "source": [
    "def add_missing_dow(df):\n",
    "    ''' add encoding for missing dow in testing dataset'''\n",
    "    all_dow=['Monday','Tuesday','Wednesday','Thursday','Friday','Saturday','Sunday']\n",
    "    dow = df.columns.drop(['n_bikes','id','date','hour','month','lat','lon']).to_list()\n",
    "    a = np.setdiff1d(all_dow,dow,assume_unique=False)\n",
    "    for i in a:\n",
    "        df_testing[i]=0\n",
    "    return df"
   ]
  },
  {
   "cell_type": "code",
   "execution_count": 7,
   "id": "5ad432dc-87c3-4155-89f7-ff23e2022822",
   "metadata": {},
   "outputs": [
    {
     "data": {
      "text/html": [
       "<div>\n",
       "<style scoped>\n",
       "    .dataframe tbody tr th:only-of-type {\n",
       "        vertical-align: middle;\n",
       "    }\n",
       "\n",
       "    .dataframe tbody tr th {\n",
       "        vertical-align: top;\n",
       "    }\n",
       "\n",
       "    .dataframe thead th {\n",
       "        text-align: right;\n",
       "    }\n",
       "</style>\n",
       "<table border=\"1\" class=\"dataframe\">\n",
       "  <thead>\n",
       "    <tr style=\"text-align: right;\">\n",
       "      <th></th>\n",
       "      <th>id</th>\n",
       "      <th>hour</th>\n",
       "      <th>date</th>\n",
       "      <th>month</th>\n",
       "      <th>dow</th>\n",
       "      <th>n_bikes</th>\n",
       "      <th>lat</th>\n",
       "      <th>lon</th>\n",
       "    </tr>\n",
       "  </thead>\n",
       "  <tbody>\n",
       "    <tr>\n",
       "      <th>0</th>\n",
       "      <td>157</td>\n",
       "      <td>8.0</td>\n",
       "      <td>2022-07-21</td>\n",
       "      <td>7.0</td>\n",
       "      <td>Thursday</td>\n",
       "      <td>6.0</td>\n",
       "      <td>38.850337</td>\n",
       "      <td>-77.100989</td>\n",
       "    </tr>\n",
       "    <tr>\n",
       "      <th>1</th>\n",
       "      <td>132</td>\n",
       "      <td>0.0</td>\n",
       "      <td>2022-07-21</td>\n",
       "      <td>7.0</td>\n",
       "      <td>Thursday</td>\n",
       "      <td>5.0</td>\n",
       "      <td>38.865590</td>\n",
       "      <td>-76.952103</td>\n",
       "    </tr>\n",
       "    <tr>\n",
       "      <th>2</th>\n",
       "      <td>5</td>\n",
       "      <td>6.0</td>\n",
       "      <td>2022-07-21</td>\n",
       "      <td>7.0</td>\n",
       "      <td>Thursday</td>\n",
       "      <td>5.0</td>\n",
       "      <td>38.857866</td>\n",
       "      <td>-77.059490</td>\n",
       "    </tr>\n",
       "    <tr>\n",
       "      <th>3</th>\n",
       "      <td>5</td>\n",
       "      <td>8.0</td>\n",
       "      <td>2022-07-21</td>\n",
       "      <td>7.0</td>\n",
       "      <td>Thursday</td>\n",
       "      <td>5.0</td>\n",
       "      <td>38.857866</td>\n",
       "      <td>-77.059490</td>\n",
       "    </tr>\n",
       "    <tr>\n",
       "      <th>4</th>\n",
       "      <td>8</td>\n",
       "      <td>6.0</td>\n",
       "      <td>2022-07-21</td>\n",
       "      <td>7.0</td>\n",
       "      <td>Thursday</td>\n",
       "      <td>5.0</td>\n",
       "      <td>38.857405</td>\n",
       "      <td>-77.051132</td>\n",
       "    </tr>\n",
       "    <tr>\n",
       "      <th>...</th>\n",
       "      <td>...</td>\n",
       "      <td>...</td>\n",
       "      <td>...</td>\n",
       "      <td>...</td>\n",
       "      <td>...</td>\n",
       "      <td>...</td>\n",
       "      <td>...</td>\n",
       "      <td>...</td>\n",
       "    </tr>\n",
       "    <tr>\n",
       "      <th>79636</th>\n",
       "      <td>438</td>\n",
       "      <td>18.0</td>\n",
       "      <td>2022-07-10</td>\n",
       "      <td>7.0</td>\n",
       "      <td>Sunday</td>\n",
       "      <td>6.0</td>\n",
       "      <td>38.957037</td>\n",
       "      <td>-77.359718</td>\n",
       "    </tr>\n",
       "    <tr>\n",
       "      <th>79637</th>\n",
       "      <td>438</td>\n",
       "      <td>20.0</td>\n",
       "      <td>2022-07-10</td>\n",
       "      <td>7.0</td>\n",
       "      <td>Sunday</td>\n",
       "      <td>6.0</td>\n",
       "      <td>38.957037</td>\n",
       "      <td>-77.359718</td>\n",
       "    </tr>\n",
       "    <tr>\n",
       "      <th>79638</th>\n",
       "      <td>438</td>\n",
       "      <td>22.0</td>\n",
       "      <td>2022-07-10</td>\n",
       "      <td>7.0</td>\n",
       "      <td>Sunday</td>\n",
       "      <td>4.0</td>\n",
       "      <td>38.957037</td>\n",
       "      <td>-77.359718</td>\n",
       "    </tr>\n",
       "    <tr>\n",
       "      <th>79639</th>\n",
       "      <td>439</td>\n",
       "      <td>0.0</td>\n",
       "      <td>2022-07-10</td>\n",
       "      <td>7.0</td>\n",
       "      <td>Sunday</td>\n",
       "      <td>2.0</td>\n",
       "      <td>38.884916</td>\n",
       "      <td>-77.005965</td>\n",
       "    </tr>\n",
       "    <tr>\n",
       "      <th>79640</th>\n",
       "      <td>379</td>\n",
       "      <td>12.0</td>\n",
       "      <td>2022-07-10</td>\n",
       "      <td>7.0</td>\n",
       "      <td>Sunday</td>\n",
       "      <td>9.0</td>\n",
       "      <td>38.898301</td>\n",
       "      <td>-77.118009</td>\n",
       "    </tr>\n",
       "  </tbody>\n",
       "</table>\n",
       "<p>79641 rows × 8 columns</p>\n",
       "</div>"
      ],
      "text/plain": [
       "        id  hour        date  month       dow  n_bikes        lat        lon\n",
       "0      157   8.0  2022-07-21    7.0  Thursday      6.0  38.850337 -77.100989\n",
       "1      132   0.0  2022-07-21    7.0  Thursday      5.0  38.865590 -76.952103\n",
       "2        5   6.0  2022-07-21    7.0  Thursday      5.0  38.857866 -77.059490\n",
       "3        5   8.0  2022-07-21    7.0  Thursday      5.0  38.857866 -77.059490\n",
       "4        8   6.0  2022-07-21    7.0  Thursday      5.0  38.857405 -77.051132\n",
       "...    ...   ...         ...    ...       ...      ...        ...        ...\n",
       "79636  438  18.0  2022-07-10    7.0    Sunday      6.0  38.957037 -77.359718\n",
       "79637  438  20.0  2022-07-10    7.0    Sunday      6.0  38.957037 -77.359718\n",
       "79638  438  22.0  2022-07-10    7.0    Sunday      4.0  38.957037 -77.359718\n",
       "79639  439   0.0  2022-07-10    7.0    Sunday      2.0  38.884916 -77.005965\n",
       "79640  379  12.0  2022-07-10    7.0    Sunday      9.0  38.898301 -77.118009\n",
       "\n",
       "[79641 rows x 8 columns]"
      ]
     },
     "execution_count": 7,
     "metadata": {},
     "output_type": "execute_result"
    }
   ],
   "source": [
    "# read table built by R ETL process in the database\n",
    "connection = psycopg2.connect(\n",
    "    user=\"content\",\n",
    "    password=db_password,\n",
    "    host=db_url,\n",
    "    port=\"5432\",\n",
    "    database=\"rds\")\n",
    "\n",
    "sql = \"select * from bike_model_data where date in (select distinct date from bike_model_data order by date desc limit 12);\"\n",
    "\n",
    "all_days = pd.read_sql_query(sql, connection)\n",
    "all_days.sort_values(by='date', inplace=True, ascending=False)\n",
    "all_days=all_days.reset_index(drop=True)\n",
    "all_days"
   ]
  },
  {
   "cell_type": "code",
   "execution_count": 6,
   "id": "fb0d0d19-7d3c-4586-8a79-b9a9dcef4fcf",
   "metadata": {},
   "outputs": [],
   "source": [
    "# divide in training and testing datasets\n",
    "all_dates = all_days.date.unique()\n",
    "testing_dates = all_dates[0:3]\n",
    "training_dates = all_dates[3:]\n",
    "df_testing = all_days.loc[all_days['date'].isin(testing_dates)]\n",
    "df_training = all_days.loc[all_days['date'].isin(training_dates)]"
   ]
  },
  {
   "cell_type": "code",
   "execution_count": 7,
   "id": "b36155f0-6117-4870-99ef-30f028a6e8ed",
   "metadata": {
    "tags": []
   },
   "outputs": [
    {
     "data": {
      "text/html": [
       "<style>#sk-container-id-1 {color: black;background-color: white;}#sk-container-id-1 pre{padding: 0;}#sk-container-id-1 div.sk-toggleable {background-color: white;}#sk-container-id-1 label.sk-toggleable__label {cursor: pointer;display: block;width: 100%;margin-bottom: 0;padding: 0.3em;box-sizing: border-box;text-align: center;}#sk-container-id-1 label.sk-toggleable__label-arrow:before {content: \"▸\";float: left;margin-right: 0.25em;color: #696969;}#sk-container-id-1 label.sk-toggleable__label-arrow:hover:before {color: black;}#sk-container-id-1 div.sk-estimator:hover label.sk-toggleable__label-arrow:before {color: black;}#sk-container-id-1 div.sk-toggleable__content {max-height: 0;max-width: 0;overflow: hidden;text-align: left;background-color: #f0f8ff;}#sk-container-id-1 div.sk-toggleable__content pre {margin: 0.2em;color: black;border-radius: 0.25em;background-color: #f0f8ff;}#sk-container-id-1 input.sk-toggleable__control:checked~div.sk-toggleable__content {max-height: 200px;max-width: 100%;overflow: auto;}#sk-container-id-1 input.sk-toggleable__control:checked~label.sk-toggleable__label-arrow:before {content: \"▾\";}#sk-container-id-1 div.sk-estimator input.sk-toggleable__control:checked~label.sk-toggleable__label {background-color: #d4ebff;}#sk-container-id-1 div.sk-label input.sk-toggleable__control:checked~label.sk-toggleable__label {background-color: #d4ebff;}#sk-container-id-1 input.sk-hidden--visually {border: 0;clip: rect(1px 1px 1px 1px);clip: rect(1px, 1px, 1px, 1px);height: 1px;margin: -1px;overflow: hidden;padding: 0;position: absolute;width: 1px;}#sk-container-id-1 div.sk-estimator {font-family: monospace;background-color: #f0f8ff;border: 1px dotted black;border-radius: 0.25em;box-sizing: border-box;margin-bottom: 0.5em;}#sk-container-id-1 div.sk-estimator:hover {background-color: #d4ebff;}#sk-container-id-1 div.sk-parallel-item::after {content: \"\";width: 100%;border-bottom: 1px solid gray;flex-grow: 1;}#sk-container-id-1 div.sk-label:hover label.sk-toggleable__label {background-color: #d4ebff;}#sk-container-id-1 div.sk-serial::before {content: \"\";position: absolute;border-left: 1px solid gray;box-sizing: border-box;top: 0;bottom: 0;left: 50%;z-index: 0;}#sk-container-id-1 div.sk-serial {display: flex;flex-direction: column;align-items: center;background-color: white;padding-right: 0.2em;padding-left: 0.2em;position: relative;}#sk-container-id-1 div.sk-item {position: relative;z-index: 1;}#sk-container-id-1 div.sk-parallel {display: flex;align-items: stretch;justify-content: center;background-color: white;position: relative;}#sk-container-id-1 div.sk-item::before, #sk-container-id-1 div.sk-parallel-item::before {content: \"\";position: absolute;border-left: 1px solid gray;box-sizing: border-box;top: 0;bottom: 0;left: 50%;z-index: -1;}#sk-container-id-1 div.sk-parallel-item {display: flex;flex-direction: column;z-index: 1;position: relative;background-color: white;}#sk-container-id-1 div.sk-parallel-item:first-child::after {align-self: flex-end;width: 50%;}#sk-container-id-1 div.sk-parallel-item:last-child::after {align-self: flex-start;width: 50%;}#sk-container-id-1 div.sk-parallel-item:only-child::after {width: 0;}#sk-container-id-1 div.sk-dashed-wrapped {border: 1px dashed gray;margin: 0 0.4em 0.5em 0.4em;box-sizing: border-box;padding-bottom: 0.4em;background-color: white;}#sk-container-id-1 div.sk-label label {font-family: monospace;font-weight: bold;display: inline-block;line-height: 1.2em;}#sk-container-id-1 div.sk-label-container {text-align: center;}#sk-container-id-1 div.sk-container {/* jupyter's `normalize.less` sets `[hidden] { display: none; }` but bootstrap.min.css set `[hidden] { display: none !important; }` so we also need the `!important` here to be able to override the default hidden behavior on the sphinx rendered scikit-learn.org. See: https://github.com/scikit-learn/scikit-learn/issues/21755 */display: inline-block !important;position: relative;}#sk-container-id-1 div.sk-text-repr-fallback {display: none;}</style><div id=\"sk-container-id-1\" class=\"sk-top-container\"><div class=\"sk-text-repr-fallback\"><pre>RandomForestRegressor(n_jobs=-1, random_state=0)</pre><b>In a Jupyter environment, please rerun this cell to show the HTML representation or trust the notebook. <br />On GitHub, the HTML representation is unable to render, please try loading this page with nbviewer.org.</b></div><div class=\"sk-container\" hidden><div class=\"sk-item\"><div class=\"sk-estimator sk-toggleable\"><input class=\"sk-toggleable__control sk-hidden--visually\" id=\"sk-estimator-id-1\" type=\"checkbox\" checked><label for=\"sk-estimator-id-1\" class=\"sk-toggleable__label sk-toggleable__label-arrow\">RandomForestRegressor</label><div class=\"sk-toggleable__content\"><pre>RandomForestRegressor(n_jobs=-1, random_state=0)</pre></div></div></div></div></div>"
      ],
      "text/plain": [
       "RandomForestRegressor(n_jobs=-1, random_state=0)"
      ]
     },
     "execution_count": 7,
     "metadata": {},
     "output_type": "execute_result"
    }
   ],
   "source": [
    "# build a random forest model\n",
    "df_training = add_dow_as_int(df_training)\n",
    "\n",
    "X_train,y_train = feature_split(df_training)\n",
    "\n",
    "from sklearn.ensemble import RandomForestRegressor\n",
    "regressor = RandomForestRegressor(n_estimators=100,random_state=0,n_jobs=-1)\n",
    "regressor.fit(X_train, y_train) "
   ]
  },
  {
   "cell_type": "code",
   "execution_count": 8,
   "id": "b23cc484-8153-4f66-a3b6-1ac58e8c99c0",
   "metadata": {},
   "outputs": [],
   "source": [
    "# test the random forest model\n",
    "df_testing = add_dow_as_int(df_testing)\n",
    "df_testing = add_missing_dow(df_testing)\n",
    "X_test,y_test = feature_split(df_testing)\n",
    "y_pred = regressor.predict(X_test)"
   ]
  },
  {
   "cell_type": "code",
   "execution_count": 9,
   "id": "ab5d1e17-0114-47c2-878f-79d72fc2b2f3",
   "metadata": {},
   "outputs": [
    {
     "name": "stdout",
     "output_type": "stream",
     "text": [
      "RMSE: 4.927005\n"
     ]
    }
   ],
   "source": [
    "# compare predictions\n",
    "test_mse = mean_squared_error(y_test,y_pred)\n",
    "rmse = sqrt(test_mse)\n",
    "print('RMSE: %f' % rmse)"
   ]
  },
  {
   "cell_type": "markdown",
   "id": "055fd964-0478-4cb2-bb89-6fe6475d6da3",
   "metadata": {},
   "source": [
    "### vetiver deployment"
   ]
  },
  {
   "cell_type": "code",
   "execution_count": 11,
   "id": "fd5657b5-a2d4-4115-b729-22adeeccf497",
   "metadata": {
    "tags": []
   },
   "outputs": [],
   "source": [
    "# convert the random forest model into a vetiver model\n",
    "v = VetiverModel(regressor,\"gagan/bikeshare-rf-python\",save_ptype=True, ptype_data=X_train)"
   ]
  },
  {
   "cell_type": "code",
   "execution_count": 12,
   "id": "431d95b0-28c1-4f1a-af42-fae43c4dc7bc",
   "metadata": {},
   "outputs": [
    {
     "data": {
      "text/plain": [
       "<vetiver.vetiver_model.VetiverModel at 0x7fbb3de7ee00>"
      ]
     },
     "execution_count": 12,
     "metadata": {},
     "output_type": "execute_result"
    }
   ],
   "source": [
    "v"
   ]
  },
  {
   "cell_type": "code",
   "execution_count": 13,
   "id": "aa856aef-8792-40ac-832f-f768e07811e1",
   "metadata": {},
   "outputs": [],
   "source": [
    "# create a board on RStudio Connect\n",
    "board = pins.board_rsconnect(server_url=\"https://colorado.rstudio.com/rsc\",\n",
    "                            allow_pickle_read=True)"
   ]
  },
  {
   "cell_type": "code",
   "execution_count": 14,
   "id": "f194413b-8c71-487c-acef-305eef16b800",
   "metadata": {
    "collapsed": true,
    "jupyter": {
     "outputs_hidden": true
    },
    "tags": []
   },
   "outputs": [
    {
     "name": "stderr",
     "output_type": "stream",
     "text": [
      "Writing pin:\n",
      "Name: 'gagan/bikeshare-rf-python'\n",
      "Version: 20220720T220547Z-0a3c9\n"
     ]
    }
   ],
   "source": [
    "# write the vetiver model as pin to RStudio Connect\n",
    "pin_read_write.vetiver_pin_write(\n",
    "    board,\n",
    "    v\n",
    ")"
   ]
  },
  {
   "cell_type": "code",
   "execution_count": 15,
   "id": "b720a03f-ccae-4a28-8d3e-80407a80e89c",
   "metadata": {
    "tags": []
   },
   "outputs": [],
   "source": [
    "# use Vetiver provided RStudio Connect deployment function \n",
    "# to deploy the model as a FASTApi\n",
    "deploy_rsconnect(\n",
    "    connect_server=connect_server,\n",
    "    board=board,\n",
    "    pin_name=\"gagan/bikeshare-rf-python\",\n",
    "    #python=\".bike_predict_python/bin/python\",\n",
    "    title = \"Random Forest model for Bikeshare Python\"\n",
    ")"
   ]
  }
 ],
 "metadata": {
  "kernelspec": {
   "display_name": "bike_predict_python",
   "language": "python",
   "name": "bike_predict_python"
  },
  "language_info": {
   "codemirror_mode": {
    "name": "ipython",
    "version": 3
   },
   "file_extension": ".py",
   "mimetype": "text/x-python",
   "name": "python",
   "nbconvert_exporter": "python",
   "pygments_lexer": "ipython3",
   "version": "3.10.4"
  }
 },
 "nbformat": 4,
 "nbformat_minor": 5
}
