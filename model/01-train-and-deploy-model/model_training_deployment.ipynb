{
 "cells": [
  {
   "attachments": {},
   "cell_type": "markdown",
   "id": "50fdf956-7baf-4998-90ae-1a90db603182",
   "metadata": {},
   "source": [
    "### model training and testing"
   ]
  },
  {
   "cell_type": "code",
   "execution_count": null,
   "id": "8eb136a5-0eb8-472e-a08a-f0af2e304178",
   "metadata": {
    "tags": []
   },
   "outputs": [],
   "source": [
    "import numpy as np\n",
    "import psycopg2\n",
    "import pandas as pd\n",
    "import os\n",
    "from rsconnect.api import RSConnectServer\n",
    "from rsconnect.actions import deploy_python_fastapi\n",
    "from dotenv import load_dotenv\n",
    "import warnings\n",
    "import math\n",
    "from math import sqrt\n",
    "from sklearn.metrics import mean_squared_error, mean_absolute_error\n",
    "from vetiver import VetiverModel, VetiverAPI, vetiver_endpoint,pin_read_write\n",
    "from vetiver import deploy_rsconnect\n",
    "import pins"
   ]
  },
  {
   "cell_type": "code",
   "execution_count": null,
   "id": "4d7a18c1-2e8e-4251-8bdf-9236aaaa889b",
   "metadata": {},
   "outputs": [],
   "source": [
    "warnings.filterwarnings('ignore')\n",
    "load_dotenv(override=True)\n",
    "\n",
    "rsc_server=os.getenv(\"CONNECT_SERVER\")\n",
    "rsc_key=os.getenv(\"CONNECT_API_KEY\")\n",
    "connect_server = RSConnectServer(url=rsc_server,api_key=rsc_key)\n",
    "\n",
    "db_password=os.getenv(\"DB_PASSWORD\")\n",
    "db_url=os.getenv(\"DB_URL\")"
   ]
  },
  {
   "cell_type": "code",
   "execution_count": null,
   "id": "3300ef40-d65f-4292-8831-38b0e32998a4",
   "metadata": {},
   "outputs": [],
   "source": [
    "def add_dow_as_int(df):\n",
    "    '''One hot encoding the day of the week'''\n",
    "    df['date']=pd.to_datetime(df['date'])\n",
    "    one_hot=pd.get_dummies(df['dow'])\n",
    "    df = df.join(one_hot)\n",
    "    df = df.drop('dow',axis=1)\n",
    "    return df"
   ]
  },
  {
   "cell_type": "code",
   "execution_count": null,
   "id": "e1eb024e-9350-422f-83ed-2d8419895b08",
   "metadata": {},
   "outputs": [],
   "source": [
    "def feature_split(df):\n",
    "    '''split the df provided into X features and y output'''\n",
    "    X = df.drop(['n_bikes','date','lat','lon'], axis=1)\n",
    "    y = df[['n_bikes']]\n",
    "    return X,y"
   ]
  },
  {
   "cell_type": "code",
   "execution_count": null,
   "id": "402d2528-3533-461c-b85b-3b3e5385d70a",
   "metadata": {},
   "outputs": [],
   "source": [
    "def add_missing_dow(df):\n",
    "    ''' add encoding for missing dow in testing dataset'''\n",
    "    all_dow=['Monday','Tuesday','Wednesday','Thursday','Friday','Saturday','Sunday']\n",
    "    dow = df.columns.drop(['n_bikes','id','date','hour','month','lat','lon']).to_list()\n",
    "    a = np.setdiff1d(all_dow,dow,assume_unique=False)\n",
    "    for i in a:\n",
    "        df_testing[i]=0\n",
    "    return df"
   ]
  },
  {
   "cell_type": "code",
   "execution_count": null,
   "id": "5ad432dc-87c3-4155-89f7-ff23e2022822",
   "metadata": {},
   "outputs": [],
   "source": [
    "# read table built by R ETL process in the database\n",
    "connection = psycopg2.connect(\n",
    "    user=\"content\",\n",
    "    password=db_password,\n",
    "    host=db_url,\n",
    "    port=\"5432\",\n",
    "    database=\"rds\")\n",
    "\n",
    "sql = \"select * from bike_model_data where date in (select distinct date from bike_model_data order by date desc limit 12);\"\n",
    "\n",
    "all_days = pd.read_sql_query(sql, connection)\n",
    "all_days.sort_values(by='date', inplace=True, ascending=False)\n",
    "all_days=all_days.reset_index(drop=True)\n",
    "all_days"
   ]
  },
  {
   "cell_type": "code",
   "execution_count": null,
   "id": "fb0d0d19-7d3c-4586-8a79-b9a9dcef4fcf",
   "metadata": {},
   "outputs": [],
   "source": [
    "# divide in training and testing datasets\n",
    "all_dates = all_days.date.unique()\n",
    "testing_dates = all_dates[0:3]\n",
    "training_dates = all_dates[3:]\n",
    "df_testing = all_days.loc[all_days['date'].isin(testing_dates)]\n",
    "df_training = all_days.loc[all_days['date'].isin(training_dates)]"
   ]
  },
  {
   "cell_type": "code",
   "execution_count": null,
   "id": "b36155f0-6117-4870-99ef-30f028a6e8ed",
   "metadata": {
    "tags": []
   },
   "outputs": [],
   "source": [
    "# build a random forest model\n",
    "df_training = add_dow_as_int(df_training)\n",
    "\n",
    "X_train,y_train = feature_split(df_training)\n",
    "\n",
    "from sklearn.ensemble import RandomForestRegressor\n",
    "regressor = RandomForestRegressor(n_estimators=100,random_state=0,n_jobs=-1)\n",
    "regressor.fit(X_train, y_train) "
   ]
  },
  {
   "cell_type": "code",
   "execution_count": null,
   "id": "b23cc484-8153-4f66-a3b6-1ac58e8c99c0",
   "metadata": {},
   "outputs": [],
   "source": [
    "# test the random forest model\n",
    "df_testing = add_dow_as_int(df_testing)\n",
    "df_testing = add_missing_dow(df_testing)\n",
    "X_test,y_test = feature_split(df_testing)\n",
    "y_pred = regressor.predict(X_test)"
   ]
  },
  {
   "cell_type": "code",
   "execution_count": null,
   "id": "ab5d1e17-0114-47c2-878f-79d72fc2b2f3",
   "metadata": {},
   "outputs": [],
   "source": [
    "# compare predictions\n",
    "test_mse = mean_squared_error(y_test,y_pred)\n",
    "rmse = sqrt(test_mse)\n",
    "print('RMSE: %f' % rmse)"
   ]
  },
  {
   "attachments": {},
   "cell_type": "markdown",
   "id": "055fd964-0478-4cb2-bb89-6fe6475d6da3",
   "metadata": {},
   "source": [
    "### vetiver deployment"
   ]
  },
  {
   "cell_type": "code",
   "execution_count": null,
   "id": "fd5657b5-a2d4-4115-b729-22adeeccf497",
   "metadata": {
    "tags": []
   },
   "outputs": [],
   "source": [
    "# convert the random forest model into a vetiver model\n",
    "v = VetiverModel(regressor,\"gagan/bikeshare-rf-python\",save_ptype=True, ptype_data=X_train)"
   ]
  },
  {
   "cell_type": "code",
   "execution_count": null,
   "id": "431d95b0-28c1-4f1a-af42-fae43c4dc7bc",
   "metadata": {},
   "outputs": [],
   "source": [
    "v"
   ]
  },
  {
   "cell_type": "code",
   "execution_count": null,
   "id": "aa856aef-8792-40ac-832f-f768e07811e1",
   "metadata": {},
   "outputs": [],
   "source": [
    "# create a board on RStudio Connect\n",
    "board = pins.board_rsconnect(server_url=\"https://colorado.posit.co/rsc\",\n",
    "                            allow_pickle_read=True)"
   ]
  },
  {
   "cell_type": "code",
   "execution_count": null,
   "id": "f194413b-8c71-487c-acef-305eef16b800",
   "metadata": {
    "collapsed": true,
    "jupyter": {
     "outputs_hidden": true
    },
    "tags": []
   },
   "outputs": [],
   "source": [
    "# write the vetiver model as pin to RStudio Connect\n",
    "pin_read_write.vetiver_pin_write(\n",
    "    board,\n",
    "    v\n",
    ")"
   ]
  },
  {
   "cell_type": "code",
   "execution_count": null,
   "id": "b720a03f-ccae-4a28-8d3e-80407a80e89c",
   "metadata": {
    "tags": []
   },
   "outputs": [],
   "source": [
    "# use Vetiver provided RStudio Connect deployment function \n",
    "# to deploy the model as a FASTApi\n",
    "deploy_rsconnect(\n",
    "    connect_server=connect_server,\n",
    "    board=board,\n",
    "    pin_name=\"gagan/bikeshare-rf-python\",\n",
    "    #python=\".bike_predict_python/bin/python\",\n",
    "    title = \"Random Forest model for Bikeshare Python\"\n",
    ")"
   ]
  }
 ],
 "metadata": {
  "kernelspec": {
   "display_name": "bike_predict_python",
   "language": "python",
   "name": "bike_predict_python"
  },
  "language_info": {
   "codemirror_mode": {
    "name": "ipython",
    "version": 3
   },
   "file_extension": ".py",
   "mimetype": "text/x-python",
   "name": "python",
   "nbconvert_exporter": "python",
   "pygments_lexer": "ipython3",
   "version": "3.10.4"
  }
 },
 "nbformat": 4,
 "nbformat_minor": 5
}
