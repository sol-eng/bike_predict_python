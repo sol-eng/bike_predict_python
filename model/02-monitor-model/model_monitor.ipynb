{
 "cells": [
  {
   "cell_type": "code",
   "execution_count": 1,
   "id": "e1d1ce9e-02cd-43bb-add2-c1dde9dca25f",
   "metadata": {},
   "outputs": [],
   "source": [
    "# placeholder nb"
   ]
  }
 ],
 "metadata": {
  "kernelspec": {
   "display_name": "bike_predict_python",
   "language": "python",
   "name": "bike_predict_python"
  },
  "language_info": {
   "codemirror_mode": {
    "name": "ipython",
    "version": 3
   },
   "file_extension": ".py",
   "mimetype": "text/x-python",
   "name": "python",
   "nbconvert_exporter": "python",
   "pygments_lexer": "ipython3",
   "version": "3.10.4"
  }
 },
 "nbformat": 4,
 "nbformat_minor": 5
}
